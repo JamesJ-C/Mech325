{
 "cells": [
  {
   "cell_type": "markdown",
   "metadata": {},
   "source": [
    "# V Belt Design script\n",
    "\n",
    "Follow the instructions. Thank Felix."
   ]
  },
  {
   "cell_type": "markdown",
   "metadata": {},
   "source": [
    "Provided constants go here: "
   ]
  },
  {
   "cell_type": "code",
   "execution_count": 9,
   "metadata": {},
   "outputs": [],
   "source": [
    "# Fill in these constants!\n",
    "\n",
    "H_in = 10   # horsepower\n",
    "\n",
    "# shaft speeds. n1 is the faster shaft.\n",
    "n1 = 1200   # RPM\n",
    "n2 = 500    # RPM"
   ]
  },
  {
   "cell_type": "markdown",
   "metadata": {},
   "source": [
    "### Select a service factor from this table: \n",
    "\n",
    "![V Belt Image](./images/V_Belt_SF.png)"
   ]
  },
  {
   "cell_type": "code",
   "execution_count": 10,
   "metadata": {},
   "outputs": [
    {
     "name": "stdout",
     "output_type": "stream",
     "text": [
      "Design horsepower: 15.0\n"
     ]
    }
   ],
   "source": [
    "# enter value here: \n",
    "SF = 1.5\n",
    "\n",
    "P_des = H_in * SF\n",
    "\n",
    "print(f'Design horsepower: {P_des}')"
   ]
  },
  {
   "cell_type": "markdown",
   "metadata": {},
   "source": [
    "### Select Belt type from this table\n",
    "Use the design horsepower printed above. If at the boundary between two different types of belts, be conservative and choose the larger\n",
    "one.\n",
    "\n",
    "![V Belt Image](./images/V_Belt_Type.png)"
   ]
  },
  {
   "cell_type": "code",
   "execution_count": 21,
   "metadata": {},
   "outputs": [
    {
     "name": "stdout",
     "output_type": "stream",
     "text": [
      "Velocity Ratio = 2.4\n"
     ]
    }
   ],
   "source": [
    "VR_guess = n1 / n2 \n",
    "\n",
    "print(f'Velocity Ratio = {VR_guess}')"
   ]
  },
  {
   "cell_type": "markdown",
   "metadata": {},
   "source": [
    "### Select the driving sheave size to produce a belt speed of 4000 ft/min \n",
    "(this is a standard speed we use since belt speed should not surpass 5000 ft/min, with a hard max at 6500 ft/min)"
   ]
  },
  {
   "cell_type": "code",
   "execution_count": 15,
   "metadata": {},
   "outputs": [
    {
     "name": "stdout",
     "output_type": "stream",
     "text": [
      "Drive sheave diameter = 6.666666666666667 inches\n"
     ]
    }
   ],
   "source": [
    "# adjust this value following the able guidlines if necessary. 4000 is default\n",
    "v_b = 4000\n",
    "\n",
    "# driving sheave diameter\n",
    "D1_guess = v_b * 2 / n1\n",
    "\n",
    "print(f'Estimated sheave diameter = {D1_guess} inches')"
   ]
  },
  {
   "cell_type": "markdown",
   "metadata": {},
   "source": [
    "### Select the appropriate small sheave diameter from the following tables. Select the closes value to the estimate above\n",
    "\n",
    "\n",
    "#### 3V belts\n",
    "![V Belt Image](./images/3V_DriveSheave.png)\n",
    "\n",
    "#### 5V belts\n",
    "![V Belt Image](./images/5V_DriveSheave.png)\n",
    "\n",
    "#### 8V belts\n",
    "![V Belt Image](./images/8V_DriveSheave.png)"
   ]
  },
  {
   "cell_type": "code",
   "execution_count": 17,
   "metadata": {},
   "outputs": [],
   "source": [
    "# fill in these values from the table above\n",
    "D1 = 10000  #inches\n",
    "P_rated = 100000"
   ]
  },
  {
   "cell_type": "code",
   "execution_count": 22,
   "metadata": {},
   "outputs": [
    {
     "name": "stdout",
     "output_type": "stream",
     "text": [
      "Estimated D2 = 24000.0 inches\n",
      "select the appropriate standard D2 from the table above\n"
     ]
    }
   ],
   "source": [
    "D2_guess = D1 * VR_guess\n",
    "\n",
    "print(f'Estimated D2 = {D2_guess} inches')\n",
    "print(f'select the appropriate standard D2 from the table above')"
   ]
  },
  {
   "cell_type": "code",
   "execution_count": null,
   "metadata": {},
   "outputs": [],
   "source": [
    "# fill in the from the table above\n",
    "D2 = 100000 \n",
    "\n",
    "\n",
    "VR = D2 / D1\n",
    "\n",
    "\n"
   ]
  }
 ],
 "metadata": {
  "kernelspec": {
   "display_name": "Python 3",
   "language": "python",
   "name": "python3"
  },
  "language_info": {
   "codemirror_mode": {
    "name": "ipython",
    "version": 3
   },
   "file_extension": ".py",
   "mimetype": "text/x-python",
   "name": "python",
   "nbconvert_exporter": "python",
   "pygments_lexer": "ipython3",
   "version": "3.11.4"
  }
 },
 "nbformat": 4,
 "nbformat_minor": 2
}
