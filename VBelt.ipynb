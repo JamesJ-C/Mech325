{
 "cells": [
  {
   "cell_type": "code",
   "execution_count": 31,
   "metadata": {},
   "outputs": [],
   "source": [
    "import numpy as np"
   ]
  },
  {
   "cell_type": "markdown",
   "metadata": {},
   "source": [
    "# V Belt Design Script\n",
    "\n",
    "Follow the instructions. Thank Felix.\n",
    "\n",
    "Felix takes no responsability for marks lost due to errors in this notebook, Fuck you."
   ]
  },
  {
   "cell_type": "markdown",
   "metadata": {},
   "source": [
    "Provided constants go here: "
   ]
  },
  {
   "cell_type": "code",
   "execution_count": 32,
   "metadata": {},
   "outputs": [],
   "source": [
    "# FILL IN ______________________________\n",
    "\n",
    "H_in = 50   # horsepower\n",
    "\n",
    "# shaft speeds. n1 is the faster shaft.\n",
    "n1 = 1160   # RPM\n",
    "n2 = 600    # RPM"
   ]
  },
  {
   "cell_type": "code",
   "execution_count": 33,
   "metadata": {},
   "outputs": [],
   "source": [
    "# use this function to linearly interpolate from graphs\n",
    "# known points are (x1, y1) and (x2, y2)\n",
    "# function returns the interpolated value associated with x3\n",
    "def linear_interpolate(x1, y1, x2, y2, x3):\n",
    "    # Ensure x1 and x2 are not the same to avoid division by zero\n",
    "    if x1 == x2:\n",
    "        raise ValueError(\"x1 and x2 cannot be the same value.\")\n",
    "    \n",
    "    y3 = y1 + (y2 - y1) * ((x3 - x1) / (x2 - x1))\n",
    "    return y3"
   ]
  },
  {
   "cell_type": "markdown",
   "metadata": {},
   "source": [
    "### Select a service factor from this table: \n",
    "\n",
    "![V Belt Image](./images/V_Belt_SF.png)"
   ]
  },
  {
   "cell_type": "code",
   "execution_count": 34,
   "metadata": {},
   "outputs": [
    {
     "name": "stdout",
     "output_type": "stream",
     "text": [
      "Design horsepower: 75.0\n"
     ]
    }
   ],
   "source": [
    "# FILL IN ______________________________\n",
    "SF = 1.5\n",
    "\n",
    "P_des = H_in * SF\n",
    "\n",
    "print(f'Design horsepower: {P_des}')"
   ]
  },
  {
   "cell_type": "markdown",
   "metadata": {},
   "source": [
    "### Select Belt type from this table\n",
    "Use the design horsepower printed above. If at the boundary between two different types of belts, be conservative and choose the larger\n",
    "one.\n",
    "\n",
    "![V Belt Image](./images/V_Belt_Type.png)"
   ]
  },
  {
   "cell_type": "code",
   "execution_count": 35,
   "metadata": {},
   "outputs": [
    {
     "name": "stdout",
     "output_type": "stream",
     "text": [
      "Velocity Ratio = 1.9333333333333333\n"
     ]
    }
   ],
   "source": [
    "VR_guess = n1 / n2 \n",
    "\n",
    "print(f'Velocity Ratio = {VR_guess}')"
   ]
  },
  {
   "cell_type": "markdown",
   "metadata": {},
   "source": [
    "### Select the driving sheave size to produce a belt speed of 4000 ft/min \n",
    "(this is a standard speed we use since belt speed should not surpass 5000 ft/min, with a hard max at 6500 ft/min)"
   ]
  },
  {
   "cell_type": "code",
   "execution_count": 36,
   "metadata": {},
   "outputs": [
    {
     "name": "stdout",
     "output_type": "stream",
     "text": [
      "Estimated small sheave diameter = 13.171443566225822 inches\n"
     ]
    }
   ],
   "source": [
    "# adjust this value following the above guidlines if necessary. 4000 is default\n",
    "v_b_guess = 4000\n",
    "\n",
    "# driving sheave diameter\n",
    "D1_guess = v_b_guess * 2 * 12 / n1 / (2 * np.pi)\n",
    "\n",
    "print(f'Estimated small sheave diameter = {D1_guess} inches')"
   ]
  },
  {
   "cell_type": "markdown",
   "metadata": {},
   "source": [
    "### Select the appropriate small sheave diameter from the following tables. Select the closest value to the estimate above\n",
    "\n",
    "\n",
    "#### 3V belts\n",
    "![V Belt Image](./images/3V_DriveSheave.png)\n",
    "\n",
    "#### 5V belts\n",
    "![V Belt Image](./images/5V_DriveSheave.png)\n",
    "\n",
    "#### 8V belts\n",
    "![V Belt Image](./images/8V_DriveSheave.png)"
   ]
  },
  {
   "cell_type": "code",
   "execution_count": 37,
   "metadata": {},
   "outputs": [],
   "source": [
    "# FILL IN ______________________________\n",
    "D1 = 13.1\n",
    "# FILL IN ______________________________\n",
    "P_rated = 28"
   ]
  },
  {
   "cell_type": "code",
   "execution_count": 38,
   "metadata": {},
   "outputs": [
    {
     "name": "stdout",
     "output_type": "stream",
     "text": [
      "Estimated D2 = 25.326666666666664 inches\n",
      "select the appropriate standard D2 from the table above\n"
     ]
    }
   ],
   "source": [
    "D2_guess = D1 * VR_guess\n",
    "\n",
    "print(f'Estimated D2 = {D2_guess} inches')\n",
    "print(f'select the appropriate standard D2 from the table above')"
   ]
  },
  {
   "cell_type": "code",
   "execution_count": 39,
   "metadata": {},
   "outputs": [
    {
     "name": "stdout",
     "output_type": "stream",
     "text": [
      "Actual Speed ratio VR: 2.114503816793893\n",
      "belt speed: 3978.303496995875 ft/min\n",
      "check that this value is around 4000 and must be less then 6500 ft/min\n"
     ]
    }
   ],
   "source": [
    "# FILL IN ______________________________\n",
    "D2 = 27.7\n",
    "\n",
    "\n",
    "VR = D2 / D1\n",
    "print(f'Actual Speed ratio VR: {VR}')\n",
    "\n",
    "v_b = D1 * n1 * 2 * np.pi / 2 / 12\n",
    "print(f'belt speed: {v_b} ft/min')\n",
    "print('check that this value is around 4000 and must be less then 6500 ft/min')"
   ]
  },
  {
   "cell_type": "markdown",
   "metadata": {},
   "source": [
    "### If the actual speed ratio is higher than 1, use the following table to find the power added\n",
    "The lines are the speed of the small shaft\n",
    "![V Belt Image](./images/P_added.png)"
   ]
  },
  {
   "cell_type": "code",
   "execution_count": 40,
   "metadata": {},
   "outputs": [
    {
     "name": "stdout",
     "output_type": "stream",
     "text": [
      "1.26\n"
     ]
    }
   ],
   "source": [
    "# example using linear interpolate to get value from table above\n",
    "print(linear_interpolate(1750, 1.9, 1160, 1.26, n1))"
   ]
  },
  {
   "cell_type": "code",
   "execution_count": 41,
   "metadata": {},
   "outputs": [
    {
     "name": "stdout",
     "output_type": "stream",
     "text": [
      "Total rated power: 29.26\n"
     ]
    }
   ],
   "source": [
    "\n",
    "\n",
    "# FILL IN ______________________________\n",
    "P_added = 1.26\n",
    "\n",
    "\n",
    "\n",
    "P_rated_total = P_added + P_rated\n",
    "\n",
    "print(f'Total rated power: {P_rated_total}')"
   ]
  },
  {
   "cell_type": "markdown",
   "metadata": {},
   "source": [
    "### We now estimate a trial center distance based on this equation\n",
    "The formula below will output a trial center distance in the exact center of this range\n",
    "\n",
    "![V Belt Image](./images/Trial_CD.png)"
   ]
  },
  {
   "cell_type": "code",
   "execution_count": 42,
   "metadata": {},
   "outputs": [
    {
     "name": "stdout",
     "output_type": "stream",
     "text": [
      "Cd must be between: 27.7 and 122.39999999999999\n",
      "Trial center distance: 75.05\n"
     ]
    }
   ],
   "source": [
    "CD_upperbound = 3 * (D2 + D1)\n",
    "CD_lowerbound = D2\n",
    "\n",
    "print(f'Cd must be between: {CD_lowerbound} and {CD_upperbound}')\n",
    "\n",
    "# adjust CD_trial manually if you want to\n",
    "CD_trial = (CD_upperbound + CD_lowerbound) / 2\n",
    "\n",
    "# you can just hard code the value of CD_trial if needed like below\n",
    "# CD_trial = 43\n",
    "\n",
    "print(f'Trial center distance: {CD_trial}')"
   ]
  },
  {
   "cell_type": "markdown",
   "metadata": {},
   "source": [
    "### Now we calculate LP from this formula\n",
    "\n",
    "![V Belt Image](./images/Lp_Formula.png)"
   ]
  },
  {
   "cell_type": "code",
   "execution_count": 43,
   "metadata": {},
   "outputs": [
    {
     "name": "stdout",
     "output_type": "stream",
     "text": [
      "Length from trial distance: 214.86605996002666\n"
     ]
    }
   ],
   "source": [
    "Lp_guess = 2*CD_trial + 1.57*(D2 + D1) + (D2 - D1)**2 / (4 * CD_trial)\n",
    "\n",
    "print(f'Length from trial distance: {Lp_guess}')"
   ]
  },
  {
   "cell_type": "markdown",
   "metadata": {},
   "source": [
    "### Choose the belt length from this table\n",
    "\n",
    "![V Belt Image](./images/belt_length.png)"
   ]
  },
  {
   "cell_type": "markdown",
   "metadata": {},
   "source": [
    "### Now we calculate the actual center distance from these formulas\n",
    "Fill in the selected belt length below\n",
    "\n",
    "![V Belt Image](./images/center_distance.png)"
   ]
  },
  {
   "cell_type": "code",
   "execution_count": 44,
   "metadata": {},
   "outputs": [
    {
     "name": "stdout",
     "output_type": "stream",
     "text": [
      "center distance: 73.61002484708638 inches\n"
     ]
    }
   ],
   "source": [
    "# FILL IN ______________________________\n",
    "Lp = 212\n",
    "\n",
    "\n",
    "B = 4 * Lp - 6.28*(D1 + D2)\n",
    "\n",
    "\n",
    "CD = (B + np.sqrt(B**2 - 32 * (D2 - D1)**2)) / 16\n",
    "\n",
    "print(f'center distance: {CD} inches')\n",
    "\n"
   ]
  },
  {
   "cell_type": "markdown",
   "metadata": {},
   "source": [
    "### Wrap angle calculations \n",
    "\n",
    "![V Belt Image](./images/small_wrap.png)\n",
    "\n",
    "![V Belt Image](./images/big_wrap.png)"
   ]
  },
  {
   "cell_type": "code",
   "execution_count": 45,
   "metadata": {},
   "outputs": [
    {
     "name": "stdout",
     "output_type": "stream",
     "text": [
      "Small sheave wrap angle: 168.61709839378625 degrees\n",
      "Big sheave wrap angle: 191.38290160621375 degrees\n"
     ]
    }
   ],
   "source": [
    "theta_1 = 180 - 2 * np.degrees(np.arcsin((D2 - D1) / (2 * CD)))\n",
    "\n",
    "theta_2 = 180 + 2 * np.degrees(np.arcsin((D2 - D1) / (2 * CD)))\n",
    "\n",
    "\n",
    "print(f'Small sheave wrap angle: {theta_1} degrees')\n",
    "\n",
    "print(f'Big sheave wrap angle: {theta_2} degrees')"
   ]
  },
  {
   "cell_type": "markdown",
   "metadata": {},
   "source": [
    "### Find these randomass correction factors\n",
    "Use the small sheave for the wrap correction factor\n",
    "\n",
    "![V Belt Image](./images/C_theta.png)\n",
    "\n",
    "![V Belt Image](./images/C_Lp.png)"
   ]
  },
  {
   "cell_type": "code",
   "execution_count": 51,
   "metadata": {},
   "outputs": [
    {
     "data": {
      "text/plain": [
       "0.9482727272727273"
      ]
     },
     "execution_count": 51,
     "metadata": {},
     "output_type": "execute_result"
    }
   ],
   "source": [
    "linear_interpolate(169, 0.95, 180, 1, 168.62)"
   ]
  },
  {
   "cell_type": "code",
   "execution_count": 46,
   "metadata": {},
   "outputs": [],
   "source": [
    "# FILL IN ______________________________\n",
    "C_theta = 0.948\n",
    "C_Lp = 1.1"
   ]
  },
  {
   "cell_type": "code",
   "execution_count": 60,
   "metadata": {},
   "outputs": [
    {
     "name": "stdout",
     "output_type": "stream",
     "text": [
      "corrected power rating: 28.164213000000004 HP\n",
      "we need 2.6629538698631485 belts\n",
      "round up! We need 3.0\n",
      "safety factor: 1.1265685200000002\n"
     ]
    }
   ],
   "source": [
    "corrected_power_rating = C_theta * C_Lp * P_rated_total\n",
    "print(f'corrected power rating: {corrected_power_rating} HP')\n",
    "\n",
    "num_belts = P_des / corrected_power_rating\n",
    "\n",
    "safety_factor = corrected_power_rating / P_des * np.ceil(num_belts)\n",
    "\n",
    "print(f'we need {num_belts} belts')\n",
    "print(f'round up! We need {np.ceil(num_belts)}')\n",
    "print(f'safety factor: {safety_factor}')"
   ]
  },
  {
   "cell_type": "code",
   "execution_count": 52,
   "metadata": {},
   "outputs": [
    {
     "name": "stdout",
     "output_type": "stream",
     "text": [
      "State you belt type: 3V, 5V, 8V\n",
      "D1: 13.1 inches\n",
      "D2: 27.7 inches\n",
      "VR: 2.114503816793893\n",
      "CD: 73.61002484708638\n",
      "3.0 belts needed\n"
     ]
    }
   ],
   "source": [
    "print(f'State you belt type: 3V, 5V, 8V')\n",
    "print(f'D1: {D1} inches')\n",
    "print(f'D2: {D2} inches')\n",
    "print(f'VR: {VR}')\n",
    "print(f'CD: {CD}')\n",
    "print(f'{np.ceil(num_belts)} belts needed')"
   ]
  }
 ],
 "metadata": {
  "kernelspec": {
   "display_name": "Python 3",
   "language": "python",
   "name": "python3"
  },
  "language_info": {
   "codemirror_mode": {
    "name": "ipython",
    "version": 3
   },
   "file_extension": ".py",
   "mimetype": "text/x-python",
   "name": "python",
   "nbconvert_exporter": "python",
   "pygments_lexer": "ipython3",
   "version": "3.11.9"
  }
 },
 "nbformat": 4,
 "nbformat_minor": 2
}
