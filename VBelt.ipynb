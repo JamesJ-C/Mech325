{
 "cells": [
  {
   "cell_type": "markdown",
   "metadata": {},
   "source": [
    "# V Belt Design script\n",
    "\n",
    "Follow the instructions. Thank Felix."
   ]
  },
  {
   "cell_type": "markdown",
   "metadata": {},
   "source": [
    "Provided constants go here: "
   ]
  },
  {
   "cell_type": "code",
   "execution_count": 25,
   "metadata": {},
   "outputs": [],
   "source": [
    "import numpy as np"
   ]
  },
  {
   "cell_type": "code",
   "execution_count": 9,
   "metadata": {},
   "outputs": [],
   "source": [
    "# FILL IN ______________________________\n",
    "\n",
    "H_in = 10   # horsepower\n",
    "\n",
    "# shaft speeds. n1 is the faster shaft.\n",
    "n1 = 1200   # RPM\n",
    "n2 = 500    # RPM"
   ]
  },
  {
   "cell_type": "markdown",
   "metadata": {},
   "source": [
    "### Select a service factor from this table: \n",
    "\n",
    "![V Belt Image](./images/V_Belt_SF.png)"
   ]
  },
  {
   "cell_type": "code",
   "execution_count": 10,
   "metadata": {},
   "outputs": [
    {
     "name": "stdout",
     "output_type": "stream",
     "text": [
      "Design horsepower: 15.0\n"
     ]
    }
   ],
   "source": [
    "# FILL IN ______________________________\n",
    "SF = 1.5\n",
    "\n",
    "P_des = H_in * SF\n",
    "\n",
    "print(f'Design horsepower: {P_des}')"
   ]
  },
  {
   "cell_type": "markdown",
   "metadata": {},
   "source": [
    "### Select Belt type from this table\n",
    "Use the design horsepower printed above. If at the boundary between two different types of belts, be conservative and choose the larger\n",
    "one.\n",
    "\n",
    "![V Belt Image](./images/V_Belt_Type.png)"
   ]
  },
  {
   "cell_type": "code",
   "execution_count": 21,
   "metadata": {},
   "outputs": [
    {
     "name": "stdout",
     "output_type": "stream",
     "text": [
      "Velocity Ratio = 2.4\n"
     ]
    }
   ],
   "source": [
    "VR_guess = n1 / n2 \n",
    "\n",
    "print(f'Velocity Ratio = {VR_guess}')"
   ]
  },
  {
   "cell_type": "markdown",
   "metadata": {},
   "source": [
    "### Select the driving sheave size to produce a belt speed of 4000 ft/min \n",
    "(this is a standard speed we use since belt speed should not surpass 5000 ft/min, with a hard max at 6500 ft/min)"
   ]
  },
  {
   "cell_type": "code",
   "execution_count": 26,
   "metadata": {},
   "outputs": [
    {
     "name": "stdout",
     "output_type": "stream",
     "text": [
      "Estimated sheave diameter = 12.732395447351628 inches\n"
     ]
    }
   ],
   "source": [
    "# adjust this value following the able guidlines if necessary. 4000 is default\n",
    "v_b_guess = 4000\n",
    "\n",
    "# driving sheave diameter\n",
    "D1_guess = v_b_guess * 2 * 12 / n1 / (2 * np.pi)\n",
    "\n",
    "print(f'Estimated sheave diameter = {D1_guess} inches')"
   ]
  },
  {
   "cell_type": "markdown",
   "metadata": {},
   "source": [
    "### Select the appropriate small sheave diameter from the following tables. Select the closest value to the estimate above\n",
    "\n",
    "\n",
    "#### 3V belts\n",
    "![V Belt Image](./images/3V_DriveSheave.png)\n",
    "\n",
    "#### 5V belts\n",
    "![V Belt Image](./images/5V_DriveSheave.png)\n",
    "\n",
    "#### 8V belts\n",
    "![V Belt Image](./images/8V_DriveSheave.png)"
   ]
  },
  {
   "cell_type": "code",
   "execution_count": 30,
   "metadata": {},
   "outputs": [],
   "source": [
    "# FILL IN ______________________________\n",
    "D1 = 5 \n",
    "# FILL IN ______________________________\n",
    "P_rated = 100000"
   ]
  },
  {
   "cell_type": "code",
   "execution_count": 22,
   "metadata": {},
   "outputs": [
    {
     "name": "stdout",
     "output_type": "stream",
     "text": [
      "Estimated D2 = 24000.0 inches\n",
      "select the appropriate standard D2 from the table above\n"
     ]
    }
   ],
   "source": [
    "D2_guess = D1 * VR_guess\n",
    "\n",
    "print(f'Estimated D2 = {D2_guess} inches')\n",
    "print(f'select the appropriate standard D2 from the table above')"
   ]
  },
  {
   "cell_type": "code",
   "execution_count": 31,
   "metadata": {},
   "outputs": [
    {
     "name": "stdout",
     "output_type": "stream",
     "text": [
      "Actual Speed ratio: 4.0\n",
      "belt speed: 1570.7963267948965 ft per min\n",
      "check that this value is between 4000 and 6500 ft/min\n"
     ]
    }
   ],
   "source": [
    "# FILL IN ______________________________\n",
    "D2 = 20 \n",
    "\n",
    "\n",
    "VR = D2 / D1\n",
    "print(f'Actual Speed ratio: {VR}')\n",
    "\n",
    "v_b = D1 * n1 * 2 * np.pi / 2 / 12\n",
    "print(f'belt speed: {v_b} ft per min')\n",
    "print('check that this value is between 4000 and 6500 ft/min')"
   ]
  },
  {
   "cell_type": "markdown",
   "metadata": {},
   "source": [
    "### If the actual speed ratio is higher than 1, use the following table to find the power added\n",
    "The lines are the speed of the small shaft\n",
    "![V Belt Image](./images/P_added.png)"
   ]
  },
  {
   "cell_type": "code",
   "execution_count": 32,
   "metadata": {},
   "outputs": [
    {
     "name": "stdout",
     "output_type": "stream",
     "text": [
      "Total rated power: 100100\n"
     ]
    }
   ],
   "source": [
    "# FILL IN ______________________________\n",
    "P_added = 100\n",
    "\n",
    "P_rated_total = P_added + P_rated\n",
    "\n",
    "print(f'Total rated power: {P_rated_total}')"
   ]
  },
  {
   "cell_type": "markdown",
   "metadata": {},
   "source": [
    "### We now estimate a trial center distance based on this equation\n",
    "The formula below will output a trial center distance in the exact center of this range\n",
    "\n",
    "![V Belt Image](./images/Trial_CD.png)"
   ]
  },
  {
   "cell_type": "code",
   "execution_count": 41,
   "metadata": {},
   "outputs": [
    {
     "name": "stdout",
     "output_type": "stream",
     "text": [
      "Cd must be between: 20 and 75\n",
      "Trial center distance: 47.5\n"
     ]
    }
   ],
   "source": [
    "CD_upperbound = 3 * (D2 + D1)\n",
    "CD_lowerbound = D2\n",
    "\n",
    "print(f'Cd must be between: {CD_lowerbound} and {CD_upperbound}')\n",
    "\n",
    "# adjust CD_trial manually if you want to\n",
    "CD_trial = (CD_upperbound + CD_lowerbound) / 2 \n",
    "\n",
    "print(f'Trial center distance: {CD_trial}')"
   ]
  },
  {
   "cell_type": "markdown",
   "metadata": {},
   "source": [
    "### Now we calculate LP from this formula\n",
    "\n",
    "![V Belt Image](./images/Lp_Formula.png)"
   ]
  },
  {
   "cell_type": "code",
   "execution_count": 35,
   "metadata": {},
   "outputs": [
    {
     "name": "stdout",
     "output_type": "stream",
     "text": [
      "Length from trial distance: 135.43421052631578\n"
     ]
    }
   ],
   "source": [
    "Lp_guess = 2*CD_trial + 1.57*(D2 + D1) + (D2 - D1)**2 / (4 * CD_trial)\n",
    "\n",
    "print(f'Length from trial distance: {Lp_guess}')"
   ]
  },
  {
   "cell_type": "markdown",
   "metadata": {},
   "source": [
    "### Choose the belt length from this table\n",
    "\n",
    "![V Belt Image](./images/belt_length.png)"
   ]
  },
  {
   "cell_type": "markdown",
   "metadata": {},
   "source": [
    "### Now we calculate the actual center distance from these formulas\n",
    "Fill in the selected belt length below\n",
    "\n",
    "![V Belt Image](./images/center_distance.png)"
   ]
  },
  {
   "cell_type": "code",
   "execution_count": 45,
   "metadata": {},
   "outputs": [
    {
     "name": "stdout",
     "output_type": "stream",
     "text": [
      "center distance: 27.53801238815621 inches\n"
     ]
    }
   ],
   "source": [
    "# FILL IN ______________________________\n",
    "Lp = 100\n",
    "\n",
    "\n",
    "B = 4 * Lp - 6.28*(D1 + D2)\n",
    "\n",
    "\n",
    "CD = (B + np.sqrt(B**2 - 32 * (D2 + D1)**2)) / 16\n",
    "\n",
    "print(f'center distance: {CD} inches')\n",
    "\n"
   ]
  },
  {
   "cell_type": "markdown",
   "metadata": {},
   "source": [
    "### Wrap angle calculations \n",
    "\n",
    "![V Belt Image](./images/small_wrap.png)\n",
    "\n",
    "![V Belt Image](./images/big_wrap.png)"
   ]
  },
  {
   "cell_type": "code",
   "execution_count": 46,
   "metadata": {},
   "outputs": [
    {
     "name": "stdout",
     "output_type": "stream",
     "text": [
      "Small sheave wrap angle: 148.3915964075226 degrees\n",
      "Big sheave wrap angle: 211.6084035924774 degrees\n"
     ]
    }
   ],
   "source": [
    "theta_1 = 180 - 2 * np.degrees(np.arcsin((D2 - D1) / (2 * CD)))\n",
    "\n",
    "theta_2 = 180 + 2 * np.degrees(np.arcsin((D2 - D1) / (2 * CD)))\n",
    "\n",
    "\n",
    "print(f'Small sheave wrap angle: {theta_1} degrees')\n",
    "\n",
    "print(f'Big sheave wrap angle: {theta_2} degrees')"
   ]
  },
  {
   "cell_type": "markdown",
   "metadata": {},
   "source": [
    "### Find these randomass correction factors\n",
    "Use the small sheave for the wrap correction factor\n",
    "\n",
    "![V Belt Image](./images/C_theta.png)\n",
    "\n",
    "![V Belt Image](./images/C_Lp.png)"
   ]
  },
  {
   "cell_type": "code",
   "execution_count": 52,
   "metadata": {},
   "outputs": [],
   "source": [
    "# FILL IN ______________________________\n",
    "C_theta = 1\n",
    "C_Lp = 1"
   ]
  },
  {
   "cell_type": "code",
   "execution_count": 53,
   "metadata": {},
   "outputs": [
    {
     "name": "stdout",
     "output_type": "stream",
     "text": [
      "corrected power rating: 100100 HP\n",
      "we need 0.00014985014985014985 belts\n",
      "round up! We need 1.0\n"
     ]
    }
   ],
   "source": [
    "corrected_power_rating = C_theta * C_Lp * P_rated_total\n",
    "print(f'corrected power rating: {corrected_power_rating} HP')\n",
    "\n",
    "num_belts = P_des / corrected_power_rating\n",
    "print(f'we need {num_belts} belts')\n",
    "print(f'round up! We need {np.ceil(num_belts)}')"
   ]
  }
 ],
 "metadata": {
  "kernelspec": {
   "display_name": "Python 3",
   "language": "python",
   "name": "python3"
  },
  "language_info": {
   "codemirror_mode": {
    "name": "ipython",
    "version": 3
   },
   "file_extension": ".py",
   "mimetype": "text/x-python",
   "name": "python",
   "nbconvert_exporter": "python",
   "pygments_lexer": "ipython3",
   "version": "3.11.4"
  }
 },
 "nbformat": 4,
 "nbformat_minor": 2
}
