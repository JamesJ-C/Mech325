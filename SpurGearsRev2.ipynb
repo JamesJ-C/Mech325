{
 "cells": [
  {
   "cell_type": "code",
   "execution_count": 1,
   "metadata": {},
   "outputs": [],
   "source": [
    "import numpy as np\n",
    "import matplotlib.pyplot as plt\n",
    "\n",
    "import sympy as sp"
   ]
  },
  {
   "cell_type": "markdown",
   "metadata": {},
   "source": [
    "## Things which are given / can be calculated "
   ]
  },
  {
   "cell_type": "code",
   "execution_count": 3,
   "metadata": {},
   "outputs": [],
   "source": [
    "P_d = sp.symbols('P_d')\n",
    "D_p, D_g = sp.symbols('D_p D_g')\n",
    "N_p, N_g = sp.symbols('N_p N_g') \n",
    "C, F = sp.symbols('C F')\n",
    "n_p, n_g, n_g_guess = sp.symbols('n_p n_g n_g_guess')\n",
    "VR, VR_guess, v_t = sp.symbols('VR VR_guess v_t')\n",
    "power, lifetime = sp.symbols('power lifetime')\n",
    "\n",
    "\n",
    "#enter givens\n",
    "# P_d = None\n",
    "# D_p = None\n",
    "# D_g = None\n",
    "# N_p = None\n",
    "# N_g = None\n",
    "# n_p = None \n",
    "# n_g = None\n",
    "# n_g_guess = None\n",
    "# VR = None\n",
    "# F = None\n",
    "# power = None \n",
    "# lifetime = None\n",
    "\n"
   ]
  },
  {
   "cell_type": "markdown",
   "metadata": {},
   "source": [
    "Things to find from a table"
   ]
  },
  {
   "cell_type": "code",
   "execution_count": 4,
   "metadata": {},
   "outputs": [],
   "source": [
    "J_p = None\n",
    "J_g = None\n",
    "\n",
    "\n",
    "#some of these might be equations\n",
    "k_o = None\n",
    "k_s = None\n",
    "k_m = None\n",
    "k_B = None\n",
    "k_v = None\n",
    "k_R = None\n",
    "\n",
    "safety_factor = 1\n"
   ]
  },
  {
   "cell_type": "markdown",
   "metadata": {},
   "source": [
    "## Prelim calculations\n",
    "VR, N_g, D_g, P_d etc"
   ]
  },
  {
   "cell_type": "code",
   "execution_count": 5,
   "metadata": {},
   "outputs": [],
   "source": [
    "\n",
    "eq1 = sp.Eq(VR_guess, n_p / n_g_guess)\n",
    "#eq2 = sp.Eq(N_g, round(N_p * VR_guess))\n",
    "eq3 = sp.Eq(VR, N_g / N_p)\n",
    "eq4 = sp.Eq(n_g, n_p / VR)\n",
    "\n",
    "\n",
    "eq5 = sp.Eq(D_p, N_p / P_d)\n",
    "eq6 = sp.Eq(D_g, N_g / P_d)\n",
    "eq7 = sp.Eq(C, (N_p + N_g) / (2 * P_d))\n",
    "eq8 = sp.Eq(v_t, np.pi * D_p * n_p / 12)\n",
    "\n"
   ]
  },
  {
   "cell_type": "code",
   "execution_count": 5,
   "metadata": {},
   "outputs": [],
   "source": [
    "# # Define a dictionary to store known values\n",
    "# known_values = {}\n",
    "\n",
    "# # Function to input known values\n",
    "# def input_known_values():\n",
    "#     global known_values\n",
    "#     variables = [P_d, D_p, D_g, N_p, N_g, n_p, n_g, n_g_guess, VR, VR_guess, v_t, C, F, power, lifetime]\n",
    "#     for var in variables:\n",
    "#         value = input(f\"Enter value for {var} (or press Enter to leave unknown): \")\n",
    "#         if value:\n",
    "#             known_values[var] = float(value)\n",
    "\n",
    "# # Function to solve equations\n",
    "# def solve_equations():\n",
    "#     equations = [eq1, eq3, eq4, eq5, eq6, eq7, eq8]\n",
    "#     solutions = sp.solve(equations, dict=True)\n",
    "#     for solution in solutions:\n",
    "#         for var, expr in solution.items():\n",
    "#             if var not in known_values:\n",
    "#                 known_values[var] = expr.subs(known_values)\n",
    "#     return known_values\n",
    "\n",
    "# # Input known values1\n",
    "# input_known_values()\n",
    "\n",
    "# # Solve equations\n",
    "# solutions = solve_equations()\n",
    "\n",
    "# # Display solutions\n",
    "# for var, value in solutions.items():\n",
    "\n",
    "#     print(f\"{var} = {value}\")"
   ]
  },
  {
   "cell_type": "markdown",
   "metadata": {},
   "source": [
    "## Enter known values here "
   ]
  },
  {
   "cell_type": "code",
   "execution_count": 7,
   "metadata": {},
   "outputs": [
    {
     "data": {
      "text/plain": [
       "({P_d: 10,\n",
       "  D_p: nan,\n",
       "  D_g: nan,\n",
       "  C: nan,\n",
       "  N_p: 19,\n",
       "  N_g: nan,\n",
       "  n_p: 380,\n",
       "  n_g: nan,\n",
       "  n_g_guess: 387,\n",
       "  VR: nan,\n",
       "  VR_guess: nan,\n",
       "  v_t: nan,\n",
       "  F: nan,\n",
       "  power: nan,\n",
       "  lifetime: nan},\n",
       " 15)"
      ]
     },
     "execution_count": 7,
     "metadata": {},
     "output_type": "execute_result"
    }
   ],
   "source": [
    "all_values = {\n",
    "    P_d: 10,\n",
    "    D_p: sp.nan,\n",
    "    D_g: sp.nan,\n",
    "    C: sp.nan,\n",
    "    N_p: 19,\n",
    "    N_g: sp.nan,\n",
    "    n_p: 380,\n",
    "    n_g: sp.nan,\n",
    "    n_g_guess: 387,\n",
    "    VR: sp.nan,\n",
    "    VR_guess: sp.nan,\n",
    "    v_t: sp.nan,\n",
    "    F: sp.nan,\n",
    "    power: sp.nan,\n",
    "    lifetime: sp.nan\n",
    "}\n",
    "\n",
    "all_values, len(all_values)"
   ]
  },
  {
   "cell_type": "code",
   "execution_count": 13,
   "metadata": {},
   "outputs": [
    {
     "name": "stdout",
     "output_type": "stream",
     "text": [
      "P_d = 10\n",
      "N_p = 0.10051891142646*v_t\n",
      "n_p = 380\n",
      "n_g_guess = 387\n",
      "C = 0.00502594557132302*v_t*(n_g + 380)/n_g\n",
      "D_g = 3.81971863420549*v_t/n_g\n",
      "D_p = 0.010051891142646*v_t\n",
      "N_g = 38.1971863420549*v_t/n_g\n",
      "VR = 380/n_g\n",
      "VR_guess = 380/387\n"
     ]
    }
   ],
   "source": [
    "\n",
    "known_values = {}\n",
    "\n",
    "for var, value in all_values.items():\n",
    "    if value is not sp.nan:\n",
    "        known_values[var] = value\n",
    "\n",
    "# Solve equations with known values\n",
    "solutions = sp.solve([eq1, eq3, eq4, eq5, eq6, eq7, eq8], dict=True)\n",
    "\n",
    "# Update known values with solutions\n",
    "for solution in solutions:\n",
    "    for var, expr in solution.items():\n",
    "        if expr is not None:\n",
    "            known_values[var] = expr.subs(known_values)\n",
    "            \n",
    "\n",
    "# Display updated solutions\n",
    "for var, value in known_values.items():\n",
    "    print(f\"{var} = {value}\")\n",
    "\n",
    "\n",
    "\n",
    "\n"
   ]
  },
  {
   "cell_type": "code",
   "execution_count": 23,
   "metadata": {},
   "outputs": [
    {
     "data": {
      "text/plain": [
       "{None: D_p, C: nan, VR_guess: nan, v_t: nan}"
      ]
     },
     "execution_count": 23,
     "metadata": {},
     "output_type": "execute_result"
    }
   ],
   "source": []
  },
  {
   "cell_type": "markdown",
   "metadata": {},
   "source": [
    "## Force calculations"
   ]
  },
  {
   "cell_type": "markdown",
   "metadata": {},
   "source": [
    "## Calulating correction Factors"
   ]
  },
  {
   "cell_type": "markdown",
   "metadata": {},
   "source": [
    "## Loading Cycles\n",
    "Z_**, Y_**"
   ]
  },
  {
   "cell_type": "markdown",
   "metadata": {},
   "source": [
    "## Stresses and allowable Stresses"
   ]
  },
  {
   "cell_type": "markdown",
   "metadata": {},
   "source": [
    "## Brinell Hardness Calculations"
   ]
  }
 ],
 "metadata": {
  "kernelspec": {
   "display_name": "Python 3",
   "language": "python",
   "name": "python3"
  },
  "language_info": {
   "codemirror_mode": {
    "name": "ipython",
    "version": 3
   },
   "file_extension": ".py",
   "mimetype": "text/x-python",
   "name": "python",
   "nbconvert_exporter": "python",
   "pygments_lexer": "ipython3",
   "version": "3.11.9"
  }
 },
 "nbformat": 4,
 "nbformat_minor": 2
}
