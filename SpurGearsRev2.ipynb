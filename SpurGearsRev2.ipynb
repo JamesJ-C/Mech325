{
 "cells": [
  {
   "cell_type": "code",
   "execution_count": 139,
   "metadata": {},
   "outputs": [],
   "source": [
    "import numpy as np\n",
    "import matplotlib.pyplot as plt\n",
    "\n",
    "import math\n",
    "\n",
    "import sympy as sp"
   ]
  },
  {
   "cell_type": "markdown",
   "metadata": {},
   "source": [
    "## Things which are given / can be calculated "
   ]
  },
  {
   "cell_type": "code",
   "execution_count": 140,
   "metadata": {},
   "outputs": [
    {
     "data": {
      "text/plain": [
       "({P_d: 12,\n",
       "  D_p: nan,\n",
       "  D_g: nan,\n",
       "  C: nan,\n",
       "  N_p: 19,\n",
       "  N_g: nan,\n",
       "  N_g_guess: nan,\n",
       "  n_p: 1200,\n",
       "  n_g: nan,\n",
       "  n_g_guess: 387,\n",
       "  VR: nan,\n",
       "  VR_guess: nan,\n",
       "  v_t: nan,\n",
       "  F: nan,\n",
       "  power: 5,\n",
       "  lifetime: 15000,\n",
       "  W_t: nan},\n",
       " 17)"
      ]
     },
     "execution_count": 140,
     "metadata": {},
     "output_type": "execute_result"
    }
   ],
   "source": [
    "P_d_sp = sp.symbols('P_d')\n",
    "D_p_sp, D_g_sp = sp.symbols('D_p D_g')\n",
    "N_p_sp, N_g_sp, N_g_guess_sp = sp.symbols('N_p N_g, N_g_guess') \n",
    "C_sp, F_sp = sp.symbols('C F')\n",
    "n_p_sp, n_g_sp, n_g_guess_sp = sp.symbols('n_p n_g n_g_guess')\n",
    "VR_sp, VR_guess_sp, v_t_sp = sp.symbols('VR VR_guess v_t')\n",
    "power_sp, lifetime_sp = sp.symbols('power lifetime')\n",
    "W_t_sp = sp.symbols('W_t')\n",
    "\n",
    "\n",
    "#enter given values\n",
    "\n",
    "uk = sp.nan\n",
    "all_values = {\n",
    "    P_d_sp: 12,\n",
    "    D_p_sp: sp.nan,\n",
    "    D_g_sp: uk,\n",
    "    C_sp: sp.nan,\n",
    "    N_p_sp: 19,\n",
    "    N_g_sp: uk,\n",
    "    N_g_guess_sp: uk,\n",
    "    n_p_sp: 1200,\n",
    "    n_g_sp: uk,\n",
    "    n_g_guess_sp: 387,\n",
    "    VR_sp: sp.nan,\n",
    "    VR_guess_sp: sp.nan,\n",
    "    v_t_sp: sp.nan,\n",
    "    F_sp: sp.nan,\n",
    "    power_sp: 5,\n",
    "    lifetime_sp: 15000,\n",
    "    W_t_sp: sp.nan,\n",
    "}\n",
    "\n",
    "# To have in case\n",
    "# all_values = {\n",
    "#     P_d: 10,\n",
    "#     D_p: sp.nan,\n",
    "#     D_g: sp.nan,\n",
    "#     C: sp.nan,\n",
    "#     N_p: 17,\n",
    "#     N_g: 54,\n",
    "#     n_p: 1200,\n",
    "#     n_g: sp.nan,\n",
    "#     n_g_guess: 387,\n",
    "#     VR: sp.nan,\n",
    "#     VR_guess: sp.nan,\n",
    "#     v_t: sp.nan,\n",
    "#     F: sp.nan,\n",
    "#     power: sp.nan,\n",
    "#     lifetime: sp.nan\n",
    "# }\n",
    "\n",
    "all_values, len(all_values)\n"
   ]
  },
  {
   "cell_type": "markdown",
   "metadata": {},
   "source": [
    "## Things to find from a table\n",
    "\n",
    "some, like Y,Z can only be found later, tbd how to handle this"
   ]
  },
  {
   "cell_type": "code",
   "execution_count": 141,
   "metadata": {},
   "outputs": [],
   "source": [
    "J_p = 0.34\n",
    "J_G = 0.41\n",
    "\n",
    "I = 0.1\n",
    "\n",
    "C_p = 2300 #for steel\n",
    "\n",
    "k_o = 1.5\n",
    "k_s = 1.0\n",
    "\n",
    "k_B = 1.0\n",
    "k_v = 1.25\n",
    "k_R = 1.0\n",
    "\n",
    "\n",
    "#Need cycles to find, but these are not calculated until later\n",
    "#im not sure the best way to handle this\n",
    "Y_np = 0.95\n",
    "Y_ng = 1.0\n",
    "\n",
    "Z_np = 0.898\n",
    "Z_ng = 0.922\n",
    "\n",
    "\n",
    "#for C_ma\n",
    "cond = \"commercial Enclosed\".upper()\n",
    "# cond = \"precision\".upper()\n",
    "# cond = \"extra\".upper()\n",
    "\n",
    "safety_factor = 1\n"
   ]
  },
  {
   "cell_type": "markdown",
   "metadata": {},
   "source": [
    "## Create the equations"
   ]
  },
  {
   "cell_type": "code",
   "execution_count": 142,
   "metadata": {},
   "outputs": [],
   "source": [
    "\n",
    "eq1 = sp.Eq(VR_guess_sp, n_p_sp / n_g_guess_sp)\n",
    "eq2 = sp.Eq(N_g_guess_sp, N_p_sp * VR_guess_sp)\n",
    "\n",
    "eq3 = sp.Eq(VR_sp, N_g_sp / N_p_sp)\n",
    "\n",
    "\n",
    "eq4 = sp.Eq(n_g_sp, n_p_sp / VR_sp)\n",
    "eq5 = sp.Eq(D_p_sp, N_p_sp / P_d_sp)\n",
    "eq6 = sp.Eq(D_g_sp, N_g_sp / P_d_sp)\n",
    "eq7 = sp.Eq(C_sp, (N_p_sp + N_g_sp) / (2 * P_d_sp))\n",
    "eq8 = sp.Eq(v_t_sp, np.pi * D_p_sp * n_p_sp / 12)\n",
    "eq9 = sp.Eq(W_t_sp, 33000 * power_sp / v_t_sp)\n",
    "eq10 = sp.Eq(F_sp, 12 / P_d_sp)\n",
    "eq11 = sp.Eq(VR_sp, n_p_sp / n_g_sp)\n",
    "\n",
    "\n"
   ]
  },
  {
   "cell_type": "markdown",
   "metadata": {},
   "source": [
    "## Solve the equations "
   ]
  },
  {
   "cell_type": "code",
   "execution_count": 143,
   "metadata": {},
   "outputs": [],
   "source": [
    "#creates a thing of all the non-nan values\n",
    "known_values = {}\n",
    "\n",
    "for var, value in all_values.items():\n",
    "    if value is not sp.nan:\n",
    "        known_values[var] = value\n"
   ]
  },
  {
   "cell_type": "markdown",
   "metadata": {},
   "source": [
    "Solve the equations for VR_guess, n_g_guess, N_p, n_g"
   ]
  },
  {
   "cell_type": "code",
   "execution_count": 144,
   "metadata": {},
   "outputs": [
    {
     "data": {
      "text/plain": [
       "{P_d: 12,\n",
       " N_p: 19,\n",
       " n_p: 1200,\n",
       " n_g_guess: 387,\n",
       " power: 5,\n",
       " lifetime: 15000,\n",
       " N_g_guess: 7600/129,\n",
       " VR_guess: 400/129}"
      ]
     },
     "execution_count": 144,
     "metadata": {},
     "output_type": "execute_result"
    }
   ],
   "source": [
    "# Solve equations eq1 and eq2\n",
    "solutions_eq1_eq2 = sp.solve([eq1, eq2], dict=True)\n",
    "\n",
    "# Display the solutions\n",
    "# for solution in solutions_eq1_eq2:\n",
    "#     for var, expr in solution.items():\n",
    "#         print(f\"{var} = {expr}\")\n",
    "\n",
    "\n",
    "for solution in solutions_eq1_eq2:\n",
    "        for var, expr in solution.items():\n",
    "            if var not in known_values or known_values[var] is sp.nan:\n",
    "                known_values[var] = expr.subs(known_values)\n",
    "\n",
    "\n",
    "\n",
    "\n",
    "\n",
    "known_values\n",
    "\n",
    "\n"
   ]
  },
  {
   "cell_type": "code",
   "execution_count": 145,
   "metadata": {},
   "outputs": [
    {
     "data": {
      "text/plain": [
       "{P_d: 12,\n",
       " N_p: 19,\n",
       " n_p: 1200,\n",
       " n_g_guess: 387,\n",
       " power: 5,\n",
       " lifetime: 15000,\n",
       " N_g_guess: 7600/129,\n",
       " VR_guess: 400/129,\n",
       " N_g: 59.0000000000000,\n",
       " VR: 3.10526315789474}"
      ]
     },
     "execution_count": 145,
     "metadata": {},
     "output_type": "execute_result"
    }
   ],
   "source": [
    "\n",
    "if known_values[N_g_guess_sp] == sp.nan:  \n",
    "    a = sp.nan\n",
    "else:\n",
    "    known_values[N_g_sp] = round(known_values[N_g_guess_sp], 0)\n",
    "# known_values[N_g_sp]\n",
    "\n",
    "# Solve equation eq3 with the updated known values\n",
    "\n",
    "if all_values[n_g_guess_sp] == sp.nan:\n",
    "    pass\n",
    "\n",
    "else:\n",
    "\n",
    "    solution_eq3 = sp.solve(eq3.subs(known_values), dict=True)\n",
    "\n",
    "    # Update known values with the solution of eq3\n",
    "    for sol in solution_eq3:\n",
    "        for var, expr in sol.items():\n",
    "            if var not in known_values or known_values[var] is sp.nan:\n",
    "                known_values[var] = expr.subs(known_values)\n",
    "\n",
    "known_values\n",
    "\n",
    "\n"
   ]
  },
  {
   "cell_type": "markdown",
   "metadata": {},
   "source": [
    "#### Solve the equations multiple times bc some of them depend on others"
   ]
  },
  {
   "cell_type": "code",
   "execution_count": 147,
   "metadata": {},
   "outputs": [
    {
     "name": "stdout",
     "output_type": "stream",
     "text": [
      "1\n",
      "Run interation: 1\n",
      "0\n",
      "P_d = 12\n",
      "N_p = 19\n",
      "n_p = 1200\n",
      "n_g_guess = 387\n",
      "power = 5\n",
      "lifetime = 15000\n",
      "N_g_guess = 7600/129\n",
      "VR_guess = 400/129\n",
      "N_g = 59.0000000000000\n",
      "VR = 3.10526315789474\n",
      "C = 3.25000000000000\n",
      "D_g = 4.91666666666667\n",
      "D_p = 1.58333333333333\n",
      "F = 1.00000000000000\n",
      "W_t = 331.712407707319\n",
      "n_g = 386.440677966102\n",
      "v_t = 497.418836818383\n"
     ]
    }
   ],
   "source": [
    "# Iteratively solve equations until all variables are found\n",
    "\n",
    "run_count = 0\n",
    "while True:\n",
    "\n",
    "    previous_known_values = known_values.copy()\n",
    "    \n",
    "    # Solve equations with current known values\n",
    "\n",
    "    #if all_values[n_g_guess_sp] == sp.nan:\n",
    "    solutions = sp.solve([eq4.subs(known_values), eq5.subs(known_values), eq6.subs(known_values), eq7.subs(known_values), eq8.subs(known_values), eq9.subs(known_values), eq10.subs(known_values)], dict=True)\n",
    "    \n",
    "    # else:\n",
    "    #     solutions = sp.solve([eq4.subs(known_values), eq5.subs(known_values), eq6.subs(known_values), eq7.subs(known_values), eq8.subs(known_values), eq9.subs(known_values), eq10.subs(known_values)], dict=True)\n",
    "\n",
    "    # Update known values with solutions\n",
    "    print(len(solutions))\n",
    "    for solution in solutions:\n",
    "\n",
    "        for var, expr in solution.items():\n",
    "\n",
    "            if var not in known_values or known_values[var] is sp.nan:\n",
    "                known_values[var] = expr.subs(known_values)    \n",
    "\n",
    "    # Break if no new values are found\n",
    "    if known_values == previous_known_values:\n",
    "        break\n",
    "    else:\n",
    "        run_count += 1\n",
    "        print(f\"Run interation: {run_count}\")\n",
    "\n",
    "    if run_count > 5:\n",
    "        break\n",
    "\n",
    "# Display updated solutions\n",
    "for var, value in known_values.items():\n",
    "    print(f\"{var} = {value}\")\n"
   ]
  },
  {
   "cell_type": "markdown",
   "metadata": {},
   "source": [
    "### Lists each variable and its equation \n",
    "not the greatest format "
   ]
  },
  {
   "cell_type": "markdown",
   "metadata": {},
   "source": [
    "#### Assign each variable a value, eventually these should all be numbers"
   ]
  },
  {
   "cell_type": "code",
   "execution_count": 171,
   "metadata": {},
   "outputs": [
    {
     "data": {
      "text/plain": [
       "{P_d: 12,\n",
       " D_p: 1.58333333333333,\n",
       " D_g: 4.91666666666667,\n",
       " C: 3.25000000000000,\n",
       " N_p: 19,\n",
       " N_g: 59.0000000000000,\n",
       " N_g_guess: 7600/129,\n",
       " n_p: 1200,\n",
       " n_g: 386.440677966102,\n",
       " n_g_guess: 387,\n",
       " VR: 3.10526315789474,\n",
       " VR_guess: 400/129,\n",
       " v_t: 497.418836818383,\n",
       " F: 1.00000000000000,\n",
       " power: 5,\n",
       " lifetime: 15000,\n",
       " W_t: 331.712407707319}"
      ]
     },
     "execution_count": 171,
     "metadata": {},
     "output_type": "execute_result"
    }
   ],
   "source": [
    "# assert(len(known_values) == len(all_values))\n",
    "len(known_values), len(all_values)\n",
    "# known_values\n",
    "\n",
    "for var, value in known_values.items():\n",
    "    all_values[var] = value\n",
    "\n",
    "\n",
    "P_d = all_values[P_d_sp]\n",
    "D_p = all_values[D_p_sp]\n",
    "D_g = all_values[D_g_sp]\n",
    "C = all_values[C_sp]\n",
    "N_p = all_values[N_p_sp]\n",
    "N_g = all_values[N_g_sp]\n",
    "n_p = all_values[n_p_sp]\n",
    "n_g = all_values[n_g_sp]\n",
    "n_g_guess = all_values[n_g_guess_sp]\n",
    "VR = all_values[VR_sp]\n",
    "VR_guess = all_values[VR_guess_sp]\n",
    "v_t = all_values[v_t_sp]\n",
    "F = all_values[F_sp]\n",
    "power = all_values[power_sp]\n",
    "lifetime = int(all_values[lifetime_sp])\n",
    "W_t = all_values[W_t_sp]\n",
    "\n",
    "all_values"
   ]
  },
  {
   "cell_type": "markdown",
   "metadata": {},
   "source": [
    "### Final assorted Calculations"
   ]
  },
  {
   "cell_type": "code",
   "execution_count": 150,
   "metadata": {},
   "outputs": [
    {
     "data": {
      "text/latex": [
       "$\\displaystyle 1.0$"
      ],
      "text/plain": [
       "1.00000000000000"
      ]
     },
     "execution_count": 150,
     "metadata": {},
     "output_type": "execute_result"
    }
   ],
   "source": [
    "if F is sp.nan:\n",
    "    # print(F_sp)\n",
    "    F = 12 / P_d\n",
    "\n",
    "assert(F < 2 * D_p)\n",
    "assert(F > 0.5 * D_p)\n",
    "F"
   ]
  },
  {
   "cell_type": "markdown",
   "metadata": {},
   "source": [
    "## Calulating correction Factors"
   ]
  },
  {
   "cell_type": "markdown",
   "metadata": {},
   "source": [
    "### Calculate $C_{pf}$"
   ]
  },
  {
   "cell_type": "code",
   "execution_count": 151,
   "metadata": {},
   "outputs": [
    {
     "data": {
      "text/latex": [
       "$\\displaystyle 0.0381578947368421$"
      ],
      "text/plain": [
       "0.0381578947368421"
      ]
     },
     "execution_count": 151,
     "metadata": {},
     "output_type": "execute_result"
    }
   ],
   "source": [
    "#C_pf\n",
    "C_pf = None\n",
    "\n",
    "if F / D_p < 0.5:\n",
    "    assert(False)\n",
    "    #use graph\n",
    "elif F <= 1.0:\n",
    "    C_pf = F / (10 * D_p) - 0.025\n",
    "elif F <= 15:\n",
    "    C_pf = F / (10 * D_p) - 0.0375 + 0.0125 * F\n",
    "\n",
    "assert(C_pf is not None)\n",
    "\n",
    "C_pf"
   ]
  },
  {
   "cell_type": "markdown",
   "metadata": {},
   "source": [
    "### Calculate $C_{ma}$"
   ]
  },
  {
   "cell_type": "code",
   "execution_count": 152,
   "metadata": {},
   "outputs": [
    {
     "data": {
      "text/latex": [
       "$\\displaystyle 0.1426907$"
      ],
      "text/plain": [
       "0.142690700000000"
      ]
     },
     "execution_count": 152,
     "metadata": {},
     "output_type": "execute_result"
    }
   ],
   "source": [
    "#C_ma\n",
    "\n",
    "assert(cond is not None)\n",
    "\n",
    "C_ma = None\n",
    "\n",
    "if cond == \"commercial enclosed\".upper():\n",
    "    C_ma = 0.127 + 0.0158 * F - 1.093 * 10**-4 * F**2\n",
    "elif cond == \"precision\".upper():\n",
    "    C_ma = 0.0675 + 0.0128 * F - 0.926 * 10**-4 * F**2\n",
    "elif cond == \"extra\".upper():\n",
    "    C_ma = 0.0380 + 0.0102 * F - 0.822 * 10**-4 * F**2\n",
    "\n",
    "assert(C_ma is not None)\n",
    "C_ma"
   ]
  },
  {
   "cell_type": "code",
   "execution_count": 153,
   "metadata": {},
   "outputs": [],
   "source": [
    "k_m = 1 + C_ma + C_pf"
   ]
  },
  {
   "cell_type": "markdown",
   "metadata": {},
   "source": [
    "## Loading Cycles $N_{cp}, N_{cg}$"
   ]
  },
  {
   "cell_type": "code",
   "execution_count": 169,
   "metadata": {},
   "outputs": [
    {
     "name": "stdout",
     "output_type": "stream",
     "text": [
      "N_cp: 1.08e+09, N_cg: 3.48e+8\n"
     ]
    }
   ],
   "source": [
    "# Number of cycles\n",
    "\n",
    "N_cp = 60 * lifetime * n_p\n",
    "N_cg = 60 * lifetime * n_g\n",
    "\n",
    "print(f\"N_cp: {N_cp:.2e}, N_cg: {N_cg:.2e}\")"
   ]
  },
  {
   "cell_type": "markdown",
   "metadata": {},
   "source": [
    "### *** Implement $Y_{xx}$  and $Z_{xx}$"
   ]
  },
  {
   "cell_type": "markdown",
   "metadata": {},
   "source": [
    "Put all the graphs here"
   ]
  },
  {
   "cell_type": "markdown",
   "metadata": {},
   "source": [
    "## Stresses and allowable Stresses"
   ]
  },
  {
   "cell_type": "markdown",
   "metadata": {},
   "source": [
    "### $S_{tp}$, $S_{tG}$"
   ]
  },
  {
   "cell_type": "code",
   "execution_count": 156,
   "metadata": {},
   "outputs": [
    {
     "data": {
      "text/latex": [
       "$\\displaystyle 25921.4645182475$"
      ],
      "text/plain": [
       "25921.4645182475"
      ]
     },
     "execution_count": 156,
     "metadata": {},
     "output_type": "execute_result"
    }
   ],
   "source": [
    "s_tp = (W_t * P_d) / (F * J_p) * k_o * k_s * k_m * k_B * k_v\n",
    "s_tp"
   ]
  },
  {
   "cell_type": "code",
   "execution_count": 157,
   "metadata": {},
   "outputs": [
    {
     "data": {
      "text/latex": [
       "$\\displaystyle 21495.8486248882$"
      ],
      "text/plain": [
       "21495.8486248882"
      ]
     },
     "execution_count": 157,
     "metadata": {},
     "output_type": "execute_result"
    }
   ],
   "source": [
    "s_tG = s_tp * J_p / J_G\n",
    "s_tG"
   ]
  },
  {
   "cell_type": "markdown",
   "metadata": {},
   "source": [
    "### $S_{atp}$, $S_{atG}$"
   ]
  },
  {
   "cell_type": "code",
   "execution_count": 158,
   "metadata": {},
   "outputs": [
    {
     "data": {
      "text/latex": [
       "$\\displaystyle 27285.752124471$"
      ],
      "text/plain": [
       "27285.7521244710"
      ]
     },
     "execution_count": 158,
     "metadata": {},
     "output_type": "execute_result"
    }
   ],
   "source": [
    "s_atP_Greater_than = s_tp * k_R * safety_factor / Y_np\n",
    "s_atP_Greater_than"
   ]
  },
  {
   "cell_type": "code",
   "execution_count": 159,
   "metadata": {},
   "outputs": [
    {
     "data": {
      "text/latex": [
       "$\\displaystyle 21495.8486248882$"
      ],
      "text/plain": [
       "21495.8486248882"
      ]
     },
     "execution_count": 159,
     "metadata": {},
     "output_type": "execute_result"
    }
   ],
   "source": [
    "s_atG_Greater_than = s_tG * k_R * safety_factor / Y_ng\n",
    "s_atG_Greater_than"
   ]
  },
  {
   "cell_type": "markdown",
   "metadata": {},
   "source": [
    "### Calc $S_c$"
   ]
  },
  {
   "cell_type": "code",
   "execution_count": 160,
   "metadata": {},
   "outputs": [
    {
     "data": {
      "text/plain": [
       "156646.34335194936"
      ]
     },
     "execution_count": 160,
     "metadata": {},
     "output_type": "execute_result"
    }
   ],
   "source": [
    "\n",
    "aa = (W_t * k_o * k_s * k_m  * k_v)\n",
    "\n",
    "bb = (F * D_p * I)\n",
    "\n",
    "S_c = C_p * np.sqrt( float( aa / bb)  ) #\n",
    "S_c"
   ]
  },
  {
   "cell_type": "markdown",
   "metadata": {},
   "source": [
    "### FInd adjusted values of $S_c$"
   ]
  },
  {
   "cell_type": "code",
   "execution_count": 161,
   "metadata": {},
   "outputs": [
    {
     "data": {
      "text/plain": [
       "174439.13513580107"
      ]
     },
     "execution_count": 161,
     "metadata": {},
     "output_type": "execute_result"
    }
   ],
   "source": [
    "S_acP_Greater_than = S_c * (k_R * safety_factor) / Z_np\n",
    "S_acP_Greater_than"
   ]
  },
  {
   "cell_type": "code",
   "execution_count": 162,
   "metadata": {},
   "outputs": [
    {
     "data": {
      "text/plain": [
       "169898.42012142012"
      ]
     },
     "execution_count": 162,
     "metadata": {},
     "output_type": "execute_result"
    }
   ],
   "source": [
    "S_acg_Greater_than = S_c * (k_R * safety_factor) / Z_ng\n",
    "S_acg_Greater_than"
   ]
  },
  {
   "cell_type": "markdown",
   "metadata": {},
   "source": [
    "## Brinell Hardness Calculations"
   ]
  },
  {
   "cell_type": "code",
   "execution_count": 163,
   "metadata": {},
   "outputs": [
    {
     "name": "stdout",
     "output_type": "stream",
     "text": [
      "Contact_HB_p: 451.36 psi \n",
      "Bending_HB_p: 187.40 psi\n",
      "\n",
      "Contact_HB_g: 437.26 psi \n",
      "Bending_HB_g: 112.49 psi\n"
     ]
    }
   ],
   "source": [
    "# Prompt the user for input\n",
    "HB_grade = input(\"HB grade 1 or 2? \")\n",
    "\n",
    "Contact_HB_p = 0\n",
    "Bending_HB_p = 0\n",
    "\n",
    "if int(HB_grade) == 1:\n",
    "    Contact_HB_p = ( S_acP_Greater_than / 1000 - 29.1 ) / 0.322\n",
    "    Bending_HB_p = ( s_atP_Greater_than / 1000 - 12.8 ) / 0.0773\n",
    "\n",
    "    Contact_HB_g = ( S_acg_Greater_than / 1000 - 29.1 ) / 0.322\n",
    "    Bending_HB_g = ( s_atG_Greater_than / 1000 - 12.8 ) / 0.0773\n",
    "\n",
    "elif int(HB_grade) == 2:\n",
    "    Contact_HB_p = ( S_acP_Greater_than / 1000 - 34.3 ) / 0.349\n",
    "    Bending_HB_p = ( s_atP_Greater_than / 1000 - 16.4 ) / 0.102\n",
    "\n",
    "    Contact_HB_g = ( S_acg_Greater_than / 1000 - 34.3 ) / 0.349\n",
    "    Bending_HB_g = ( s_atG_Greater_than / 1000 - 16.4 ) / 0.102\n",
    "\n",
    "else:\n",
    "    assert(False)\n",
    "\n",
    "\n",
    "print(f\"Contact_HB_p: {Contact_HB_p:.2f} psi \\nBending_HB_p: {Bending_HB_p:.2f} psi\\n\")\n",
    "\n",
    "print(f\"Contact_HB_g: {Contact_HB_g:.2f} psi \\nBending_HB_g: {Bending_HB_g:.2f} psi\")"
   ]
  },
  {
   "cell_type": "markdown",
   "metadata": {},
   "source": [
    "### use tables to find the appropriate Material, and enter its brinell hardness"
   ]
  },
  {
   "cell_type": "code",
   "execution_count": 168,
   "metadata": {},
   "outputs": [],
   "source": [
    "HB = None"
   ]
  },
  {
   "cell_type": "markdown",
   "metadata": {},
   "source": [
    "### Calculate actaul allowed bending and contact stresses"
   ]
  },
  {
   "cell_type": "code",
   "execution_count": 165,
   "metadata": {},
   "outputs": [],
   "source": [
    "#too lazy to implement rn\n",
    "\n",
    "S_acp = None\n",
    "S_atp = None\n",
    "\n",
    "S_acg = None\n",
    "S_atg = None\n",
    "\n",
    "\n",
    "if int(HB_grade) == 1:\n",
    "    S_acp = (HB * 0.322 + 29.1 ) * 1000 \n",
    "    S_atp = (HB * 0.0773 + 12.8 ) * 1000\n",
    "\n",
    "    S_acg = (HB * 0.322 + 29.1 ) * 1000\n",
    "    S_atg = (HB * 0.0773 + 12.8 ) * 1000\n",
    "\n",
    "elif int(HB_grade) == 2:\n",
    "\n",
    "    S_acp = (HB * 0.349 + 34.3 ) * 1000\n",
    "    S_atp = (HB * 0.102 + 16.4 ) * 1000\n",
    "\n",
    "    S_acg = (HB * 0.349 + 34.3 ) * 1000\n",
    "    S_atg = (HB * 0.102 + 16.4 ) * 1000\n",
    "    \n",
    "else:\n",
    "    assert(False)\n"
   ]
  },
  {
   "cell_type": "markdown",
   "metadata": {},
   "source": [
    "### Calculate Safety factor"
   ]
  },
  {
   "cell_type": "code",
   "execution_count": 166,
   "metadata": {},
   "outputs": [
    {
     "name": "stdout",
     "output_type": "stream",
     "text": [
      "Contact Safety Factor (Pinion): 1.076724 \n",
      "Bending Safety Factor (Pinion): 1.77511324514896\n",
      "\n",
      "Contact Safety Factor (Gear): 1.08 \n",
      "Bending Safety Factor (Gear): 2.14\n"
     ]
    }
   ],
   "source": [
    "contact_SF_p = S_acp * Y_np / (S_c * k_R)\n",
    "bending_SF_p = S_atp * Y_np / (s_tp * k_R)\n",
    "\n",
    "print(f\"Contact Safety Factor (Pinion): {contact_SF_p:f} \\nBending Safety Factor (Pinion): {bending_SF_p:f}\\n\")\n",
    "\n",
    "contact_SF_g = S_acg * Y_np / (S_c * k_R)\n",
    "bending_SF_g = S_atg * Y_np / (s_tG * k_R)\n",
    "\n",
    "print(f\"Contact Safety Factor (Gear): {contact_SF_g:.2f} \\nBending Safety Factor (Gear): {bending_SF_g:.2f}\")\n",
    "\n"
   ]
  },
  {
   "cell_type": "markdown",
   "metadata": {},
   "source": [
    "## Power transmitting Capacity"
   ]
  },
  {
   "cell_type": "code",
   "execution_count": 167,
   "metadata": {},
   "outputs": [
    {
     "name": "stdout",
     "output_type": "stream",
     "text": [
      "P_cap = 5.0020 HP\n"
     ]
    }
   ],
   "source": [
    "# Power transmitting capacity\n",
    "\n",
    "P_cap = n_p * F * I / (126000 * k_o * k_s * k_m * k_v) * ( (S_acP_Greater_than * D_p * Z_np) / (safety_factor * k_R * C_p) ) ** 2\n",
    "\n",
    "print(f\"P_cap = {P_cap:.4f} HP\")"
   ]
  }
 ],
 "metadata": {
  "kernelspec": {
   "display_name": "Python 3",
   "language": "python",
   "name": "python3"
  },
  "language_info": {
   "codemirror_mode": {
    "name": "ipython",
    "version": 3
   },
   "file_extension": ".py",
   "mimetype": "text/x-python",
   "name": "python",
   "nbconvert_exporter": "python",
   "pygments_lexer": "ipython3",
   "version": "3.11.9"
  }
 },
 "nbformat": 4,
 "nbformat_minor": 2
}
