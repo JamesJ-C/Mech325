{
 "cells": [
  {
   "cell_type": "code",
   "execution_count": 1,
   "metadata": {},
   "outputs": [],
   "source": [
    "import numpy as np\n",
    "import matplotlib.pyplot as plt\n",
    "\n",
    "import sympy as sp"
   ]
  },
  {
   "cell_type": "markdown",
   "metadata": {},
   "source": [
    "## Things which are given / can be calculated "
   ]
  },
  {
   "cell_type": "code",
   "execution_count": 2,
   "metadata": {},
   "outputs": [
    {
     "data": {
      "text/plain": [
       "({P_d: 10,\n",
       "  D_p: nan,\n",
       "  D_g: nan,\n",
       "  C: nan,\n",
       "  N_p: 17,\n",
       "  N_g: 54,\n",
       "  n_p: 1200,\n",
       "  n_g: 200,\n",
       "  n_g_guess: 387,\n",
       "  VR: nan,\n",
       "  VR_guess: nan,\n",
       "  v_t: nan,\n",
       "  F: nan,\n",
       "  power: nan,\n",
       "  lifetime: 1000,\n",
       "  W_t: nan},\n",
       " 16)"
      ]
     },
     "execution_count": 2,
     "metadata": {},
     "output_type": "execute_result"
    }
   ],
   "source": [
    "P_d_sp = sp.symbols('P_d')\n",
    "D_p_sp, D_g_sp = sp.symbols('D_p D_g')\n",
    "N_p_sp, N_g_sp = sp.symbols('N_p N_g') \n",
    "C_sp, F_sp = sp.symbols('C F')\n",
    "n_p_sp, n_g_sp, n_g_guess_sp = sp.symbols('n_p n_g n_g_guess')\n",
    "VR_sp, VR_guess_sp, v_t_sp = sp.symbols('VR VR_guess v_t')\n",
    "power_sp, lifetime_sp = sp.symbols('power lifetime')\n",
    "W_t_sp = sp.symbols('W_t')\n",
    "\n",
    "\n",
    "#enter given values\n",
    "\n",
    "uk = sp.nan\n",
    "all_values = {\n",
    "    P_d_sp: 10,\n",
    "    D_p_sp: sp.nan,\n",
    "    D_g_sp: sp.nan,\n",
    "    C_sp: sp.nan,\n",
    "    N_p_sp: 17,\n",
    "    N_g_sp: 54,\n",
    "    n_p_sp: 1200,\n",
    "    n_g_sp: 200,\n",
    "    n_g_guess_sp: 387,\n",
    "    VR_sp: sp.nan,\n",
    "    VR_guess_sp: sp.nan,\n",
    "    v_t_sp: sp.nan,\n",
    "    F_sp: sp.nan,\n",
    "    power_sp: sp.nan,\n",
    "    lifetime_sp: 1000,\n",
    "    W_t_sp: sp.nan,\n",
    "}\n",
    "\n",
    "# To have in case\n",
    "# all_values = {\n",
    "#     P_d: 10,\n",
    "#     D_p: sp.nan,\n",
    "#     D_g: sp.nan,\n",
    "#     C: sp.nan,\n",
    "#     N_p: 17,\n",
    "#     N_g: 54,\n",
    "#     n_p: 1200,\n",
    "#     n_g: sp.nan,\n",
    "#     n_g_guess: 387,\n",
    "#     VR: sp.nan,\n",
    "#     VR_guess: sp.nan,\n",
    "#     v_t: sp.nan,\n",
    "#     F: sp.nan,\n",
    "#     power: sp.nan,\n",
    "#     lifetime: sp.nan\n",
    "# }\n",
    "\n",
    "all_values, len(all_values)\n"
   ]
  },
  {
   "cell_type": "markdown",
   "metadata": {},
   "source": [
    "## Things to find from a table\n",
    "\n",
    "some, like Y,Z can only be found later, tbd how to handle this"
   ]
  },
  {
   "cell_type": "code",
   "execution_count": 3,
   "metadata": {},
   "outputs": [],
   "source": [
    "J_p = None\n",
    "J_g = None\n",
    "\n",
    "I = None\n",
    "\n",
    "C_p = 2300 #for steel\n",
    "\n",
    "k_o = None\n",
    "k_s = None\n",
    "\n",
    "k_B = None\n",
    "k_v = None\n",
    "k_R = None\n",
    "\n",
    "\n",
    "#Need cycles to find, but these are not calculated until later\n",
    "#im not sure the best way to handle this\n",
    "Y_np = None\n",
    "Y_ng = None\n",
    "\n",
    "Z_np = None\n",
    "Z_ng = None\n",
    "\n",
    "#from formula below\n",
    "k_m = None\n",
    "\n",
    "#for C_ma\n",
    "cond = \"commercial Enclosed\".upper()\n",
    "# cond = \"precision\".upper()\n",
    "# cond = \"extra\".upper()\n",
    "\n",
    "safety_factor = 1\n"
   ]
  },
  {
   "cell_type": "markdown",
   "metadata": {},
   "source": [
    "## Prelim calculations\n",
    "VR, N_g, D_g, P_d etc"
   ]
  },
  {
   "cell_type": "markdown",
   "metadata": {},
   "source": [
    "### Create the equations"
   ]
  },
  {
   "cell_type": "markdown",
   "metadata": {},
   "source": [
    "this currently gets mad bc eq 2 does not exist bc i need to round, but sympy has not let me as of yet, alas, the structure is there i think"
   ]
  },
  {
   "cell_type": "code",
   "execution_count": 4,
   "metadata": {},
   "outputs": [],
   "source": [
    "\n",
    "eq1 = sp.Eq(VR_guess_sp, n_p_sp / n_g_guess_sp)\n",
    "\n",
    "eq2_do_not_use = sp.Eq(N_g_sp, N_p_sp * VR_guess_sp)\n",
    "\n",
    "# eq2_5 = sp.Eq(temp, round(N_p * VR_guess, 0))\n",
    "\n",
    "# eq2 = eq2_do_not_use.subs(temp, round(, 0))\n",
    "\n",
    "eq3 = sp.Eq(VR_sp, N_g_sp / N_p_sp)\n",
    "\n",
    "eq4 = sp.Eq(n_g_sp, n_p_sp / VR_sp)\n",
    "eq5 = sp.Eq(D_p_sp, N_p_sp / P_d_sp)\n",
    "eq6 = sp.Eq(D_g_sp, N_g_sp / P_d_sp)\n",
    "eq7 = sp.Eq(C_sp, (N_p_sp + N_g_sp) / (2 * P_d_sp))\n",
    "eq8 = sp.Eq(v_t_sp, np.pi * D_p_sp * n_p_sp / 12)\n",
    "eq9 = sp.Eq(W_t_sp, 33000 * P_d_sp / v_t_sp)\n",
    "eq10 = sp.Eq(F_sp, 12 / P_d_sp)\n",
    "\n",
    "# eq10 = sp.Eq(n_g, n_p / VR)\n",
    "\n"
   ]
  },
  {
   "cell_type": "markdown",
   "metadata": {},
   "source": [
    "### Solve the equations "
   ]
  },
  {
   "cell_type": "code",
   "execution_count": 5,
   "metadata": {},
   "outputs": [],
   "source": [
    "#creates a thing of all the non-nan values\n",
    "known_values = {}\n",
    "\n",
    "for var, value in all_values.items():\n",
    "    if value is not sp.nan:\n",
    "        known_values[var] = value"
   ]
  },
  {
   "cell_type": "markdown",
   "metadata": {},
   "source": [
    "#### (only solves once)"
   ]
  },
  {
   "cell_type": "code",
   "execution_count": 6,
   "metadata": {},
   "outputs": [],
   "source": [
    "# # Solve equations with known values\n",
    "# solutions = sp.solve([eq1, eq3, eq4, eq5, eq6, eq7, eq8], dict=True)\n",
    "\n",
    "# # Update known values with solutions\n",
    "# for solution in solutions:\n",
    "#     for var, expr in solution.items():\n",
    "#         if expr is not None:\n",
    "#             known_values[var] = expr.subs(known_values)\n",
    "            \n",
    "\n",
    "# # Display updated solutions\n",
    "# for var, value in known_values.items():\n",
    "#     print(f\"{var} = {value}\")\n",
    "\n",
    "\n",
    "\n",
    "\n"
   ]
  },
  {
   "cell_type": "markdown",
   "metadata": {},
   "source": [
    "#### Solve the equations multiple times bc some of them depends on others"
   ]
  },
  {
   "cell_type": "code",
   "execution_count": 12,
   "metadata": {},
   "outputs": [
    {
     "name": "stdout",
     "output_type": "stream",
     "text": [
      "help\n",
      "help\n"
     ]
    },
    {
     "ename": "KeyboardInterrupt",
     "evalue": "",
     "output_type": "error",
     "traceback": [
      "\u001b[1;31m---------------------------------------------------------------------------\u001b[0m",
      "\u001b[1;31mKeyboardInterrupt\u001b[0m                         Traceback (most recent call last)",
      "Cell \u001b[1;32mIn[12], line 9\u001b[0m\n\u001b[0;32m      6\u001b[0m previous_known_values \u001b[38;5;241m=\u001b[39m known_values\u001b[38;5;241m.\u001b[39mcopy()\n\u001b[0;32m      8\u001b[0m \u001b[38;5;66;03m# Solve equations with current known values\u001b[39;00m\n\u001b[1;32m----> 9\u001b[0m solutions \u001b[38;5;241m=\u001b[39m \u001b[43msp\u001b[49m\u001b[38;5;241;43m.\u001b[39;49m\u001b[43msolve\u001b[49m\u001b[43m(\u001b[49m\u001b[43m[\u001b[49m\u001b[43meq1\u001b[49m\u001b[43m,\u001b[49m\u001b[43m \u001b[49m\u001b[43meq3\u001b[49m\u001b[43m,\u001b[49m\u001b[43m \u001b[49m\u001b[43meq4\u001b[49m\u001b[43m,\u001b[49m\u001b[43m \u001b[49m\u001b[43meq5\u001b[49m\u001b[43m,\u001b[49m\u001b[43m \u001b[49m\u001b[43meq6\u001b[49m\u001b[43m,\u001b[49m\u001b[43m \u001b[49m\u001b[43meq7\u001b[49m\u001b[43m,\u001b[49m\u001b[43m \u001b[49m\u001b[43meq8\u001b[49m\u001b[43m,\u001b[49m\u001b[43m \u001b[49m\u001b[43meq9\u001b[49m\u001b[43m,\u001b[49m\u001b[43m \u001b[49m\u001b[43meq10\u001b[49m\u001b[43m]\u001b[49m\u001b[43m,\u001b[49m\u001b[43m \u001b[49m\u001b[38;5;28;43mdict\u001b[39;49m\u001b[38;5;241;43m=\u001b[39;49m\u001b[38;5;28;43;01mTrue\u001b[39;49;00m\u001b[43m)\u001b[49m\n\u001b[0;32m     11\u001b[0m \u001b[38;5;66;03m# Update known values with solutions\u001b[39;00m\n\u001b[0;32m     12\u001b[0m \u001b[38;5;28;01mfor\u001b[39;00m solution \u001b[38;5;129;01min\u001b[39;00m solutions:\n",
      "File \u001b[1;32m~\\AppData\\Local\\Packages\\PythonSoftwareFoundation.Python.3.11_qbz5n2kfra8p0\\LocalCache\\local-packages\\Python311\\site-packages\\sympy\\solvers\\solvers.py:1172\u001b[0m, in \u001b[0;36msolve\u001b[1;34m(f, *symbols, **flags)\u001b[0m\n\u001b[0;32m   1170\u001b[0m         solution \u001b[38;5;241m=\u001b[39m _solve(f[\u001b[38;5;241m0\u001b[39m], \u001b[38;5;241m*\u001b[39msymbols, \u001b[38;5;241m*\u001b[39m\u001b[38;5;241m*\u001b[39mflags)\n\u001b[0;32m   1171\u001b[0m \u001b[38;5;28;01melse\u001b[39;00m:\n\u001b[1;32m-> 1172\u001b[0m     linear, solution \u001b[38;5;241m=\u001b[39m \u001b[43m_solve_system\u001b[49m\u001b[43m(\u001b[49m\u001b[43mf\u001b[49m\u001b[43m,\u001b[49m\u001b[43m \u001b[49m\u001b[43msymbols\u001b[49m\u001b[43m,\u001b[49m\u001b[43m \u001b[49m\u001b[38;5;241;43m*\u001b[39;49m\u001b[38;5;241;43m*\u001b[39;49m\u001b[43mflags\u001b[49m\u001b[43m)\u001b[49m\n\u001b[0;32m   1173\u001b[0m \u001b[38;5;28;01massert\u001b[39;00m \u001b[38;5;28mtype\u001b[39m(solution) \u001b[38;5;129;01mis\u001b[39;00m \u001b[38;5;28mlist\u001b[39m\n\u001b[0;32m   1174\u001b[0m \u001b[38;5;28;01massert\u001b[39;00m \u001b[38;5;129;01mnot\u001b[39;00m solution \u001b[38;5;129;01mor\u001b[39;00m \u001b[38;5;28mtype\u001b[39m(solution[\u001b[38;5;241m0\u001b[39m]) \u001b[38;5;129;01mis\u001b[39;00m \u001b[38;5;28mdict\u001b[39m, solution\n",
      "File \u001b[1;32m~\\AppData\\Local\\Packages\\PythonSoftwareFoundation.Python.3.11_qbz5n2kfra8p0\\LocalCache\\local-packages\\Python311\\site-packages\\sympy\\solvers\\solvers.py:1878\u001b[0m, in \u001b[0;36m_solve_system\u001b[1;34m(exprs, symbols, **flags)\u001b[0m\n\u001b[0;32m   1875\u001b[0m \u001b[38;5;28;01mfor\u001b[39;00m syms \u001b[38;5;129;01min\u001b[39;00m subsets(free, \u001b[38;5;28mlen\u001b[39m(polys)):\n\u001b[0;32m   1876\u001b[0m     \u001b[38;5;28;01mtry\u001b[39;00m:\n\u001b[0;32m   1877\u001b[0m         \u001b[38;5;66;03m# returns [], None or list of tuples\u001b[39;00m\n\u001b[1;32m-> 1878\u001b[0m         res \u001b[38;5;241m=\u001b[39m \u001b[43msolve_poly_system\u001b[49m\u001b[43m(\u001b[49m\u001b[43mpolys\u001b[49m\u001b[43m,\u001b[49m\u001b[43m \u001b[49m\u001b[38;5;241;43m*\u001b[39;49m\u001b[43msyms\u001b[49m\u001b[43m)\u001b[49m\n\u001b[0;32m   1879\u001b[0m         \u001b[38;5;28;01mif\u001b[39;00m res:\n\u001b[0;32m   1880\u001b[0m             \u001b[38;5;28;01mfor\u001b[39;00m r \u001b[38;5;129;01min\u001b[39;00m \u001b[38;5;28mset\u001b[39m(res):\n",
      "File \u001b[1;32m~\\AppData\\Local\\Packages\\PythonSoftwareFoundation.Python.3.11_qbz5n2kfra8p0\\LocalCache\\local-packages\\Python311\\site-packages\\sympy\\solvers\\polysys.py:78\u001b[0m, in \u001b[0;36msolve_poly_system\u001b[1;34m(seq, strict, *gens, **args)\u001b[0m\n\u001b[0;32m     75\u001b[0m         \u001b[38;5;28;01mexcept\u001b[39;00m SolveFailed:\n\u001b[0;32m     76\u001b[0m             \u001b[38;5;28;01mpass\u001b[39;00m\n\u001b[1;32m---> 78\u001b[0m \u001b[38;5;28;01mreturn\u001b[39;00m \u001b[43msolve_generic\u001b[49m\u001b[43m(\u001b[49m\u001b[43mpolys\u001b[49m\u001b[43m,\u001b[49m\u001b[43m \u001b[49m\u001b[43mopt\u001b[49m\u001b[43m,\u001b[49m\u001b[43m \u001b[49m\u001b[43mstrict\u001b[49m\u001b[38;5;241;43m=\u001b[39;49m\u001b[43mstrict\u001b[49m\u001b[43m)\u001b[49m\n",
      "File \u001b[1;32m~\\AppData\\Local\\Packages\\PythonSoftwareFoundation.Python.3.11_qbz5n2kfra8p0\\LocalCache\\local-packages\\Python311\\site-packages\\sympy\\solvers\\polysys.py:333\u001b[0m, in \u001b[0;36msolve_generic\u001b[1;34m(polys, opt, strict)\u001b[0m\n\u001b[0;32m    330\u001b[0m     \u001b[38;5;28;01mreturn\u001b[39;00m solutions\n\u001b[0;32m    332\u001b[0m \u001b[38;5;28;01mtry\u001b[39;00m:\n\u001b[1;32m--> 333\u001b[0m     result \u001b[38;5;241m=\u001b[39m \u001b[43m_solve_reduced_system\u001b[49m\u001b[43m(\u001b[49m\u001b[43mpolys\u001b[49m\u001b[43m,\u001b[49m\u001b[43m \u001b[49m\u001b[43mopt\u001b[49m\u001b[38;5;241;43m.\u001b[39;49m\u001b[43mgens\u001b[49m\u001b[43m,\u001b[49m\u001b[43m \u001b[49m\u001b[43mentry\u001b[49m\u001b[38;5;241;43m=\u001b[39;49m\u001b[38;5;28;43;01mTrue\u001b[39;49;00m\u001b[43m)\u001b[49m\n\u001b[0;32m    334\u001b[0m \u001b[38;5;28;01mexcept\u001b[39;00m CoercionFailed:\n\u001b[0;32m    335\u001b[0m     \u001b[38;5;28;01mraise\u001b[39;00m \u001b[38;5;167;01mNotImplementedError\u001b[39;00m\n",
      "File \u001b[1;32m~\\AppData\\Local\\Packages\\PythonSoftwareFoundation.Python.3.11_qbz5n2kfra8p0\\LocalCache\\local-packages\\Python311\\site-packages\\sympy\\solvers\\polysys.py:322\u001b[0m, in \u001b[0;36msolve_generic.<locals>._solve_reduced_system\u001b[1;34m(system, gens, entry)\u001b[0m\n\u001b[0;32m    319\u001b[0m         \u001b[38;5;28;01mif\u001b[39;00m eq \u001b[38;5;129;01mis\u001b[39;00m \u001b[38;5;129;01mnot\u001b[39;00m S\u001b[38;5;241m.\u001b[39mZero:\n\u001b[0;32m    320\u001b[0m             new_system\u001b[38;5;241m.\u001b[39mappend(eq)\n\u001b[1;32m--> 322\u001b[0m     \u001b[38;5;28;01mfor\u001b[39;00m solution \u001b[38;5;129;01min\u001b[39;00m \u001b[43m_solve_reduced_system\u001b[49m\u001b[43m(\u001b[49m\u001b[43mnew_system\u001b[49m\u001b[43m,\u001b[49m\u001b[43m \u001b[49m\u001b[43mnew_gens\u001b[49m\u001b[43m)\u001b[49m:\n\u001b[0;32m    323\u001b[0m         solutions\u001b[38;5;241m.\u001b[39mappend(solution \u001b[38;5;241m+\u001b[39m (zero,))\n\u001b[0;32m    325\u001b[0m \u001b[38;5;28;01mif\u001b[39;00m solutions \u001b[38;5;129;01mand\u001b[39;00m \u001b[38;5;28mlen\u001b[39m(solutions[\u001b[38;5;241m0\u001b[39m]) \u001b[38;5;241m!=\u001b[39m \u001b[38;5;28mlen\u001b[39m(gens):\n",
      "File \u001b[1;32m~\\AppData\\Local\\Packages\\PythonSoftwareFoundation.Python.3.11_qbz5n2kfra8p0\\LocalCache\\local-packages\\Python311\\site-packages\\sympy\\solvers\\polysys.py:322\u001b[0m, in \u001b[0;36msolve_generic.<locals>._solve_reduced_system\u001b[1;34m(system, gens, entry)\u001b[0m\n\u001b[0;32m    319\u001b[0m         \u001b[38;5;28;01mif\u001b[39;00m eq \u001b[38;5;129;01mis\u001b[39;00m \u001b[38;5;129;01mnot\u001b[39;00m S\u001b[38;5;241m.\u001b[39mZero:\n\u001b[0;32m    320\u001b[0m             new_system\u001b[38;5;241m.\u001b[39mappend(eq)\n\u001b[1;32m--> 322\u001b[0m     \u001b[38;5;28;01mfor\u001b[39;00m solution \u001b[38;5;129;01min\u001b[39;00m \u001b[43m_solve_reduced_system\u001b[49m\u001b[43m(\u001b[49m\u001b[43mnew_system\u001b[49m\u001b[43m,\u001b[49m\u001b[43m \u001b[49m\u001b[43mnew_gens\u001b[49m\u001b[43m)\u001b[49m:\n\u001b[0;32m    323\u001b[0m         solutions\u001b[38;5;241m.\u001b[39mappend(solution \u001b[38;5;241m+\u001b[39m (zero,))\n\u001b[0;32m    325\u001b[0m \u001b[38;5;28;01mif\u001b[39;00m solutions \u001b[38;5;129;01mand\u001b[39;00m \u001b[38;5;28mlen\u001b[39m(solutions[\u001b[38;5;241m0\u001b[39m]) \u001b[38;5;241m!=\u001b[39m \u001b[38;5;28mlen\u001b[39m(gens):\n",
      "    \u001b[1;31m[... skipping similar frames: solve_generic.<locals>._solve_reduced_system at line 322 (5 times)]\u001b[0m\n",
      "File \u001b[1;32m~\\AppData\\Local\\Packages\\PythonSoftwareFoundation.Python.3.11_qbz5n2kfra8p0\\LocalCache\\local-packages\\Python311\\site-packages\\sympy\\solvers\\polysys.py:322\u001b[0m, in \u001b[0;36msolve_generic.<locals>._solve_reduced_system\u001b[1;34m(system, gens, entry)\u001b[0m\n\u001b[0;32m    319\u001b[0m         \u001b[38;5;28;01mif\u001b[39;00m eq \u001b[38;5;129;01mis\u001b[39;00m \u001b[38;5;129;01mnot\u001b[39;00m S\u001b[38;5;241m.\u001b[39mZero:\n\u001b[0;32m    320\u001b[0m             new_system\u001b[38;5;241m.\u001b[39mappend(eq)\n\u001b[1;32m--> 322\u001b[0m     \u001b[38;5;28;01mfor\u001b[39;00m solution \u001b[38;5;129;01min\u001b[39;00m \u001b[43m_solve_reduced_system\u001b[49m\u001b[43m(\u001b[49m\u001b[43mnew_system\u001b[49m\u001b[43m,\u001b[49m\u001b[43m \u001b[49m\u001b[43mnew_gens\u001b[49m\u001b[43m)\u001b[49m:\n\u001b[0;32m    323\u001b[0m         solutions\u001b[38;5;241m.\u001b[39mappend(solution \u001b[38;5;241m+\u001b[39m (zero,))\n\u001b[0;32m    325\u001b[0m \u001b[38;5;28;01mif\u001b[39;00m solutions \u001b[38;5;129;01mand\u001b[39;00m \u001b[38;5;28mlen\u001b[39m(solutions[\u001b[38;5;241m0\u001b[39m]) \u001b[38;5;241m!=\u001b[39m \u001b[38;5;28mlen\u001b[39m(gens):\n",
      "File \u001b[1;32m~\\AppData\\Local\\Packages\\PythonSoftwareFoundation.Python.3.11_qbz5n2kfra8p0\\LocalCache\\local-packages\\Python311\\site-packages\\sympy\\solvers\\polysys.py:270\u001b[0m, in \u001b[0;36msolve_generic.<locals>._solve_reduced_system\u001b[1;34m(system, gens, entry)\u001b[0m\n\u001b[0;32m    266\u001b[0m \u001b[38;5;250m\u001b[39m\u001b[38;5;124;03m\"\"\"Recursively solves reduced polynomial systems. \"\"\"\u001b[39;00m\n\u001b[0;32m    267\u001b[0m \u001b[38;5;28;01mif\u001b[39;00m \u001b[38;5;28mlen\u001b[39m(system) \u001b[38;5;241m==\u001b[39m \u001b[38;5;28mlen\u001b[39m(gens) \u001b[38;5;241m==\u001b[39m \u001b[38;5;241m1\u001b[39m:\n\u001b[0;32m    268\u001b[0m     \u001b[38;5;66;03m# the below line will produce UnsolvableFactorError if\u001b[39;00m\n\u001b[0;32m    269\u001b[0m     \u001b[38;5;66;03m# strict=True and the solution from `roots` is incomplete\u001b[39;00m\n\u001b[1;32m--> 270\u001b[0m     zeros \u001b[38;5;241m=\u001b[39m \u001b[38;5;28mlist\u001b[39m(\u001b[43mroots\u001b[49m\u001b[43m(\u001b[49m\u001b[43msystem\u001b[49m\u001b[43m[\u001b[49m\u001b[38;5;241;43m0\u001b[39;49m\u001b[43m]\u001b[49m\u001b[43m,\u001b[49m\u001b[43m \u001b[49m\u001b[43mgens\u001b[49m\u001b[43m[\u001b[49m\u001b[38;5;241;43m-\u001b[39;49m\u001b[38;5;241;43m1\u001b[39;49m\u001b[43m]\u001b[49m\u001b[43m,\u001b[49m\u001b[43m \u001b[49m\u001b[43mstrict\u001b[49m\u001b[38;5;241;43m=\u001b[39;49m\u001b[43mstrict\u001b[49m\u001b[43m)\u001b[49m\u001b[38;5;241m.\u001b[39mkeys())\n\u001b[0;32m    271\u001b[0m     \u001b[38;5;28;01mreturn\u001b[39;00m [(zero,) \u001b[38;5;28;01mfor\u001b[39;00m zero \u001b[38;5;129;01min\u001b[39;00m zeros]\n\u001b[0;32m    273\u001b[0m basis \u001b[38;5;241m=\u001b[39m groebner(system, gens, polys\u001b[38;5;241m=\u001b[39m\u001b[38;5;28;01mTrue\u001b[39;00m)\n",
      "File \u001b[1;32m~\\AppData\\Local\\Packages\\PythonSoftwareFoundation.Python.3.11_qbz5n2kfra8p0\\LocalCache\\local-packages\\Python311\\site-packages\\sympy\\polys\\polyroots.py:1090\u001b[0m, in \u001b[0;36mroots\u001b[1;34m(f, auto, cubics, trig, quartics, quintics, multiple, filter, predicate, strict, *gens, **flags)\u001b[0m\n\u001b[0;32m   1088\u001b[0m         _update_dict(result, zeros, r, \u001b[38;5;241m1\u001b[39m)\n\u001b[0;32m   1089\u001b[0m \u001b[38;5;28;01melif\u001b[39;00m f\u001b[38;5;241m.\u001b[39mdegree() \u001b[38;5;241m==\u001b[39m \u001b[38;5;241m1\u001b[39m:\n\u001b[1;32m-> 1090\u001b[0m     _update_dict(result, zeros, \u001b[43mroots_linear\u001b[49m\u001b[43m(\u001b[49m\u001b[43mf\u001b[49m\u001b[43m)\u001b[49m[\u001b[38;5;241m0\u001b[39m], \u001b[38;5;241m1\u001b[39m)\n\u001b[0;32m   1091\u001b[0m \u001b[38;5;28;01melif\u001b[39;00m f\u001b[38;5;241m.\u001b[39mlength() \u001b[38;5;241m==\u001b[39m \u001b[38;5;241m2\u001b[39m:\n\u001b[0;32m   1092\u001b[0m     roots_fun \u001b[38;5;241m=\u001b[39m roots_quadratic \u001b[38;5;28;01mif\u001b[39;00m f\u001b[38;5;241m.\u001b[39mdegree() \u001b[38;5;241m==\u001b[39m \u001b[38;5;241m2\u001b[39m \u001b[38;5;28;01melse\u001b[39;00m roots_binomial\n",
      "File \u001b[1;32m~\\AppData\\Local\\Packages\\PythonSoftwareFoundation.Python.3.11_qbz5n2kfra8p0\\LocalCache\\local-packages\\Python311\\site-packages\\sympy\\polys\\polyroots.py:47\u001b[0m, in \u001b[0;36mroots_linear\u001b[1;34m(f)\u001b[0m\n\u001b[0;32m     45\u001b[0m     \u001b[38;5;28;01melse\u001b[39;00m:\n\u001b[0;32m     46\u001b[0m         \u001b[38;5;28;01mfrom\u001b[39;00m \u001b[38;5;21;01msympy\u001b[39;00m\u001b[38;5;21;01m.\u001b[39;00m\u001b[38;5;21;01msimplify\u001b[39;00m\u001b[38;5;21;01m.\u001b[39;00m\u001b[38;5;21;01msimplify\u001b[39;00m \u001b[38;5;28;01mimport\u001b[39;00m simplify\n\u001b[1;32m---> 47\u001b[0m         r \u001b[38;5;241m=\u001b[39m \u001b[43msimplify\u001b[49m\u001b[43m(\u001b[49m\u001b[43mr\u001b[49m\u001b[43m)\u001b[49m\n\u001b[0;32m     49\u001b[0m \u001b[38;5;28;01mreturn\u001b[39;00m [r]\n",
      "File \u001b[1;32m~\\AppData\\Local\\Packages\\PythonSoftwareFoundation.Python.3.11_qbz5n2kfra8p0\\LocalCache\\local-packages\\Python311\\site-packages\\sympy\\simplify\\simplify.py:642\u001b[0m, in \u001b[0;36msimplify\u001b[1;34m(expr, ratio, measure, rational, inverse, doit, **kwargs)\u001b[0m\n\u001b[0;32m    639\u001b[0m     floats \u001b[38;5;241m=\u001b[39m \u001b[38;5;28;01mTrue\u001b[39;00m\n\u001b[0;32m    640\u001b[0m     expr \u001b[38;5;241m=\u001b[39m nsimplify(expr, rational\u001b[38;5;241m=\u001b[39m\u001b[38;5;28;01mTrue\u001b[39;00m)\n\u001b[1;32m--> 642\u001b[0m expr \u001b[38;5;241m=\u001b[39m \u001b[43m_bottom_up\u001b[49m\u001b[43m(\u001b[49m\u001b[43mexpr\u001b[49m\u001b[43m,\u001b[49m\u001b[43m \u001b[49m\u001b[38;5;28;43;01mlambda\u001b[39;49;00m\u001b[43m \u001b[49m\u001b[43mw\u001b[49m\u001b[43m:\u001b[49m\u001b[43m \u001b[49m\u001b[38;5;28;43mgetattr\u001b[39;49m\u001b[43m(\u001b[49m\u001b[43mw\u001b[49m\u001b[43m,\u001b[49m\u001b[43m \u001b[49m\u001b[38;5;124;43m'\u001b[39;49m\u001b[38;5;124;43mnormal\u001b[39;49m\u001b[38;5;124;43m'\u001b[39;49m\u001b[43m,\u001b[49m\u001b[43m \u001b[49m\u001b[38;5;28;43;01mlambda\u001b[39;49;00m\u001b[43m:\u001b[49m\u001b[43m \u001b[49m\u001b[43mw\u001b[49m\u001b[43m)\u001b[49m\u001b[43m(\u001b[49m\u001b[43m)\u001b[49m\u001b[43m)\u001b[49m\n\u001b[0;32m    643\u001b[0m expr \u001b[38;5;241m=\u001b[39m Mul(\u001b[38;5;241m*\u001b[39mpowsimp(expr)\u001b[38;5;241m.\u001b[39mas_content_primitive())\n\u001b[0;32m    644\u001b[0m _e \u001b[38;5;241m=\u001b[39m cancel(expr)\n",
      "File \u001b[1;32m~\\AppData\\Local\\Packages\\PythonSoftwareFoundation.Python.3.11_qbz5n2kfra8p0\\LocalCache\\local-packages\\Python311\\site-packages\\sympy\\core\\traversal.py:230\u001b[0m, in \u001b[0;36mbottom_up\u001b[1;34m(rv, F, atoms, nonbasic)\u001b[0m\n\u001b[0;32m    228\u001b[0m \u001b[38;5;28;01mif\u001b[39;00m args \u001b[38;5;129;01mis\u001b[39;00m \u001b[38;5;129;01mnot\u001b[39;00m \u001b[38;5;28;01mNone\u001b[39;00m:\n\u001b[0;32m    229\u001b[0m     \u001b[38;5;28;01mif\u001b[39;00m args:\n\u001b[1;32m--> 230\u001b[0m         args \u001b[38;5;241m=\u001b[39m \u001b[38;5;28mtuple\u001b[39m(\u001b[43m[\u001b[49m\u001b[43mbottom_up\u001b[49m\u001b[43m(\u001b[49m\u001b[43ma\u001b[49m\u001b[43m,\u001b[49m\u001b[43m \u001b[49m\u001b[43mF\u001b[49m\u001b[43m,\u001b[49m\u001b[43m \u001b[49m\u001b[43matoms\u001b[49m\u001b[43m,\u001b[49m\u001b[43m \u001b[49m\u001b[43mnonbasic\u001b[49m\u001b[43m)\u001b[49m\u001b[43m \u001b[49m\u001b[38;5;28;43;01mfor\u001b[39;49;00m\u001b[43m \u001b[49m\u001b[43ma\u001b[49m\u001b[43m \u001b[49m\u001b[38;5;129;43;01min\u001b[39;49;00m\u001b[43m \u001b[49m\u001b[43margs\u001b[49m\u001b[43m]\u001b[49m)\n\u001b[0;32m    231\u001b[0m         \u001b[38;5;28;01mif\u001b[39;00m args \u001b[38;5;241m!=\u001b[39m rv\u001b[38;5;241m.\u001b[39margs:\n\u001b[0;32m    232\u001b[0m             rv \u001b[38;5;241m=\u001b[39m rv\u001b[38;5;241m.\u001b[39mfunc(\u001b[38;5;241m*\u001b[39margs)\n",
      "File \u001b[1;32m~\\AppData\\Local\\Packages\\PythonSoftwareFoundation.Python.3.11_qbz5n2kfra8p0\\LocalCache\\local-packages\\Python311\\site-packages\\sympy\\core\\traversal.py:230\u001b[0m, in \u001b[0;36m<listcomp>\u001b[1;34m(.0)\u001b[0m\n\u001b[0;32m    228\u001b[0m \u001b[38;5;28;01mif\u001b[39;00m args \u001b[38;5;129;01mis\u001b[39;00m \u001b[38;5;129;01mnot\u001b[39;00m \u001b[38;5;28;01mNone\u001b[39;00m:\n\u001b[0;32m    229\u001b[0m     \u001b[38;5;28;01mif\u001b[39;00m args:\n\u001b[1;32m--> 230\u001b[0m         args \u001b[38;5;241m=\u001b[39m \u001b[38;5;28mtuple\u001b[39m([\u001b[43mbottom_up\u001b[49m\u001b[43m(\u001b[49m\u001b[43ma\u001b[49m\u001b[43m,\u001b[49m\u001b[43m \u001b[49m\u001b[43mF\u001b[49m\u001b[43m,\u001b[49m\u001b[43m \u001b[49m\u001b[43matoms\u001b[49m\u001b[43m,\u001b[49m\u001b[43m \u001b[49m\u001b[43mnonbasic\u001b[49m\u001b[43m)\u001b[49m \u001b[38;5;28;01mfor\u001b[39;00m a \u001b[38;5;129;01min\u001b[39;00m args])\n\u001b[0;32m    231\u001b[0m         \u001b[38;5;28;01mif\u001b[39;00m args \u001b[38;5;241m!=\u001b[39m rv\u001b[38;5;241m.\u001b[39margs:\n\u001b[0;32m    232\u001b[0m             rv \u001b[38;5;241m=\u001b[39m rv\u001b[38;5;241m.\u001b[39mfunc(\u001b[38;5;241m*\u001b[39margs)\n",
      "File \u001b[1;32m~\\AppData\\Local\\Packages\\PythonSoftwareFoundation.Python.3.11_qbz5n2kfra8p0\\LocalCache\\local-packages\\Python311\\site-packages\\sympy\\core\\traversal.py:230\u001b[0m, in \u001b[0;36mbottom_up\u001b[1;34m(rv, F, atoms, nonbasic)\u001b[0m\n\u001b[0;32m    228\u001b[0m \u001b[38;5;28;01mif\u001b[39;00m args \u001b[38;5;129;01mis\u001b[39;00m \u001b[38;5;129;01mnot\u001b[39;00m \u001b[38;5;28;01mNone\u001b[39;00m:\n\u001b[0;32m    229\u001b[0m     \u001b[38;5;28;01mif\u001b[39;00m args:\n\u001b[1;32m--> 230\u001b[0m         args \u001b[38;5;241m=\u001b[39m \u001b[38;5;28mtuple\u001b[39m(\u001b[43m[\u001b[49m\u001b[43mbottom_up\u001b[49m\u001b[43m(\u001b[49m\u001b[43ma\u001b[49m\u001b[43m,\u001b[49m\u001b[43m \u001b[49m\u001b[43mF\u001b[49m\u001b[43m,\u001b[49m\u001b[43m \u001b[49m\u001b[43matoms\u001b[49m\u001b[43m,\u001b[49m\u001b[43m \u001b[49m\u001b[43mnonbasic\u001b[49m\u001b[43m)\u001b[49m\u001b[43m \u001b[49m\u001b[38;5;28;43;01mfor\u001b[39;49;00m\u001b[43m \u001b[49m\u001b[43ma\u001b[49m\u001b[43m \u001b[49m\u001b[38;5;129;43;01min\u001b[39;49;00m\u001b[43m \u001b[49m\u001b[43margs\u001b[49m\u001b[43m]\u001b[49m)\n\u001b[0;32m    231\u001b[0m         \u001b[38;5;28;01mif\u001b[39;00m args \u001b[38;5;241m!=\u001b[39m rv\u001b[38;5;241m.\u001b[39margs:\n\u001b[0;32m    232\u001b[0m             rv \u001b[38;5;241m=\u001b[39m rv\u001b[38;5;241m.\u001b[39mfunc(\u001b[38;5;241m*\u001b[39margs)\n",
      "File \u001b[1;32m~\\AppData\\Local\\Packages\\PythonSoftwareFoundation.Python.3.11_qbz5n2kfra8p0\\LocalCache\\local-packages\\Python311\\site-packages\\sympy\\core\\traversal.py:230\u001b[0m, in \u001b[0;36m<listcomp>\u001b[1;34m(.0)\u001b[0m\n\u001b[0;32m    228\u001b[0m \u001b[38;5;28;01mif\u001b[39;00m args \u001b[38;5;129;01mis\u001b[39;00m \u001b[38;5;129;01mnot\u001b[39;00m \u001b[38;5;28;01mNone\u001b[39;00m:\n\u001b[0;32m    229\u001b[0m     \u001b[38;5;28;01mif\u001b[39;00m args:\n\u001b[1;32m--> 230\u001b[0m         args \u001b[38;5;241m=\u001b[39m \u001b[38;5;28mtuple\u001b[39m([\u001b[43mbottom_up\u001b[49m\u001b[43m(\u001b[49m\u001b[43ma\u001b[49m\u001b[43m,\u001b[49m\u001b[43m \u001b[49m\u001b[43mF\u001b[49m\u001b[43m,\u001b[49m\u001b[43m \u001b[49m\u001b[43matoms\u001b[49m\u001b[43m,\u001b[49m\u001b[43m \u001b[49m\u001b[43mnonbasic\u001b[49m\u001b[43m)\u001b[49m \u001b[38;5;28;01mfor\u001b[39;00m a \u001b[38;5;129;01min\u001b[39;00m args])\n\u001b[0;32m    231\u001b[0m         \u001b[38;5;28;01mif\u001b[39;00m args \u001b[38;5;241m!=\u001b[39m rv\u001b[38;5;241m.\u001b[39margs:\n\u001b[0;32m    232\u001b[0m             rv \u001b[38;5;241m=\u001b[39m rv\u001b[38;5;241m.\u001b[39mfunc(\u001b[38;5;241m*\u001b[39margs)\n",
      "File \u001b[1;32m~\\AppData\\Local\\Packages\\PythonSoftwareFoundation.Python.3.11_qbz5n2kfra8p0\\LocalCache\\local-packages\\Python311\\site-packages\\sympy\\core\\traversal.py:230\u001b[0m, in \u001b[0;36mbottom_up\u001b[1;34m(rv, F, atoms, nonbasic)\u001b[0m\n\u001b[0;32m    228\u001b[0m \u001b[38;5;28;01mif\u001b[39;00m args \u001b[38;5;129;01mis\u001b[39;00m \u001b[38;5;129;01mnot\u001b[39;00m \u001b[38;5;28;01mNone\u001b[39;00m:\n\u001b[0;32m    229\u001b[0m     \u001b[38;5;28;01mif\u001b[39;00m args:\n\u001b[1;32m--> 230\u001b[0m         args \u001b[38;5;241m=\u001b[39m \u001b[38;5;28mtuple\u001b[39m(\u001b[43m[\u001b[49m\u001b[43mbottom_up\u001b[49m\u001b[43m(\u001b[49m\u001b[43ma\u001b[49m\u001b[43m,\u001b[49m\u001b[43m \u001b[49m\u001b[43mF\u001b[49m\u001b[43m,\u001b[49m\u001b[43m \u001b[49m\u001b[43matoms\u001b[49m\u001b[43m,\u001b[49m\u001b[43m \u001b[49m\u001b[43mnonbasic\u001b[49m\u001b[43m)\u001b[49m\u001b[43m \u001b[49m\u001b[38;5;28;43;01mfor\u001b[39;49;00m\u001b[43m \u001b[49m\u001b[43ma\u001b[49m\u001b[43m \u001b[49m\u001b[38;5;129;43;01min\u001b[39;49;00m\u001b[43m \u001b[49m\u001b[43margs\u001b[49m\u001b[43m]\u001b[49m)\n\u001b[0;32m    231\u001b[0m         \u001b[38;5;28;01mif\u001b[39;00m args \u001b[38;5;241m!=\u001b[39m rv\u001b[38;5;241m.\u001b[39margs:\n\u001b[0;32m    232\u001b[0m             rv \u001b[38;5;241m=\u001b[39m rv\u001b[38;5;241m.\u001b[39mfunc(\u001b[38;5;241m*\u001b[39margs)\n",
      "File \u001b[1;32m~\\AppData\\Local\\Packages\\PythonSoftwareFoundation.Python.3.11_qbz5n2kfra8p0\\LocalCache\\local-packages\\Python311\\site-packages\\sympy\\core\\traversal.py:230\u001b[0m, in \u001b[0;36m<listcomp>\u001b[1;34m(.0)\u001b[0m\n\u001b[0;32m    228\u001b[0m \u001b[38;5;28;01mif\u001b[39;00m args \u001b[38;5;129;01mis\u001b[39;00m \u001b[38;5;129;01mnot\u001b[39;00m \u001b[38;5;28;01mNone\u001b[39;00m:\n\u001b[0;32m    229\u001b[0m     \u001b[38;5;28;01mif\u001b[39;00m args:\n\u001b[1;32m--> 230\u001b[0m         args \u001b[38;5;241m=\u001b[39m \u001b[38;5;28mtuple\u001b[39m([\u001b[43mbottom_up\u001b[49m\u001b[43m(\u001b[49m\u001b[43ma\u001b[49m\u001b[43m,\u001b[49m\u001b[43m \u001b[49m\u001b[43mF\u001b[49m\u001b[43m,\u001b[49m\u001b[43m \u001b[49m\u001b[43matoms\u001b[49m\u001b[43m,\u001b[49m\u001b[43m \u001b[49m\u001b[43mnonbasic\u001b[49m\u001b[43m)\u001b[49m \u001b[38;5;28;01mfor\u001b[39;00m a \u001b[38;5;129;01min\u001b[39;00m args])\n\u001b[0;32m    231\u001b[0m         \u001b[38;5;28;01mif\u001b[39;00m args \u001b[38;5;241m!=\u001b[39m rv\u001b[38;5;241m.\u001b[39margs:\n\u001b[0;32m    232\u001b[0m             rv \u001b[38;5;241m=\u001b[39m rv\u001b[38;5;241m.\u001b[39mfunc(\u001b[38;5;241m*\u001b[39margs)\n",
      "File \u001b[1;32m~\\AppData\\Local\\Packages\\PythonSoftwareFoundation.Python.3.11_qbz5n2kfra8p0\\LocalCache\\local-packages\\Python311\\site-packages\\sympy\\core\\traversal.py:231\u001b[0m, in \u001b[0;36mbottom_up\u001b[1;34m(rv, F, atoms, nonbasic)\u001b[0m\n\u001b[0;32m    229\u001b[0m \u001b[38;5;28;01mif\u001b[39;00m args:\n\u001b[0;32m    230\u001b[0m     args \u001b[38;5;241m=\u001b[39m \u001b[38;5;28mtuple\u001b[39m([bottom_up(a, F, atoms, nonbasic) \u001b[38;5;28;01mfor\u001b[39;00m a \u001b[38;5;129;01min\u001b[39;00m args])\n\u001b[1;32m--> 231\u001b[0m     \u001b[38;5;28;01mif\u001b[39;00m args \u001b[38;5;241m!=\u001b[39m \u001b[43mrv\u001b[49m\u001b[38;5;241;43m.\u001b[39;49m\u001b[43margs\u001b[49m:\n\u001b[0;32m    232\u001b[0m         rv \u001b[38;5;241m=\u001b[39m rv\u001b[38;5;241m.\u001b[39mfunc(\u001b[38;5;241m*\u001b[39margs)\n\u001b[0;32m    233\u001b[0m     rv \u001b[38;5;241m=\u001b[39m F(rv)\n",
      "File \u001b[1;32m~\\AppData\\Local\\Packages\\PythonSoftwareFoundation.Python.3.11_qbz5n2kfra8p0\\LocalCache\\local-packages\\Python311\\site-packages\\sympy\\core\\basic.py:869\u001b[0m, in \u001b[0;36mBasic.args\u001b[1;34m(self)\u001b[0m\n\u001b[0;32m    845\u001b[0m \u001b[38;5;250m    \u001b[39m\u001b[38;5;124;03m\"\"\"\u001b[39;00m\n\u001b[0;32m    846\u001b[0m \u001b[38;5;124;03m    The top-level function in an expression.\u001b[39;00m\n\u001b[0;32m    847\u001b[0m \n\u001b[1;32m   (...)\u001b[0m\n\u001b[0;32m    865\u001b[0m \n\u001b[0;32m    866\u001b[0m \u001b[38;5;124;03m    \"\"\"\u001b[39;00m\n\u001b[0;32m    867\u001b[0m     \u001b[38;5;28;01mreturn\u001b[39;00m \u001b[38;5;28mself\u001b[39m\u001b[38;5;241m.\u001b[39m\u001b[38;5;18m__class__\u001b[39m\n\u001b[1;32m--> 869\u001b[0m \u001b[38;5;129m@property\u001b[39m\n\u001b[0;32m    870\u001b[0m \u001b[38;5;28;01mdef\u001b[39;00m \u001b[38;5;21margs\u001b[39m(\u001b[38;5;28mself\u001b[39m) \u001b[38;5;241m-\u001b[39m\u001b[38;5;241m>\u001b[39m \u001b[38;5;28mtuple\u001b[39m[Basic, \u001b[38;5;241m.\u001b[39m\u001b[38;5;241m.\u001b[39m\u001b[38;5;241m.\u001b[39m]:\n\u001b[0;32m    871\u001b[0m \u001b[38;5;250m    \u001b[39m\u001b[38;5;124;03m\"\"\"Returns a tuple of arguments of 'self'.\u001b[39;00m\n\u001b[0;32m    872\u001b[0m \n\u001b[0;32m    873\u001b[0m \u001b[38;5;124;03m    Examples\u001b[39;00m\n\u001b[1;32m   (...)\u001b[0m\n\u001b[0;32m    897\u001b[0m \u001b[38;5;124;03m    change the interface in the future if needed).\u001b[39;00m\n\u001b[0;32m    898\u001b[0m \u001b[38;5;124;03m    \"\"\"\u001b[39;00m\n\u001b[0;32m    899\u001b[0m     \u001b[38;5;28;01mreturn\u001b[39;00m \u001b[38;5;28mself\u001b[39m\u001b[38;5;241m.\u001b[39m_args\n",
      "\u001b[1;31mKeyboardInterrupt\u001b[0m: "
     ]
    }
   ],
   "source": [
    "# Iteratively solve equations until all variables are found\n",
    "\n",
    "run_count = 0\n",
    "\n",
    "while True:\n",
    "    previous_known_values = known_values.copy()\n",
    "    \n",
    "    # Solve equations with current known values\n",
    "    solutions = sp.solve([eq1, eq3, eq4, eq5, eq6, eq7, eq8, eq9, eq10], dict=True)\n",
    "    \n",
    "    # Update known values with solutions\n",
    "    for solution in solutions:\n",
    "        for var, expr in solution.items():\n",
    "            if var not in known_values or known_values[var] is sp.nan:\n",
    "                known_values[var] = expr.subs(known_values)\n",
    "    \n",
    "    # Break if no new values are found\n",
    "    if known_values == previous_known_values:\n",
    "        break\n",
    "    else:\n",
    "        run_count += 1\n",
    "        print(f\"Run interation: {run_count}\")\n",
    "\n",
    "    if run_count > 5:\n",
    "        break\n",
    "\n",
    "# Display updated solutions\n",
    "for var, value in known_values.items():\n",
    "    print(f\"{var} = {value}\")\n"
   ]
  },
  {
   "cell_type": "markdown",
   "metadata": {},
   "source": [
    "#### Assign each variable a value, eventually these should all be numbers"
   ]
  },
  {
   "cell_type": "code",
   "execution_count": 8,
   "metadata": {},
   "outputs": [
    {
     "data": {
      "text/plain": [
       "(13, 16)"
      ]
     },
     "execution_count": 8,
     "metadata": {},
     "output_type": "execute_result"
    }
   ],
   "source": [
    "# assert(len(known_values) == len(all_values))\n",
    "len(known_values), len(all_values)\n",
    "# known_values"
   ]
  },
  {
   "cell_type": "code",
   "execution_count": 9,
   "metadata": {},
   "outputs": [],
   "source": [
    "\n",
    "for var, value in known_values.items():\n",
    "    all_values[var] = value\n",
    "\n",
    "\n",
    "P_d = all_values[P_d_sp]\n",
    "D_p = all_values[D_p_sp]\n",
    "D_g = all_values[D_g_sp]\n",
    "C = all_values[C_sp]\n",
    "N_p = all_values[N_p_sp]\n",
    "N_g = all_values[N_g_sp]\n",
    "n_p = all_values[n_p_sp]\n",
    "n_g = all_values[n_g_sp]\n",
    "n_g_guess = all_values[n_g_guess_sp]\n",
    "VR = all_values[VR_sp]\n",
    "VR_guess = all_values[VR_guess_sp]\n",
    "v_t = all_values[v_t_sp]\n",
    "F = all_values[F_sp]\n",
    "power = all_values[power_sp]\n",
    "lifetime = all_values[lifetime_sp]\n",
    "W_t = all_values[W_t_sp]\n"
   ]
  },
  {
   "cell_type": "markdown",
   "metadata": {},
   "source": [
    "### Final Calculations"
   ]
  },
  {
   "cell_type": "code",
   "execution_count": null,
   "metadata": {},
   "outputs": [],
   "source": [
    "if F is sp.nan:\n",
    "    print(F_sp)\n",
    "\n",
    "# assert(F < 2 * D_p)\n",
    "# assert(F > 0.5 * D_p)"
   ]
  },
  {
   "cell_type": "markdown",
   "metadata": {},
   "source": [
    "## Calulating correction Factors"
   ]
  },
  {
   "cell_type": "markdown",
   "metadata": {},
   "source": [
    "### Calculate $C_{pf}$"
   ]
  },
  {
   "cell_type": "code",
   "execution_count": 11,
   "metadata": {},
   "outputs": [
    {
     "ename": "TypeError",
     "evalue": "cannot determine truth value of Relational",
     "output_type": "error",
     "traceback": [
      "\u001b[1;31m---------------------------------------------------------------------------\u001b[0m",
      "\u001b[1;31mTypeError\u001b[0m                                 Traceback (most recent call last)",
      "Cell \u001b[1;32mIn[11], line 4\u001b[0m\n\u001b[0;32m      1\u001b[0m \u001b[38;5;66;03m#C_pf\u001b[39;00m\n\u001b[0;32m      2\u001b[0m C_pf \u001b[38;5;241m=\u001b[39m \u001b[38;5;28;01mNone\u001b[39;00m\n\u001b[1;32m----> 4\u001b[0m \u001b[38;5;28;01mif\u001b[39;00m F \u001b[38;5;241m/\u001b[39m D_p \u001b[38;5;241m<\u001b[39m \u001b[38;5;241m0.5\u001b[39m:\n\u001b[0;32m      5\u001b[0m     \u001b[38;5;28;01massert\u001b[39;00m(\u001b[38;5;28;01mFalse\u001b[39;00m)\n\u001b[0;32m      6\u001b[0m     \u001b[38;5;66;03m#use graph\u001b[39;00m\n",
      "File \u001b[1;32m~\\AppData\\Local\\Packages\\PythonSoftwareFoundation.Python.3.11_qbz5n2kfra8p0\\LocalCache\\local-packages\\Python311\\site-packages\\sympy\\core\\relational.py:516\u001b[0m, in \u001b[0;36mRelational.__bool__\u001b[1;34m(self)\u001b[0m\n\u001b[0;32m    515\u001b[0m \u001b[38;5;28;01mdef\u001b[39;00m \u001b[38;5;21m__bool__\u001b[39m(\u001b[38;5;28mself\u001b[39m):\n\u001b[1;32m--> 516\u001b[0m     \u001b[38;5;28;01mraise\u001b[39;00m \u001b[38;5;167;01mTypeError\u001b[39;00m(\u001b[38;5;124m\"\u001b[39m\u001b[38;5;124mcannot determine truth value of Relational\u001b[39m\u001b[38;5;124m\"\u001b[39m)\n",
      "\u001b[1;31mTypeError\u001b[0m: cannot determine truth value of Relational"
     ]
    }
   ],
   "source": [
    "#C_pf\n",
    "C_pf = None\n",
    "\n",
    "if F / D_p < 0.5:\n",
    "    assert(False)\n",
    "    #use graph\n",
    "elif F <= 1.0:\n",
    "    C_pf = F / (10 * D_p) - 0.025\n",
    "elif F <= 15:\n",
    "    C_pf = F / (10 * D_p) - 0.0375 + 0.0125 * F\n",
    "\n",
    "assert(C_pf is not None)\n",
    "\n",
    "C_pf"
   ]
  },
  {
   "cell_type": "markdown",
   "metadata": {},
   "source": [
    "### Calculate $C_{ma}$"
   ]
  },
  {
   "cell_type": "code",
   "execution_count": null,
   "metadata": {},
   "outputs": [],
   "source": [
    "#C_ma\n",
    "\n",
    "assert(cond is not None)\n",
    "\n",
    "C_ma = None\n",
    "\n",
    "if cond == \"commercial enclosed\".upper():\n",
    "    C_ma = 0.127 + 0.0158 * F - 1.093 * 10**-4 * F**2\n",
    "elif cond == \"precision\".upper():\n",
    "    C_ma = 0.0675 + 0.0128 * F - 0.926 * 10**-4 * F**2\n",
    "elif cond == \"extra\".upper():\n",
    "    C_ma = 0.0380 + 0.0102 * F - 0.822 * 10**-4 * F**2\n",
    "\n",
    "assert(C_ma is not None)\n",
    "C_ma"
   ]
  },
  {
   "cell_type": "code",
   "execution_count": null,
   "metadata": {},
   "outputs": [],
   "source": [
    "k_m = 1 + C_ma + C_pf"
   ]
  },
  {
   "cell_type": "markdown",
   "metadata": {},
   "source": [
    "## Loading Cycles\n",
    "$N_{cp}, N_{cg}$"
   ]
  },
  {
   "cell_type": "code",
   "execution_count": null,
   "metadata": {},
   "outputs": [],
   "source": [
    "#Number of cycles\n",
    "\n",
    "N_cp = 60 * known_values[lifetime] * n_p\n",
    "N_cg = 60 * known_values[lifetime] * n_g\n",
    "\n",
    "print(f\"N_cp: {N_cp:.2e}, N_cg: {N_cg:.2e}\")"
   ]
  },
  {
   "cell_type": "markdown",
   "metadata": {},
   "source": [
    "### *** Implement $Y_{xx}$  and $Z_{xx}$"
   ]
  },
  {
   "cell_type": "code",
   "execution_count": null,
   "metadata": {},
   "outputs": [],
   "source": [
    "\n",
    "Y_np = None\n",
    "Y_ng = None\n",
    "\n",
    "Z_np = None\n",
    "Z_ng = None\n",
    "assert(False)"
   ]
  },
  {
   "cell_type": "markdown",
   "metadata": {},
   "source": [
    "## Stresses and allowable Stresses"
   ]
  },
  {
   "cell_type": "markdown",
   "metadata": {},
   "source": [
    "### Title"
   ]
  },
  {
   "cell_type": "code",
   "execution_count": null,
   "metadata": {},
   "outputs": [],
   "source": [
    "s_tp = (W_t * P_d) / (F * J_p) * k_o * k_s * k_m * k_B * k_v\n",
    "s_tp"
   ]
  },
  {
   "cell_type": "code",
   "execution_count": null,
   "metadata": {},
   "outputs": [],
   "source": [
    "s_tG = s_tp * J_p / J_G\n",
    "s_tG"
   ]
  },
  {
   "cell_type": "markdown",
   "metadata": {},
   "source": [
    "### Title"
   ]
  },
  {
   "cell_type": "code",
   "execution_count": null,
   "metadata": {},
   "outputs": [],
   "source": [
    "s_atP_Greater_than = s_tp * k_R * safety_factor / Y_np\n",
    "s_atP_Greater_than"
   ]
  },
  {
   "cell_type": "code",
   "execution_count": null,
   "metadata": {},
   "outputs": [],
   "source": [
    "s_atG_Greater_than = s_tG * k_R * safety_factor / Y_ng\n",
    "s_atG_Greater_than"
   ]
  },
  {
   "cell_type": "markdown",
   "metadata": {},
   "source": [
    "### Calc $S_c$"
   ]
  },
  {
   "cell_type": "code",
   "execution_count": null,
   "metadata": {},
   "outputs": [],
   "source": [
    "S_c = C_p * np.sqrt( (W_t * k_o * k_s * k_m  * k_v) / (F * D_p * I) ) #\n",
    "S_c"
   ]
  },
  {
   "cell_type": "markdown",
   "metadata": {},
   "source": [
    "### FInd adjusted values of $S_c$"
   ]
  },
  {
   "cell_type": "code",
   "execution_count": null,
   "metadata": {},
   "outputs": [],
   "source": [
    "S_acP_Greater_than = S_c * (k_R * safety_factor) / Z_np\n",
    "S_acP_Greater_than"
   ]
  },
  {
   "cell_type": "code",
   "execution_count": null,
   "metadata": {},
   "outputs": [],
   "source": [
    "S_acg_Greater_than = S_c * (k_R * safety_factor) / Z_ng\n",
    "S_acg_Greater_than"
   ]
  },
  {
   "cell_type": "markdown",
   "metadata": {},
   "source": [
    "## Brinell Hardness Calculations"
   ]
  },
  {
   "cell_type": "code",
   "execution_count": null,
   "metadata": {},
   "outputs": [],
   "source": [
    "# Prompt the user for input\n",
    "HB_grade = input(\"HB grade 1 or 2? \")\n",
    "\n",
    "Contact_HB_p = 0\n",
    "Bending_HB_p = 0\n",
    "\n",
    "if int(HB_grade) == 1:\n",
    "    Contact_HB_p = ( S_acP_Greater_than / 1000 - 29.1 ) / 0.322\n",
    "    Bending_HB_p = ( s_atP_Greater_than / 1000 - 12.8 ) / 0.0773\n",
    "\n",
    "    Contact_HB_g = ( S_acg_Greater_than / 1000 - 29.1 ) / 0.322\n",
    "    Bending_HB_g = ( s_atG_Greater_than / 1000 - 12.8 ) / 0.0773\n",
    "\n",
    "elif int(HB_grade) == 2:\n",
    "    Contact_HB_p = ( S_acP_Greater_than / 1000 - 34.3 ) / 0.349\n",
    "    Bending_HB_p = ( s_atP_Greater_than / 1000 - 16.4 ) / 0.102\n",
    "\n",
    "    Contact_HB_g = ( S_acg_Greater_than / 1000 - 34.3 ) / 0.349\n",
    "    Bending_HB_g = ( s_atG_Greater_than / 1000 - 16.4 ) / 0.102\n",
    "\n",
    "else:\n",
    "    assert(False)\n",
    "\n",
    "\n",
    "print(f\"Contact_HB_p: {Contact_HB_p:.2f} psi \\nBending_HB_p: {Bending_HB_p:.2f} psi\\n\")\n",
    "\n",
    "print(f\"Contact_HB_g: {Contact_HB_g:.2f} psi \\nBending_HB_g: {Bending_HB_g:.2f} psi\")"
   ]
  },
  {
   "cell_type": "markdown",
   "metadata": {},
   "source": [
    "### use tables to find the appropriate Material, and enter its brinell hardness"
   ]
  },
  {
   "cell_type": "code",
   "execution_count": null,
   "metadata": {},
   "outputs": [],
   "source": [
    "HB = None"
   ]
  },
  {
   "cell_type": "markdown",
   "metadata": {},
   "source": [
    "### Calculate actaul allowed bending and contact stresses"
   ]
  },
  {
   "cell_type": "code",
   "execution_count": null,
   "metadata": {},
   "outputs": [],
   "source": [
    "#too lazy to implement rn\n",
    "\n",
    "S_acp = None\n",
    "S_atp = None\n",
    "\n",
    "S_acg = None\n",
    "S_atg = None\n",
    "assert(False) # so i remember to implement this"
   ]
  },
  {
   "cell_type": "markdown",
   "metadata": {},
   "source": [
    "### Calculate Safety factor"
   ]
  },
  {
   "cell_type": "code",
   "execution_count": null,
   "metadata": {},
   "outputs": [],
   "source": [
    "contact_SF_p = S_acp * Y_np / (S_c * k_R)\n",
    "bending_SF_p = S_atp * Y_np / (s_tp * k_R)\n",
    "\n",
    "print(f\"Contact Safety Factor (Pinion): {contact_SF_p:f} \\nBending Safety Factor (Pinion): {bending_SF_p:f}\\n\")\n",
    "\n",
    "contact_SF_g = S_acg * Y_np / (S_c * k_R)\n",
    "bending_SF_g = S_atg * Y_np / (s_tG * k_R)\n",
    "\n",
    "print(f\"Contact Safety Factor (Gear): {contact_SF_g:.2f} \\nBending Safety Factor (Gear): {bending_SF_g:.2f}\")\n",
    "\n"
   ]
  },
  {
   "cell_type": "markdown",
   "metadata": {},
   "source": [
    "## Power transmitting Capacity"
   ]
  },
  {
   "cell_type": "code",
   "execution_count": null,
   "metadata": {},
   "outputs": [],
   "source": [
    "# Power transmitting capacity\n",
    "\n",
    "P_cap = n_p * F * I / (126000 * k_o * k_s * k_m * k_v) * ( (S_acP_Greater_than * D_p * Z_np) / (safety_factor * k_R * C_p) ) ** 2\n",
    "\n",
    "print(f\"P_cap = {P_cap:.4f} HP\")"
   ]
  }
 ],
 "metadata": {
  "kernelspec": {
   "display_name": "Python 3",
   "language": "python",
   "name": "python3"
  },
  "language_info": {
   "codemirror_mode": {
    "name": "ipython",
    "version": 3
   },
   "file_extension": ".py",
   "mimetype": "text/x-python",
   "name": "python",
   "nbconvert_exporter": "python",
   "pygments_lexer": "ipython3",
   "version": "3.11.9"
  }
 },
 "nbformat": 4,
 "nbformat_minor": 2
}
