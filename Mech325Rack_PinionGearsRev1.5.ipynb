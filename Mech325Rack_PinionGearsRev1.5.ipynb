{
 "cells": [
  {
   "cell_type": "code",
   "execution_count": 44,
   "metadata": {},
   "outputs": [],
   "source": [
    "import numpy as np\n",
    "import matplotlib.pyplot as plt\n",
    "\n",
    "import sympy as sp\n",
    "\n",
    "from sympy import latex\n",
    "from IPython.display import display, Math\n",
    "\n",
    "from IPython.display import display, Math"
   ]
  },
  {
   "cell_type": "code",
   "execution_count": 30,
   "metadata": {},
   "outputs": [],
   "source": [
    "def linear_interpolation(x0, y0, x1, y1, x):\n",
    "    \"\"\"\n",
    "    Perform linear interpolation to find the y value corresponding to x.\n",
    "\n",
    "    Parameters:\n",
    "    x0, y0: coordinates of the first point\n",
    "    x1, y1: coordinates of the second point\n",
    "    x: the x value to interpolate\n",
    "\n",
    "    Returns:\n",
    "    y: the interpolated y value\n",
    "    \"\"\"\n",
    "    y = y0 + (y1 - y0) * (x - x0) / (x1 - x0)\n",
    "    return y\n",
    "\n",
    "# Example usage:\n",
    "# x0, y0 = 0, 0\n",
    "# x1, y1 = 10, 10\n",
    "# x = 5\n",
    "# y = linear_interpolation(x0, y0, x1, y1, x)\n",
    "# print(f\"The interpolated value at x={x} is y={y}\")"
   ]
  },
  {
   "cell_type": "markdown",
   "metadata": {},
   "source": [
    "## Given Constants"
   ]
  },
  {
   "cell_type": "code",
   "execution_count": 31,
   "metadata": {},
   "outputs": [],
   "source": [
    "gear = \"rack/pinion\"\n",
    "\n",
    "\n",
    "n_p = 1\n",
    "\n",
    "N_p = 1 # between 17 and 20 - only for spur?, idk abt helical\n",
    "\n",
    "P_d = 64\n",
    "\n"
   ]
  },
  {
   "cell_type": "markdown",
   "metadata": {},
   "source": [
    "## Find pitch diameter , $D_p$"
   ]
  },
  {
   "cell_type": "markdown",
   "metadata": {},
   "source": [
    "$$D_P = \\frac{N}{P_d}$$"
   ]
  },
  {
   "cell_type": "code",
   "execution_count": 32,
   "metadata": {},
   "outputs": [
    {
     "data": {
      "text/plain": [
       "0.015625"
      ]
     },
     "execution_count": 32,
     "metadata": {},
     "output_type": "execute_result"
    }
   ],
   "source": [
    "D_p = N_p / P_d\n",
    "D_p"
   ]
  },
  {
   "cell_type": "markdown",
   "metadata": {},
   "source": [
    "## Find distance from back of the rack to the  pinion center line, $B-C$"
   ]
  },
  {
   "cell_type": "markdown",
   "metadata": {},
   "source": [
    "### Find $B$ and other values based on $D_p$"
   ]
  },
  {
   "cell_type": "markdown",
   "metadata": {},
   "source": [
    "![Rack and Pinion Diagram](./Rack_Pinion_images/Table8-10.png)"
   ]
  },
  {
   "cell_type": "code",
   "execution_count": 33,
   "metadata": {},
   "outputs": [
    {
     "data": {
      "text/plain": [
       "0.109"
      ]
     },
     "execution_count": 33,
     "metadata": {},
     "output_type": "execute_result"
    }
   ],
   "source": [
    "rack_specifications = {\n",
    "    64: 0.109,\n",
    "    48: 0.104,\n",
    "    32: 0.156,\n",
    "    24: 0.208,\n",
    "    20: 0.450,\n",
    "    16: 0.688,\n",
    "    12: 0.917,\n",
    "    10: 1.150,\n",
    "    8: 1.375,\n",
    "    6: 1.333,\n",
    "    5: 1.300,\n",
    "    4: 1.750\n",
    "}\n",
    "\n",
    "B = rack_specifications[P_d]\n",
    "B"
   ]
  },
  {
   "cell_type": "markdown",
   "metadata": {},
   "source": [
    "#### Other values (which do not seem to be used in Bible)"
   ]
  },
  {
   "cell_type": "code",
   "execution_count": 34,
   "metadata": {},
   "outputs": [
    {
     "data": {
      "text/plain": [
       "0.125"
      ]
     },
     "execution_count": 34,
     "metadata": {},
     "output_type": "execute_result"
    }
   ],
   "source": [
    "overall_thickness = {\n",
    "    64: 0.125,\n",
    "    48: 0.125,\n",
    "    32: 0.187,\n",
    "    24: 0.250,\n",
    "    20: 0.500,\n",
    "    16: 0.750,\n",
    "    12: 1.000,\n",
    "    10: 1.250,\n",
    "    8: 1.500,\n",
    "    6: 1.500,\n",
    "    5: 1.500,\n",
    "    4: 2.000\n",
    "}\n",
    "\n",
    "thickness = overall_thickness[P_d]\n",
    "thickness"
   ]
  },
  {
   "cell_type": "code",
   "execution_count": 35,
   "metadata": {},
   "outputs": [
    {
     "data": {
      "text/plain": [
       "0.125"
      ]
     },
     "execution_count": 35,
     "metadata": {},
     "output_type": "execute_result"
    }
   ],
   "source": [
    "face_width = {\n",
    "    64: 0.125,\n",
    "    48: 0.125,\n",
    "    32: 0.187,\n",
    "    24: 0.250,\n",
    "    20: 0.500,\n",
    "    16: 0.750,\n",
    "    12: 1.000,\n",
    "    10: 1.250,\n",
    "    8: 1.500,\n",
    "    6: 1.500,\n",
    "    5: 2.500,\n",
    "    4: 3.500\n",
    "}\n",
    "\n",
    "F = face_width[P_d]\n",
    "F"
   ]
  },
  {
   "cell_type": "code",
   "execution_count": 36,
   "metadata": {},
   "outputs": [
    {
     "data": {
      "text/plain": [
       "2"
      ]
     },
     "execution_count": 36,
     "metadata": {},
     "output_type": "execute_result"
    }
   ],
   "source": [
    "nominal_length = {\n",
    "    64: 2,\n",
    "    48: 2,\n",
    "    32: 4,\n",
    "    24: 4,\n",
    "    20: 6,\n",
    "    16: 6,\n",
    "    12: 6,\n",
    "    10: 6,\n",
    "    8: 6,\n",
    "    6: 6,\n",
    "    5: 6,\n",
    "    4: 6\n",
    "}\n",
    "\n",
    "nom_length = nominal_length[P_d]\n",
    "nom_length"
   ]
  },
  {
   "cell_type": "markdown",
   "metadata": {},
   "source": [
    "#### Find distance from back of rack to the pinion centerline, B-C UNITS?"
   ]
  },
  {
   "cell_type": "markdown",
   "metadata": {},
   "source": [
    "$$B-C = B + \\frac{D_p}{2}$$"
   ]
  },
  {
   "cell_type": "code",
   "execution_count": 37,
   "metadata": {},
   "outputs": [
    {
     "data": {
      "text/plain": [
       "0.1168125"
      ]
     },
     "execution_count": 37,
     "metadata": {},
     "output_type": "execute_result"
    }
   ],
   "source": [
    "\n",
    "#Find B from table\n",
    "\n",
    "B_C = B + D_p / 2\n",
    "B_C"
   ]
  },
  {
   "cell_type": "markdown",
   "metadata": {},
   "source": [
    "## Find $v_{rack}$ - Units?"
   ]
  },
  {
   "cell_type": "markdown",
   "metadata": {},
   "source": [
    "$$v_{\\text{rack}} = \\Big(\\frac{\\pi}{6}\\Big) \\Big(\\frac{D_pn_p}{2}\\Big)$$"
   ]
  },
  {
   "cell_type": "code",
   "execution_count": 45,
   "metadata": {},
   "outputs": [
    {
     "data": {
      "text/latex": [
       "$\\displaystyle v_{rack} = 0.00409061543436171$"
      ],
      "text/plain": [
       "<IPython.core.display.Math object>"
      ]
     },
     "metadata": {},
     "output_type": "display_data"
    }
   ],
   "source": [
    "v_rack = (np.pi / 6) * (D_p * n_p / 2)\n",
    "v_rack = (np.pi / 6) * (D_p * n_p / 2)\n",
    "display(Math(latex(sp.Eq(sp.Symbol('v_rack'), v_rack))))"
   ]
  },
  {
   "cell_type": "markdown",
   "metadata": {},
   "source": [
    "## Find time / distances"
   ]
  },
  {
   "cell_type": "markdown",
   "metadata": {},
   "source": [
    "### Find time to move the rack a distance $S_{rack}$ in ft"
   ]
  },
  {
   "cell_type": "markdown",
   "metadata": {},
   "source": [
    "Enter the distance the rack moves"
   ]
  },
  {
   "cell_type": "code",
   "execution_count": 47,
   "metadata": {},
   "outputs": [],
   "source": [
    "#ENTER THE DISTANCE THE RACK MOVES IN ft___________\n",
    "\n",
    "s_rack = 1 # In feet \n",
    "assert(s_rack is not None)"
   ]
  },
  {
   "cell_type": "markdown",
   "metadata": {},
   "source": [
    "Calculate time:\n",
    "$$t = 60\\cdot{} \\frac{s_{\\text{rack}}}{v_{\\text{rack}}}$$"
   ]
  },
  {
   "cell_type": "code",
   "execution_count": 49,
   "metadata": {},
   "outputs": [
    {
     "data": {
      "text/latex": [
       "$\\displaystyle t = 14667.7195553491 \\, \\text{s}$"
      ],
      "text/plain": [
       "<IPython.core.display.Math object>"
      ]
     },
     "metadata": {},
     "output_type": "display_data"
    }
   ],
   "source": [
    "t = 60 * s_rack / v_rack\n",
    "t = 60 * s_rack / v_rack\n",
    "display(Math(latex(sp.Eq(sp.Symbol('t'), t)) + r' \\, \\text{s}'))"
   ]
  },
  {
   "cell_type": "markdown",
   "metadata": {},
   "source": [
    "### Find revolutions to move rack $s_{rack}$\n",
    "\n",
    "\n",
    "$$\\theta_p = \\frac{6}{\\pi} \\cdot{} \\frac{2s_{\\text{rack}}}{D_p}$$"
   ]
  },
  {
   "cell_type": "code",
   "execution_count": 51,
   "metadata": {},
   "outputs": [
    {
     "data": {
      "text/latex": [
       "$\\displaystyle \\theta_{p} = 244.461992589151 \\, \\text{revs}$"
      ],
      "text/plain": [
       "<IPython.core.display.Math object>"
      ]
     },
     "metadata": {},
     "output_type": "display_data"
    }
   ],
   "source": [
    "theta_p = (6 / np.pi) * ( 2 * s_rack / D_p )\n",
    "display(Math(latex(sp.Eq(sp.Symbol('theta_p'), theta_p)) + r' \\, \\text{revs}'))"
   ]
  },
  {
   "cell_type": "markdown",
   "metadata": {},
   "source": [
    "# Final Design"
   ]
  },
  {
   "cell_type": "code",
   "execution_count": 102,
   "metadata": {},
   "outputs": [
    {
     "name": "stdout",
     "output_type": "stream",
     "text": [
      "D_p: 2.5 in\n",
      "--- : ---\n",
      "B: 0.917 in\n",
      "thickness: 1.0\n",
      "F: 1.0 in\n",
      "nom_length: 6 ft\n",
      "B_C: 2.167 in\n",
      "---- : ---\n",
      "N_p: 30 teeth\n",
      "P_d: 12 teeth/in\n",
      "n_p: 50 rpm\n",
      "----- : ---\n",
      "s_rack: 7 ft\n",
      "t: 12.83425461093044 s\n",
      "theta_p: 10.695212175775366 revs\n",
      "v_rack: 32.72492347489368 ft/min\n"
     ]
    }
   ],
   "source": [
    "variables = {\n",
    "    \"D_p\": f\"{D_p} in\",\n",
    "    \"--- \" : \"---\",\n",
    "    \"B\": f\"{B} in\",\n",
    "    \"thickness\": thickness,\n",
    "    \"F\": f\"{F} in\",\n",
    "    \"nom_length\": f\"{nom_length} ft\",\n",
    "    \"--- \" : \"---\",\n",
    "    \"B_C\": f\"{B_C} in\",\n",
    "    \"---- \" : \"---\",\n",
    "    \"N_p\": f\"{N_p} teeth\",\n",
    "    \"P_d\": f\"{P_d} teeth/in\",\n",
    "    \"n_p\": f\"{n_p} rpm\",\n",
    "    \"----- \" : \"---\",\n",
    "    \"s_rack\": f\"{s_rack} ft\",\n",
    "    \"t\": f\"{t} s\",\n",
    "    \"theta_p\": f\"{theta_p} revs\",\n",
    "    \"v_rack\": f\"{v_rack} ft/min\"\n",
    "}\n",
    "\n",
    "for var_name, var_value in variables.items():\n",
    "    print(f\"{var_name}: {var_value}\")"
   ]
  }
 ],
 "metadata": {
  "kernelspec": {
   "display_name": "Python 3",
   "language": "python",
   "name": "python3"
  },
  "language_info": {
   "codemirror_mode": {
    "name": "ipython",
    "version": 3
   },
   "file_extension": ".py",
   "mimetype": "text/x-python",
   "name": "python",
   "nbconvert_exporter": "python",
   "pygments_lexer": "ipython3",
   "version": "3.11.9"
  }
 },
 "nbformat": 4,
 "nbformat_minor": 2
}
