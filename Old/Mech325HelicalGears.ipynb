{
 "cells": [
  {
   "cell_type": "code",
   "execution_count": 617,
   "metadata": {},
   "outputs": [],
   "source": [
    "import numpy as np\n",
    "import matplotlib.pyplot as plt"
   ]
  },
  {
   "cell_type": "code",
   "execution_count": 618,
   "metadata": {},
   "outputs": [],
   "source": [
    "def linear_interpolation(x0, y0, x1, y1, x):\n",
    "    \"\"\"\n",
    "    Perform linear interpolation to find the y value corresponding to x.\n",
    "\n",
    "    Parameters:\n",
    "    x0, y0: coordinates of the first point\n",
    "    x1, y1: coordinates of the second point\n",
    "    x: the x value to interpolate\n",
    "\n",
    "    Returns:\n",
    "    y: the interpolated y value\n",
    "    \"\"\"\n",
    "    y = y0 + (y1 - y0) * (x - x0) / (x1 - x0)\n",
    "    return y\n",
    "\n",
    "# Example usage:\n",
    "# x0, y0 = 0, 0\n",
    "# x1, y1 = 10, 10\n",
    "# x = 5\n",
    "# y = linear_interpolation(x0, y0, x1, y1, x)\n",
    "# print(f\"The interpolated value at x={x} is y={y}\")"
   ]
  },
  {
   "cell_type": "markdown",
   "metadata": {},
   "source": [
    "## Given Constants"
   ]
  },
  {
   "cell_type": "code",
   "execution_count": 619,
   "metadata": {},
   "outputs": [],
   "source": [
    "gear = \"helix\"\n",
    "\n",
    "\n",
    "n_p = 1200\n",
    "\n",
    "n_g_guess = 387\n",
    "\n",
    "N_p = 19 # between 17 and 20 - only for spur?, idk abt helical\n",
    "N_g = None\n",
    "\n",
    "P_d = 12\n",
    "P_t = None\n",
    "P_nd = None\n",
    "\n",
    "D_p = None\n",
    "D_g = None\n",
    "\n",
    "\n",
    "DEFINED_FACE_WIDTH = False\n",
    "F = 1.5\n",
    "\n",
    "P = 5 # Power in HP\n",
    "life_time = 15000 # in hours?\n",
    "\n",
    "\n",
    "A_v = 10\n",
    "\n"
   ]
  },
  {
   "cell_type": "code",
   "execution_count": 620,
   "metadata": {},
   "outputs": [],
   "source": [
    "#helical\n",
    "phi_n = None\n",
    "phi_t = 20\n",
    "\n",
    "psi = 25"
   ]
  },
  {
   "cell_type": "code",
   "execution_count": 621,
   "metadata": {},
   "outputs": [
    {
     "data": {
      "text/plain": [
       "(18.256124010900294, 20)"
      ]
     },
     "execution_count": 621,
     "metadata": {},
     "output_type": "execute_result"
    }
   ],
   "source": [
    "#helical\n",
    "if phi_n is None:\n",
    "    phi_n = 180 / np.pi * np.arctan(np.tan(phi_t * np.pi / 180) * np.cos(psi * np.pi / 180))\n",
    "elif phi_t is None:\n",
    "    phi_t = 180 / np.pi * np.arctan(np.tan(phi_n * np.pi / 180) / np.cos(psi * np.pi / 180))\n",
    "\n",
    "phi_n, phi_t"
   ]
  },
  {
   "cell_type": "markdown",
   "metadata": {},
   "source": [
    "NEED TO CALCULATE GEAR PROPERLY FIRST"
   ]
  },
  {
   "cell_type": "markdown",
   "metadata": {},
   "source": [
    "Calculate P_d, diameters etc"
   ]
  },
  {
   "cell_type": "code",
   "execution_count": 622,
   "metadata": {},
   "outputs": [
    {
     "data": {
      "text/plain": [
       "(12, 0.5614305989204417, 0.2617993877991494)"
      ]
     },
     "execution_count": 622,
     "metadata": {},
     "output_type": "execute_result"
    }
   ],
   "source": [
    "if P_d is None and P_nd is not None:\n",
    "    P_d = P_nd * np.cos(psi * np.pi / 180)\n",
    "    D_p = N_p / P_d\n",
    "    D_g = N_g / P_d\n",
    "    assert(N_g is not None)\n",
    "\n",
    "\n",
    "elif P_d is None and D_p is not None:\n",
    "    P_d = N_p / D_p\n",
    "    \n",
    "\n",
    "elif P_nd is None and D_p is None:\n",
    "    P_nd = P_d / np.cos(psi * np.pi / 180)\n",
    "    D_p = N_p / P_d\n",
    "    D_g = N_g / P_d\n",
    "    assert(N_g is not None)\n",
    "    \n",
    "assert(P_d is not None)\n",
    "\n",
    "P_t = np.pi / P_d\n",
    "\n",
    "P_x = np.pi / (P_d * np.tan(psi * np.pi / 180) )\n",
    "\n",
    "assert(P_x - P_t / np.tan(psi * np.pi / 180) < 10**-8)\n",
    "\n",
    "P_d, P_x, P_t\n"
   ]
  },
  {
   "cell_type": "markdown",
   "metadata": {},
   "source": [
    "Face width"
   ]
  },
  {
   "cell_type": "code",
   "execution_count": 623,
   "metadata": {},
   "outputs": [
    {
     "data": {
      "text/plain": [
       "(1.1228611978408833, 2.0)"
      ]
     },
     "execution_count": 623,
     "metadata": {},
     "output_type": "execute_result"
    }
   ],
   "source": [
    "#face width\n",
    "\n",
    "if not DEFINED_FACE_WIDTH:\n",
    "    F = 2 * P_x #nominal value\n",
    "\n",
    "F_div_P_x = F / P_x\n",
    "\n",
    "# assert(F_div_P_x - 2 > 10**-8)\n",
    "\n",
    "F, F_div_P_x\n"
   ]
  },
  {
   "cell_type": "markdown",
   "metadata": {},
   "source": [
    "## Calculations"
   ]
  },
  {
   "cell_type": "code",
   "execution_count": 624,
   "metadata": {},
   "outputs": [],
   "source": [
    "#shock factor\n",
    "k_o = 1.5"
   ]
  },
  {
   "cell_type": "code",
   "execution_count": 625,
   "metadata": {},
   "outputs": [
    {
     "data": {
      "text/plain": [
       "7.5"
      ]
     },
     "execution_count": 625,
     "metadata": {},
     "output_type": "execute_result"
    }
   ],
   "source": [
    "P_des = P * k_o\n",
    "P_des"
   ]
  },
  {
   "cell_type": "markdown",
   "metadata": {},
   "source": [
    "### Velocity ratio, output speed"
   ]
  },
  {
   "cell_type": "code",
   "execution_count": 626,
   "metadata": {},
   "outputs": [],
   "source": [
    "##Velocity ratio\n",
    "\n",
    "VR_guess = n_p/n_g_guess\n"
   ]
  },
  {
   "cell_type": "code",
   "execution_count": 627,
   "metadata": {},
   "outputs": [
    {
     "data": {
      "text/plain": [
       "59"
      ]
     },
     "execution_count": 627,
     "metadata": {},
     "output_type": "execute_result"
    }
   ],
   "source": [
    "##Number of teeth on gear\n",
    "\n",
    "N_g = round(N_p * VR_guess)\n",
    "N_g\n"
   ]
  },
  {
   "cell_type": "code",
   "execution_count": 628,
   "metadata": {},
   "outputs": [
    {
     "data": {
      "text/plain": [
       "(3.1052631578947367, 386.4406779661017)"
      ]
     },
     "execution_count": 628,
     "metadata": {},
     "output_type": "execute_result"
    }
   ],
   "source": [
    "VR = N_g/N_p\n",
    "n_g = n_p / VR\n",
    "\n",
    "VR, n_g"
   ]
  },
  {
   "cell_type": "markdown",
   "metadata": {},
   "source": [
    "### Diameters, Center distances, pitch line speed"
   ]
  },
  {
   "cell_type": "code",
   "execution_count": 629,
   "metadata": {},
   "outputs": [
    {
     "data": {
      "text/plain": [
       "3.25"
      ]
     },
     "execution_count": 629,
     "metadata": {},
     "output_type": "execute_result"
    }
   ],
   "source": [
    "##Center distance\n",
    "\n",
    "C = (N_p + N_g) / (2 * P_d)\n",
    "C"
   ]
  },
  {
   "cell_type": "code",
   "execution_count": 630,
   "metadata": {},
   "outputs": [
    {
     "data": {
      "text/plain": [
       "497.41883681838385"
      ]
     },
     "execution_count": 630,
     "metadata": {},
     "output_type": "execute_result"
    }
   ],
   "source": [
    "##v_t\n",
    "\n",
    "v_t = np.pi * D_p * n_p / 12\n",
    "v_t"
   ]
  },
  {
   "cell_type": "markdown",
   "metadata": {},
   "source": [
    "## Helical gear stuff follows"
   ]
  },
  {
   "cell_type": "markdown",
   "metadata": {},
   "source": [
    "### Calculate J, I"
   ]
  },
  {
   "cell_type": "code",
   "execution_count": 631,
   "metadata": {},
   "outputs": [],
   "source": [
    "#find J_p and J_G\n",
    "\n",
    "J_p = 0.405\n",
    "J_G = 1000000000000000000\n",
    "\n",
    "I = 0.19\n",
    "\n",
    "assert(I > 0); assert(J_p > 0); assert(J_G > 0)"
   ]
  },
  {
   "cell_type": "markdown",
   "metadata": {},
   "source": [
    "### Calculate forces"
   ]
  },
  {
   "cell_type": "code",
   "execution_count": 632,
   "metadata": {},
   "outputs": [
    {
     "data": {
      "text/plain": [
       "(331.71240770731873, 120.73344274223882, 154.6800360189559)"
      ]
     },
     "execution_count": 632,
     "metadata": {},
     "output_type": "execute_result"
    }
   ],
   "source": [
    "## W_t - helical gear\n",
    "\n",
    "W_t = 33000 * P / v_t\n",
    "W_r = W_t * np.tan(phi_t * np.pi / 180)\n",
    "Wx = W_t * np.tan(psi * np.pi / 180)\n",
    "W_t, W_r, Wx"
   ]
  },
  {
   "cell_type": "markdown",
   "metadata": {},
   "source": [
    "## choose a material - this part is sketch\n",
    "\n",
    "seems to apply the same for all gears??\n",
    "\n",
    "this part consists of finding numbers in tables"
   ]
  },
  {
   "cell_type": "code",
   "execution_count": 633,
   "metadata": {},
   "outputs": [],
   "source": [
    "C_p = 2300 # for steel"
   ]
  },
  {
   "cell_type": "code",
   "execution_count": 634,
   "metadata": {},
   "outputs": [],
   "source": [
    "# usually given - use table 9-5 in mott \n",
    "# A_v = 10\n",
    "assert(A_v is not None)\n"
   ]
  },
  {
   "cell_type": "code",
   "execution_count": 635,
   "metadata": {},
   "outputs": [],
   "source": [
    "k_v = 1.25 #from A_v\n",
    "\n",
    "assert(k_v > 0)"
   ]
  },
  {
   "cell_type": "code",
   "execution_count": 636,
   "metadata": {},
   "outputs": [
    {
     "data": {
      "text/plain": [
       "0.047453314310329994"
      ]
     },
     "execution_count": 636,
     "metadata": {},
     "output_type": "execute_result"
    }
   ],
   "source": [
    "#C_pf\n",
    "C_pf = None\n",
    "\n",
    "if F / D_p < 0.5:\n",
    "    C_pf = -1\n",
    "    # assert(False)\n",
    "    #use graph\n",
    "elif F <= 1.0:\n",
    "    C_pf = F / (10 * D_p) - 0.025\n",
    "elif F <= 15:\n",
    "    C_pf = F / (10 * D_p) - 0.0375 + 0.0125 * F\n",
    "\n",
    "assert(C_pf is not None)\n",
    "\n",
    "C_pf\n"
   ]
  },
  {
   "cell_type": "code",
   "execution_count": 637,
   "metadata": {},
   "outputs": [
    {
     "data": {
      "text/plain": [
       "0.14460339959831686"
      ]
     },
     "execution_count": 637,
     "metadata": {},
     "output_type": "execute_result"
    }
   ],
   "source": [
    "#C_ma\n",
    "cond = \"commercial Enclosed\".upper()\n",
    "assert(cond is not None)\n",
    "\n",
    "C_ma = -1\n",
    "\n",
    "if cond == \"commercial enclosed\".upper():\n",
    "    C_ma = 0.127 + 0.0158 * F - 1.093 * 10**-4 * F**2\n",
    "elif cond == \"precision\".upper():\n",
    "    C_ma = 0.0675 + 0.0128 * F - 0.926 * 10**-4 * F**2\n",
    "elif cond == \"extra\".upper():\n",
    "    C_ma = 0.0380 + 0.0102 * F - 0.822 * 10**-4 * F**2\n",
    "\n",
    "C_ma\n"
   ]
  },
  {
   "cell_type": "code",
   "execution_count": 638,
   "metadata": {},
   "outputs": [
    {
     "data": {
      "text/plain": [
       "1.1920567139086469"
      ]
     },
     "execution_count": 638,
     "metadata": {},
     "output_type": "execute_result"
    }
   ],
   "source": [
    "k_m = 1 + C_ma + C_pf\n",
    "k_m"
   ]
  },
  {
   "cell_type": "markdown",
   "metadata": {},
   "source": [
    "### Find $k_s, k_B, k_R, k_v, SF$ from a table idrk"
   ]
  },
  {
   "cell_type": "code",
   "execution_count": 639,
   "metadata": {},
   "outputs": [],
   "source": [
    "k_s = 1.0"
   ]
  },
  {
   "cell_type": "code",
   "execution_count": 640,
   "metadata": {},
   "outputs": [
    {
     "data": {
      "text/plain": [
       "1.0"
      ]
     },
     "execution_count": 640,
     "metadata": {},
     "output_type": "execute_result"
    }
   ],
   "source": [
    "#k_B\n",
    "# assert(False)\n",
    "#idk how to determine this\n",
    "k_B = 1.00\n",
    "k_B"
   ]
  },
  {
   "cell_type": "code",
   "execution_count": 641,
   "metadata": {},
   "outputs": [],
   "source": [
    "k_R = 1"
   ]
  },
  {
   "cell_type": "code",
   "execution_count": 642,
   "metadata": {},
   "outputs": [],
   "source": [
    "safety_factor = 1.0"
   ]
  },
  {
   "cell_type": "markdown",
   "metadata": {},
   "source": [
    "## Calculate $Y_{np}, Y_{ng}$ with the above numbers"
   ]
  },
  {
   "cell_type": "markdown",
   "metadata": {},
   "source": [
    "### Number of loading cycles"
   ]
  },
  {
   "cell_type": "code",
   "execution_count": 643,
   "metadata": {},
   "outputs": [
    {
     "name": "stdout",
     "output_type": "stream",
     "text": [
      "N_cp: 1.08e+09, N_cg: 3.48e+08\n"
     ]
    }
   ],
   "source": [
    "#Number of cycles\n",
    "\n",
    "N_cp = 60 * life_time * n_p\n",
    "N_cg = 60 * life_time * n_g\n",
    "\n",
    "print(f\"N_cp: {N_cp:.2e}, N_cg: {N_cg:.2e}\")"
   ]
  },
  {
   "cell_type": "markdown",
   "metadata": {},
   "source": [
    "### Calc $Y_{xx}, Z_{xx}$"
   ]
  },
  {
   "cell_type": "code",
   "execution_count": 644,
   "metadata": {},
   "outputs": [],
   "source": [
    "# assert(False)\n",
    "Y_np = 0.95\n",
    "Y_ng = 1.0\n",
    "\n",
    "Z_np = 0.898\n",
    "Z_ng = 0.922"
   ]
  },
  {
   "cell_type": "markdown",
   "metadata": {},
   "source": [
    "## Calculate $S_{tP}$ and $S_{tG}$"
   ]
  },
  {
   "cell_type": "code",
   "execution_count": 645,
   "metadata": {},
   "outputs": [
    {
     "name": "stdout",
     "output_type": "stream",
     "text": [
      "W_t=331.71240770731873, P_d=12, F=1.1228611978408833, J_p=0.405, k_o=1.5, k_s=1.0, k_m=1.1920567139086469, k_B=1.0, k_v=1.25\n"
     ]
    },
    {
     "data": {
      "text/plain": [
       "19564.108163772114"
      ]
     },
     "execution_count": 645,
     "metadata": {},
     "output_type": "execute_result"
    }
   ],
   "source": [
    "assert(F != 0)\n",
    "assert(J_p != 0)\n",
    "\n",
    "s_tp = (W_t * P_d) / (F * J_p) * k_o * k_s * k_m * k_B * k_v\n",
    "s_tp\n",
    "\n",
    "# W_t, P_d, F, J_p, k_o, k_s, k_m, k_B, k_v\n",
    "print(f\"{W_t=}, {P_d=}, {F=}, {J_p=}, {k_o=}, {k_s=}, {k_m=}, {k_B=}, {k_v=}\")\n",
    "s_tp"
   ]
  },
  {
   "cell_type": "code",
   "execution_count": 646,
   "metadata": {},
   "outputs": [
    {
     "data": {
      "text/plain": [
       "7.923463806327708e-15"
      ]
     },
     "execution_count": 646,
     "metadata": {},
     "output_type": "execute_result"
    }
   ],
   "source": [
    "s_tG = s_tp * J_p / J_G\n",
    "s_tG"
   ]
  },
  {
   "cell_type": "code",
   "execution_count": 647,
   "metadata": {},
   "outputs": [
    {
     "data": {
      "text/plain": [
       "20593.798067128544"
      ]
     },
     "execution_count": 647,
     "metadata": {},
     "output_type": "execute_result"
    }
   ],
   "source": [
    "#idk what this is\n",
    "s_atP_Greater_than = s_tp * k_R * safety_factor / Y_np\n",
    "s_atP_Greater_than"
   ]
  },
  {
   "cell_type": "code",
   "execution_count": 1,
   "metadata": {},
   "outputs": [
    {
     "ename": "NameError",
     "evalue": "name 's_tG' is not defined",
     "output_type": "error",
     "traceback": [
      "\u001b[1;31m---------------------------------------------------------------------------\u001b[0m",
      "\u001b[1;31mNameError\u001b[0m                                 Traceback (most recent call last)",
      "Cell \u001b[1;32mIn[1], line 2\u001b[0m\n\u001b[0;32m      1\u001b[0m \u001b[38;5;66;03m#idk what this is\u001b[39;00m\n\u001b[1;32m----> 2\u001b[0m s_atG_Greater_than \u001b[38;5;241m=\u001b[39m \u001b[43ms_tG\u001b[49m \u001b[38;5;241m*\u001b[39m k_R \u001b[38;5;241m*\u001b[39m safety_factor \u001b[38;5;241m/\u001b[39m Y_ng\n\u001b[0;32m      3\u001b[0m s_atG_Greater_than\n",
      "\u001b[1;31mNameError\u001b[0m: name 's_tG' is not defined"
     ]
    }
   ],
   "source": [
    "#idk what this is\n",
    "s_atG_Greater_than = s_tG * k_R * safety_factor / Y_ng\n",
    "s_atG_Greater_than\n",
    "\n"
   ]
  },
  {
   "cell_type": "markdown",
   "metadata": {},
   "source": [
    "### Calculate $S_c$"
   ]
  },
  {
   "cell_type": "code",
   "execution_count": 649,
   "metadata": {},
   "outputs": [
    {
     "data": {
      "text/plain": [
       "107753.59643395903"
      ]
     },
     "execution_count": 649,
     "metadata": {},
     "output_type": "execute_result"
    }
   ],
   "source": [
    "S_c = C_p * np.sqrt( (W_t * k_o * k_s * k_m  * k_v) / (F * D_p * I) ) #\n",
    "S_c"
   ]
  },
  {
   "cell_type": "markdown",
   "metadata": {},
   "source": [
    "### Find adjusted values of $S_c$"
   ]
  },
  {
   "cell_type": "code",
   "execution_count": 650,
   "metadata": {},
   "outputs": [
    {
     "data": {
      "text/plain": [
       "119992.86908013254"
      ]
     },
     "execution_count": 650,
     "metadata": {},
     "output_type": "execute_result"
    }
   ],
   "source": [
    "S_acP_Greater_than = S_c * (k_R * safety_factor) / Z_np\n",
    "S_acP_Greater_than"
   ]
  },
  {
   "cell_type": "code",
   "execution_count": 651,
   "metadata": {},
   "outputs": [
    {
     "data": {
      "text/plain": [
       "116869.41044897941"
      ]
     },
     "execution_count": 651,
     "metadata": {},
     "output_type": "execute_result"
    }
   ],
   "source": [
    "S_acg_Greater_than = S_c * (k_R * safety_factor) / Z_ng\n",
    "S_acg_Greater_than"
   ]
  },
  {
   "cell_type": "markdown",
   "metadata": {},
   "source": [
    "### Calculate the required brinell hardness"
   ]
  },
  {
   "cell_type": "code",
   "execution_count": 652,
   "metadata": {},
   "outputs": [
    {
     "name": "stdout",
     "output_type": "stream",
     "text": [
      "Contact_HB_p: 282.28 psi \n",
      "Bending_HB_p: 100.83 psi\n",
      "\n",
      "Contact_HB_g: 272.58 psi \n",
      "Bending_HB_g: -165.59 psi\n"
     ]
    }
   ],
   "source": [
    "# Prompt the user for input\n",
    "HB_grade = input(\"HB grade 1 or 2? \")\n",
    "\n",
    "Contact_HB_p = 0\n",
    "Bending_HB_p = 0\n",
    "\n",
    "if int(HB_grade) == 1:\n",
    "    Contact_HB_p = ( S_acP_Greater_than / 1000 - 29.1 ) / 0.322\n",
    "    Bending_HB_p = ( s_atP_Greater_than / 1000 - 12.8 ) / 0.0773\n",
    "\n",
    "    Contact_HB_g = ( S_acg_Greater_than / 1000 - 29.1 ) / 0.322\n",
    "    Bending_HB_g = ( s_atG_Greater_than / 1000 - 12.8 ) / 0.0773\n",
    "\n",
    "elif int(HB_grade) == 2:\n",
    "    Contact_HB_p = ( S_acP_Greater_than / 1000 - 34.3 ) / 0.349\n",
    "    Bending_HB_p = ( s_atP_Greater_than / 1000 - 16.4 ) / 0.102\n",
    "\n",
    "    Contact_HB_g = ( S_acg_Greater_than / 1000 - 34.3 ) / 0.349\n",
    "    Bending_HB_g = ( s_atG_Greater_than / 1000 - 16.4 ) / 0.102\n",
    "\n",
    "else:\n",
    "    assert(False)\n",
    "\n",
    "\n",
    "print(f\"Contact_HB_p: {Contact_HB_p:.2f} psi \\nBending_HB_p: {Bending_HB_p:.2f} psi\\n\")\n",
    "\n",
    "print(f\"Contact_HB_g: {Contact_HB_g:.2f} psi \\nBending_HB_g: {Bending_HB_g:.2f} psi\")"
   ]
  },
  {
   "cell_type": "markdown",
   "metadata": {},
   "source": [
    "Use tables in the bible to find an appropriate material that satisfies the required HB. The material should be the same for the gear and the pinion.\n",
    "\n",
    "Make sure to use table 9-8 form Mott to determine the heat treatment\n",
    "\n",
    "Get $S_{acp}, S_{atp}$ for the material"
   ]
  },
  {
   "cell_type": "code",
   "execution_count": 653,
   "metadata": {},
   "outputs": [],
   "source": [
    "S_acp = 126000#None\n",
    "S_atp = 36100#None\n",
    "\n",
    "S_acg = 1#None\n",
    "S_atg = 1#None"
   ]
  },
  {
   "cell_type": "code",
   "execution_count": 654,
   "metadata": {},
   "outputs": [
    {
     "name": "stdout",
     "output_type": "stream",
     "text": [
      "Contact Safety Factor (Pinion): 1.110868 \n",
      "Bending Safety Factor (Pinion): 1.752955\n",
      "\n",
      "Contact Safety Factor (Gear): 0.00 \n",
      "Bending Safety Factor (Gear): 119897058057023.80\n",
      "126000 0.95 107753.59643395903 1\n"
     ]
    }
   ],
   "source": [
    "contact_SF_p = S_acp * Y_np / (S_c * k_R)\n",
    "bending_SF_p = S_atp * Y_np / (s_tp * k_R)\n",
    "\n",
    "print(f\"Contact Safety Factor (Pinion): {contact_SF_p:f} \\nBending Safety Factor (Pinion): {bending_SF_p:f}\\n\")\n",
    "\n",
    "contact_SF_g = S_acg * Y_np / (S_c * k_R)\n",
    "bending_SF_g = S_atg * Y_np / (s_tG * k_R)\n",
    "\n",
    "print(f\"Contact Safety Factor (Gear): {contact_SF_g:.2f} \\nBending Safety Factor (Gear): {bending_SF_g:.2f}\")\n",
    "\n",
    "print(S_acp, Y_np, S_c, k_R)\n"
   ]
  },
  {
   "cell_type": "code",
   "execution_count": 655,
   "metadata": {},
   "outputs": [
    {
     "name": "stdout",
     "output_type": "stream",
     "text": [
      "P_cap = 5.0020 HP\n"
     ]
    }
   ],
   "source": [
    "# Power transmitting capacity\n",
    "\n",
    "P_cap = n_p * F * I / (126000 * k_o * k_s * k_m * k_v) * ( (S_acP_Greater_than * D_p * Z_np) / (safety_factor * k_R * C_p) ) ** 2\n",
    "\n",
    "print(f\"P_cap = {P_cap:.4f} HP\")"
   ]
  },
  {
   "cell_type": "markdown",
   "metadata": {},
   "source": [
    "# Final Design"
   ]
  },
  {
   "cell_type": "code",
   "execution_count": 656,
   "metadata": {},
   "outputs": [
    {
     "name": "stdout",
     "output_type": "stream",
     "text": [
      "D_p: 1.5833333333333333 in\n",
      "--- : ---\n",
      "F: 1.1228611978408833 in\n",
      "N_p: 19 teeth\n",
      "P_d: 12 teeth/in\n",
      "n_p: 1200 rpm\n",
      "D_g: 0.0 in\n",
      "N_g: 59 teeth\n",
      "P: 5 HP\n",
      "P_nd: 13.24 teeth/in\n",
      "P_x: 0.56 in\n",
      "P_t: 0.26 in\n",
      "VR: 3.11\n",
      "W_r: 120.73 lbs\n",
      "W_t: 331.71 lbs\n",
      "Wx: 154.68 lbs\n",
      "k_o: 1.5\n",
      "k_v: 1.25\n",
      "life_time: 15000 hours\n",
      "n_g: 386.44 rpm\n",
      "phi_n: 18.256124010900294 degrees\n",
      "phi_t: 20.00 degrees\n",
      "psi: 25 degrees\n",
      "v_t: 497.42 ft/min\n"
     ]
    }
   ],
   "source": [
    "variables = {\n",
    "\n",
    "    \"D_p\": f\"{D_p} in\",\n",
    "    \"--- \": \"---\",\n",
    "    \"F\": f\"{F} in\",\n",
    "    \"--- \": \"---\",\n",
    "    \"N_p\": f\"{N_p} teeth\",\n",
    "    \"P_d\": f\"{P_d} teeth/in\",\n",
    "    \"n_p\": f\"{n_p} rpm\",\n",
    "    \"--- \" : \"---\",\n",
    "    \"D_g\" : f\"{D_g} in\",\n",
    "    \"N_g\": f\"{N_g} teeth\",\n",
    "    \"P\": f\"{P} HP\",\n",
    "    \"P_nd\": f\"{P_nd:.2f} teeth/in\",\n",
    "    \"P_x\": f\"{P_x:.2f} in\",\n",
    "    \"P_t\": f\"{P_t:.2f} in\",\n",
    "    \"VR\": f\"{VR:.2f}\",\n",
    "    \"W_r\": f\"{W_r:.2f} lbs\",\n",
    "    \"W_t\": f\"{W_t:.2f} lbs\",\n",
    "    \"Wx\": f\"{Wx:.2f} lbs\",\n",
    "    \"k_o\": f\"{k_o}\",\n",
    "    \"k_v\": f\"{k_v}\",\n",
    "    \"life_time\": f\"{life_time} hours\",\n",
    "    \"n_g\": f\"{n_g:.2f} rpm\",\n",
    "    \"phi_n\": f\"{phi_n} degrees\",\n",
    "    \"phi_t\": f\"{phi_t:.2f} degrees\",\n",
    "    \"psi\": f\"{psi} degrees\",\n",
    "    \"v_t\": f\"{v_t:.2f} ft/min\"\n",
    "}\n",
    "\n",
    "for var_name, var_value in variables.items():\n",
    "    print(f\"{var_name}: {var_value}\")"
   ]
  },
  {
   "cell_type": "code",
   "execution_count": 657,
   "metadata": {},
   "outputs": [
    {
     "data": {
      "text/plain": [
       "3.25"
      ]
     },
     "execution_count": 657,
     "metadata": {},
     "output_type": "execute_result"
    }
   ],
   "source": [
    "C"
   ]
  }
 ],
 "metadata": {
  "kernelspec": {
   "display_name": "Python 3",
   "language": "python",
   "name": "python3"
  },
  "language_info": {
   "codemirror_mode": {
    "name": "ipython",
    "version": 3
   },
   "file_extension": ".py",
   "mimetype": "text/x-python",
   "name": "python",
   "nbconvert_exporter": "python",
   "pygments_lexer": "ipython3",
   "version": "3.11.9"
  }
 },
 "nbformat": 4,
 "nbformat_minor": 2
}
