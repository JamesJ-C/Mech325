{
 "cells": [
  {
   "cell_type": "code",
   "execution_count": 1083,
   "metadata": {},
   "outputs": [],
   "source": [
    "import numpy as np\n",
    "import matplotlib.pyplot as plt"
   ]
  },
  {
   "cell_type": "code",
   "execution_count": 1084,
   "metadata": {},
   "outputs": [],
   "source": [
    "def linear_interpolation(x0, y0, x1, y1, x):\n",
    "    \"\"\"\n",
    "    Perform linear interpolation to find the y value corresponding to x.\n",
    "\n",
    "    Parameters:\n",
    "    x0, y0: coordinates of the first point\n",
    "    x1, y1: coordinates of the second point\n",
    "    x: the x value to interpolate\n",
    "\n",
    "    Returns:\n",
    "    y: the interpolated y value\n",
    "    \"\"\"\n",
    "    y = y0 + (y1 - y0) * (x - x0) / (x1 - x0)\n",
    "    return y\n",
    "\n",
    "# Example usage:\n",
    "# x0, y0 = 0, 0\n",
    "# x1, y1 = 10, 10\n",
    "# x = 5\n",
    "# y = linear_interpolation(x0, y0, x1, y1, x)\n",
    "# print(f\"The interpolated value at x={x} is y={y}\")"
   ]
  },
  {
   "cell_type": "markdown",
   "metadata": {},
   "source": [
    "## Given Constants"
   ]
  },
  {
   "cell_type": "code",
   "execution_count": 1085,
   "metadata": {},
   "outputs": [],
   "source": [
    "\n",
    "n_p = 300\n",
    "n_g = None\n",
    "n_g_guess = None\n",
    "\n",
    "N_p = 15 # between 17 and 20\n",
    "N_g = 45\n",
    "\n",
    "D_p = None\n",
    "D_g = None\n",
    "\n",
    "P_d = 10\n",
    "\n",
    "Power = 3 # Power in HP\n",
    "Torque = None\n",
    "life_time = 1000 # in hours?\n",
    "\n",
    "phi = 20\n",
    "\n",
    "F = 1.25\n",
    "F_g = None\n",
    "F_p = None\n",
    "\n",
    "A_v = 8\n",
    "\n"
   ]
  },
  {
   "cell_type": "markdown",
   "metadata": {},
   "source": [
    "## Calculations"
   ]
  },
  {
   "cell_type": "code",
   "execution_count": 1086,
   "metadata": {},
   "outputs": [],
   "source": [
    "#shock factor\n",
    "k_o = 2.0"
   ]
  },
  {
   "cell_type": "code",
   "execution_count": 1087,
   "metadata": {},
   "outputs": [
    {
     "data": {
      "text/plain": [
       "6.0"
      ]
     },
     "execution_count": 1087,
     "metadata": {},
     "output_type": "execute_result"
    }
   ],
   "source": [
    "P_des = Power * k_o\n",
    "P_des"
   ]
  },
  {
   "cell_type": "markdown",
   "metadata": {},
   "source": [
    "### Velocity ratio, output speed"
   ]
  },
  {
   "cell_type": "code",
   "execution_count": 1088,
   "metadata": {},
   "outputs": [
    {
     "data": {
      "text/plain": [
       "3.10077519379845"
      ]
     },
     "execution_count": 1088,
     "metadata": {},
     "output_type": "execute_result"
    }
   ],
   "source": [
    "##Velocity ratio\n",
    "if n_g_guess is not None:\n",
    "    VR_guess = n_p/n_g_guess\n",
    "\n",
    "VR_guess"
   ]
  },
  {
   "cell_type": "code",
   "execution_count": 1089,
   "metadata": {},
   "outputs": [
    {
     "data": {
      "text/plain": [
       "45"
      ]
     },
     "execution_count": 1089,
     "metadata": {},
     "output_type": "execute_result"
    }
   ],
   "source": [
    "##Number of teeth on gear\n",
    "if N_g is None:\n",
    "    N_g = round(N_p * VR_guess)\n",
    "\n",
    "N_g\n"
   ]
  },
  {
   "cell_type": "code",
   "execution_count": 1090,
   "metadata": {},
   "outputs": [
    {
     "data": {
      "text/plain": [
       "(3.0, 100.0)"
      ]
     },
     "execution_count": 1090,
     "metadata": {},
     "output_type": "execute_result"
    }
   ],
   "source": [
    "VR = N_g/N_p\n",
    "\n",
    "if n_g is None:\n",
    "    n_g = n_p / VR\n",
    "\n",
    "VR, n_g"
   ]
  },
  {
   "cell_type": "markdown",
   "metadata": {},
   "source": [
    "Calculate cone angles"
   ]
  },
  {
   "cell_type": "code",
   "execution_count": 1091,
   "metadata": {},
   "outputs": [
    {
     "data": {
      "text/plain": [
       "(18.43494882292201, 71.56505117707799)"
      ]
     },
     "execution_count": 1091,
     "metadata": {},
     "output_type": "execute_result"
    }
   ],
   "source": [
    "#pinion cone angle\n",
    "\n",
    "gamma = 180 / np.pi * np.arctan(N_p/N_g)\n",
    "\n",
    "#gear cone angle\n",
    "\n",
    "Gamma = 180 / np.pi * np.arctan(N_g/N_p)\n",
    "\n",
    "assert(gamma + Gamma - 90 < 10**-8)\n",
    "\n",
    "gamma, Gamma"
   ]
  },
  {
   "cell_type": "markdown",
   "metadata": {},
   "source": [
    "### Diameters, Center distances, pitch line speed"
   ]
  },
  {
   "cell_type": "code",
   "execution_count": 1092,
   "metadata": {},
   "outputs": [
    {
     "data": {
      "text/plain": [
       "(1.5, 4.5)"
      ]
     },
     "execution_count": 1092,
     "metadata": {},
     "output_type": "execute_result"
    }
   ],
   "source": [
    "##Diameters\n",
    "if D_p is None:\n",
    "    D_p = N_p / P_d\n",
    "else:\n",
    "    assert(False)\n",
    "\n",
    "if D_g is None:\n",
    "    D_g = N_g / P_d\n",
    "else:\n",
    "    assert(False)\n",
    "\n",
    "D_p, D_g"
   ]
  },
  {
   "cell_type": "code",
   "execution_count": 1093,
   "metadata": {},
   "outputs": [
    {
     "data": {
      "text/plain": [
       "3.0"
      ]
     },
     "execution_count": 1093,
     "metadata": {},
     "output_type": "execute_result"
    }
   ],
   "source": [
    "##Center distance\n",
    "\n",
    "C = (N_p + N_g) / (2 * P_d)\n",
    "C"
   ]
  },
  {
   "cell_type": "code",
   "execution_count": 1094,
   "metadata": {},
   "outputs": [
    {
     "data": {
      "text/plain": [
       "117.80972450961724"
      ]
     },
     "execution_count": 1094,
     "metadata": {},
     "output_type": "execute_result"
    }
   ],
   "source": [
    "##v_t\n",
    "\n",
    "v_t = np.pi * D_p * n_p / 12\n",
    "v_t"
   ]
  },
  {
   "cell_type": "markdown",
   "metadata": {},
   "source": [
    "calc cone distances"
   ]
  },
  {
   "cell_type": "code",
   "execution_count": 1095,
   "metadata": {},
   "outputs": [
    {
     "data": {
      "text/plain": [
       "(2.3717082451262845, 2.3717082451262845)"
      ]
     },
     "execution_count": 1095,
     "metadata": {},
     "output_type": "execute_result"
    }
   ],
   "source": [
    "#outer cone distance\n",
    "\n",
    "A_oG = D_g / (2 * np.sin(Gamma * np.pi / 180))\n",
    "\n",
    "A_oP = D_p / (2 * np.sin(gamma * np.pi / 180))\n",
    "\n",
    "A_oG, A_oP"
   ]
  },
  {
   "cell_type": "markdown",
   "metadata": {},
   "source": [
    "Calculate Face width"
   ]
  },
  {
   "cell_type": "code",
   "execution_count": 1096,
   "metadata": {},
   "outputs": [
    {
     "data": {
      "text/plain": [
       "(1.25, 1.25)"
      ]
     },
     "execution_count": 1096,
     "metadata": {},
     "output_type": "execute_result"
    }
   ],
   "source": [
    "#face width\n",
    "\n",
    "if F is not None:\n",
    "    F_p = F\n",
    "    F_g = F\n",
    "\n",
    "else:\n",
    "\n",
    "    F_p = 0.3 * A_oP #nominal face width\n",
    "    F_g = 0.3 * A_oG #nominal face width\n",
    "\n",
    "    if F_p > 10 / P_d:\n",
    "        F_p = 10 / P_d\n",
    "        user_in = input(\"face width at max\")\n",
    "\n",
    "    if F_g > 10 / P_d:\n",
    "        F_g = 10 / P_d\n",
    "        user_in = input(\"face width at max\")\n",
    "\n",
    "\n",
    "F_p, F_g"
   ]
  },
  {
   "cell_type": "markdown",
   "metadata": {},
   "source": [
    "## bevel gear stuff follows"
   ]
  },
  {
   "cell_type": "markdown",
   "metadata": {},
   "source": [
    "### Calculate forces\n",
    "\n",
    "verify force firmulas in textbook"
   ]
  },
  {
   "cell_type": "markdown",
   "metadata": {},
   "source": [
    "calc power, torque"
   ]
  },
  {
   "cell_type": "code",
   "execution_count": 1097,
   "metadata": {},
   "outputs": [
    {
     "data": {
      "text/plain": [
       "(3.0, 630.0)"
      ]
     },
     "execution_count": 1097,
     "metadata": {},
     "output_type": "execute_result"
    }
   ],
   "source": [
    "\n",
    "if Power is not None:\n",
    "    Torque = 63000 * Power / n_p\n",
    "\n",
    "if Torque is not None:\n",
    "    Power = n_p * Torque / 63000\n",
    "\n",
    "# assert(Power is not None); assert(Torque is not None)\n",
    "\n",
    "Power, Torque"
   ]
  },
  {
   "cell_type": "markdown",
   "metadata": {},
   "source": [
    "calculate mean radius"
   ]
  },
  {
   "cell_type": "code",
   "execution_count": 1098,
   "metadata": {},
   "outputs": [
    {
     "data": {
      "text/plain": [
       "(0.5523576462394763, 1.6570729387184289)"
      ]
     },
     "execution_count": 1098,
     "metadata": {},
     "output_type": "execute_result"
    }
   ],
   "source": [
    "r_m = D_p / 2 - F_p / 2 * np.sin(gamma * np.pi / 180)\n",
    "\n",
    "R_m = D_g / 2 - F_g / 2 * np.sin(Gamma * np.pi / 180)\n",
    "\n",
    "r_m, R_m"
   ]
  },
  {
   "cell_type": "markdown",
   "metadata": {},
   "source": [
    "transmitted load"
   ]
  },
  {
   "cell_type": "code",
   "execution_count": 1099,
   "metadata": {},
   "outputs": [
    {
     "data": {
      "text/plain": [
       "(1140.565364287293, 840.3380995252074)"
      ]
     },
     "execution_count": 1099,
     "metadata": {},
     "output_type": "execute_result"
    }
   ],
   "source": [
    "W_t = Torque / r_m\n",
    "\n",
    "wt2 = 33000 * Power / v_t\n",
    "\n",
    "W_t, wt2\n",
    "# assert(W_t - wt2 < 10**-8)"
   ]
  },
  {
   "cell_type": "code",
   "execution_count": 1100,
   "metadata": {},
   "outputs": [
    {
     "data": {
      "text/plain": [
       "393.8286457870289"
      ]
     },
     "execution_count": 1100,
     "metadata": {},
     "output_type": "execute_result"
    }
   ],
   "source": [
    "W_rp = W_t * np.tan(phi * np.pi / 180) * np.cos(gamma * np.pi / 180)\n",
    "W_rp"
   ]
  },
  {
   "cell_type": "code",
   "execution_count": 1101,
   "metadata": {},
   "outputs": [
    {
     "data": {
      "text/plain": [
       "131.276215262343"
      ]
     },
     "execution_count": 1101,
     "metadata": {},
     "output_type": "execute_result"
    }
   ],
   "source": [
    "W_xp = W_t * np.tan(phi * np.pi / 180) * np.sin(gamma * np.pi / 180)\n",
    "W_xp"
   ]
  },
  {
   "cell_type": "markdown",
   "metadata": {},
   "source": [
    "## choose a material - this part is sketch\n",
    "\n",
    "seems to apply the same for all gears??\n",
    "\n",
    "this part consists of finding numbers in tables"
   ]
  },
  {
   "cell_type": "code",
   "execution_count": 1102,
   "metadata": {},
   "outputs": [],
   "source": [
    "# usually given - use table 9-5 in mott \n",
    "# A_v = 10\n",
    "assert(A_v is not None)\n"
   ]
  },
  {
   "cell_type": "code",
   "execution_count": 1103,
   "metadata": {},
   "outputs": [],
   "source": [
    "k_v = 1.08 #from A_v\n",
    "\n",
    "assert(k_v > 0)"
   ]
  },
  {
   "cell_type": "code",
   "execution_count": 1104,
   "metadata": {},
   "outputs": [
    {
     "data": {
      "text/plain": [
       "1.25"
      ]
     },
     "execution_count": 1104,
     "metadata": {},
     "output_type": "execute_result"
    }
   ],
   "source": [
    "#k_mb\n",
    "cond = \"0 straddle\".upper()\n",
    "assert(cond is not None)\n",
    "\n",
    "k_ma = None\n",
    "\n",
    "if cond == \"2 straddle\".upper():\n",
    "    k_mb = 1\n",
    "elif cond == \"1 straddle\".upper():\n",
    "    k_mb = 1.1\n",
    "elif cond == \"0 straddle\".upper():\n",
    "    k_mb = 1.25\n",
    "\n",
    "assert(k_mb is not None)\n",
    "\n",
    "k_mb\n"
   ]
  },
  {
   "cell_type": "code",
   "execution_count": 1105,
   "metadata": {},
   "outputs": [
    {
     "data": {
      "text/plain": [
       "1.255625"
      ]
     },
     "execution_count": 1105,
     "metadata": {},
     "output_type": "execute_result"
    }
   ],
   "source": [
    "k_m = k_mb + 0.0036 * F**2\n",
    "k_m"
   ]
  },
  {
   "cell_type": "markdown",
   "metadata": {},
   "source": [
    "### Find $k_s$ from a table idrk"
   ]
  },
  {
   "cell_type": "code",
   "execution_count": 1106,
   "metadata": {},
   "outputs": [
    {
     "data": {
      "text/plain": [
       "0.50803"
      ]
     },
     "execution_count": 1106,
     "metadata": {},
     "output_type": "execute_result"
    }
   ],
   "source": [
    "k_s = None\n",
    "if P_d >= 16:\n",
    "    k_s = 0.5\n",
    "\n",
    "elif P_d < 16:\n",
    "    k_s = 0.4867 + 0.2133 / P_d\n",
    "\n",
    "assert(k_s is not None)\n",
    "# assert(False) # idk if this is for shigley or mott\n",
    "k_s"
   ]
  },
  {
   "cell_type": "markdown",
   "metadata": {},
   "source": [
    "### Find SF, reliability, $C_R, K_R, k_L, J$"
   ]
  },
  {
   "cell_type": "code",
   "execution_count": 1107,
   "metadata": {},
   "outputs": [],
   "source": [
    "safety_factor = 1.0"
   ]
  },
  {
   "cell_type": "code",
   "execution_count": 1108,
   "metadata": {},
   "outputs": [],
   "source": [
    "J_p = 0.235 # find from some random graph?\n",
    "J_g = 0.235 # find from some random graph?"
   ]
  },
  {
   "cell_type": "markdown",
   "metadata": {},
   "source": [
    "### Reliability > 99% implies the following bc of table 10-3"
   ]
  },
  {
   "cell_type": "code",
   "execution_count": 1109,
   "metadata": {},
   "outputs": [],
   "source": [
    "#relaibility = 99% =>\n",
    "\n",
    "k_R = 1.00\n",
    "C_R = 1.0"
   ]
  },
  {
   "cell_type": "markdown",
   "metadata": {},
   "source": [
    "## Calculate $Y_{np}, Y_{ng}$ with the above numbers"
   ]
  },
  {
   "cell_type": "markdown",
   "metadata": {},
   "source": [
    "### Number of loading cycles"
   ]
  },
  {
   "cell_type": "code",
   "execution_count": 1110,
   "metadata": {},
   "outputs": [
    {
     "name": "stdout",
     "output_type": "stream",
     "text": [
      "N_cp: 1.80e+07, N_cg: 6.00e+06\n"
     ]
    }
   ],
   "source": [
    "#Number of cycles\n",
    "\n",
    "N_cp = 60 * life_time * n_p\n",
    "N_cg = 60 * life_time * n_g\n",
    "\n",
    "print(f\"N_cp: {N_cp:.2e}, N_cg: {N_cg:.2e}\")"
   ]
  },
  {
   "cell_type": "markdown",
   "metadata": {},
   "source": [
    "### Calcluate K_L\n",
    "\n",
    "need a more accaurate measure for this"
   ]
  },
  {
   "cell_type": "code",
   "execution_count": 1111,
   "metadata": {},
   "outputs": [
    {
     "data": {
      "text/plain": [
       "1.007051727953924"
      ]
     },
     "execution_count": 1111,
     "metadata": {},
     "output_type": "execute_result"
    }
   ],
   "source": [
    "k_Lp = None\n",
    "\n",
    "if N_cp <= 5 * 10**6:\n",
    "    k_Lp = 6.514 * N_cp**(-0.1192)\n",
    "elif N_cp > 5 * 10**6:\n",
    "    k_Lp = 1.3558 * N_cp**(-0.0178)\n",
    "\n",
    "\n",
    "assert(k_Lp is not None)\n",
    "k_Lp"
   ]
  },
  {
   "cell_type": "code",
   "execution_count": 1112,
   "metadata": {},
   "outputs": [
    {
     "data": {
      "text/plain": [
       "1.0269387398232055"
      ]
     },
     "execution_count": 1112,
     "metadata": {},
     "output_type": "execute_result"
    }
   ],
   "source": [
    "k_Lg = None\n",
    "\n",
    "if N_cg <= 5 * 10**6:\n",
    "    k_Lg = 6.514 * N_cg**(-0.1192)\n",
    "elif N_cg > 5 * 10**6:\n",
    "    k_Lg = 1.3558 * N_cg**(-0.0178)\n",
    "\n",
    "\n",
    "assert(k_Lg is not None)\n",
    "k_Lg"
   ]
  },
  {
   "cell_type": "markdown",
   "metadata": {},
   "source": [
    "## Calculate $S_{t}, S_{at}$"
   ]
  },
  {
   "cell_type": "code",
   "execution_count": 1113,
   "metadata": {},
   "outputs": [
    {
     "data": {
      "text/plain": [
       "2.0"
      ]
     },
     "execution_count": 1113,
     "metadata": {},
     "output_type": "execute_result"
    }
   ],
   "source": [
    "k_o"
   ]
  },
  {
   "cell_type": "code",
   "execution_count": 1114,
   "metadata": {},
   "outputs": [
    {
     "data": {
      "text/plain": [
       "53498.963497140016"
      ]
     },
     "execution_count": 1114,
     "metadata": {},
     "output_type": "execute_result"
    }
   ],
   "source": [
    "assert(F != 0)\n",
    "assert(J != 0)\n",
    "\n",
    "s_t = (W_t * P_d) / (F * J_p) * k_o * k_s * k_m * k_v\n",
    "s_t\n",
    "\n",
    "# W_t, P_d, F, J_p, k_o, k_s, k_m, k_B, k_v"
   ]
  },
  {
   "cell_type": "code",
   "execution_count": 1115,
   "metadata": {},
   "outputs": [
    {
     "data": {
      "text/plain": [
       "53124.345067990165"
      ]
     },
     "execution_count": 1115,
     "metadata": {},
     "output_type": "execute_result"
    }
   ],
   "source": [
    "s_atp = s_t * safety_factor * k_R / k_Lp\n",
    "s_atp"
   ]
  },
  {
   "cell_type": "markdown",
   "metadata": {},
   "source": [
    "## Compute $C_{??} and $I$"
   ]
  },
  {
   "cell_type": "code",
   "execution_count": 1116,
   "metadata": {},
   "outputs": [],
   "source": [
    "C_p = 2300 #for steel "
   ]
  },
  {
   "cell_type": "code",
   "execution_count": 1117,
   "metadata": {},
   "outputs": [
    {
     "data": {
      "text/plain": [
       "0.59375"
      ]
     },
     "execution_count": 1117,
     "metadata": {},
     "output_type": "execute_result"
    }
   ],
   "source": [
    "#idk what this is\n",
    "C_s = 0.125 * F + 0.4375\n",
    "C_s"
   ]
  },
  {
   "cell_type": "code",
   "execution_count": 1118,
   "metadata": {},
   "outputs": [
    {
     "data": {
      "text/plain": [
       "1.5"
      ]
     },
     "execution_count": 1118,
     "metadata": {},
     "output_type": "execute_result"
    }
   ],
   "source": [
    "teeth = \"crowned\"\n",
    "\n",
    "C_xc = None\n",
    "\n",
    "if teeth == \"crowned\":\n",
    "    C_xc = 1.5\n",
    "elif teeth == \"uncrowned\":\n",
    "    C_xc = 2\n",
    "else:\n",
    "    assert(False)\n",
    "\n",
    "assert(C_xc is not None)\n",
    "\n",
    "C_xc"
   ]
  },
  {
   "cell_type": "code",
   "execution_count": 1119,
   "metadata": {},
   "outputs": [],
   "source": [
    "# from some random graph\n",
    "I = 0.075"
   ]
  },
  {
   "cell_type": "markdown",
   "metadata": {},
   "source": [
    "## Calculate $S_c$"
   ]
  },
  {
   "cell_type": "code",
   "execution_count": 1120,
   "metadata": {},
   "outputs": [
    {
     "data": {
      "text/plain": [
       "321929.63066229323"
      ]
     },
     "execution_count": 1120,
     "metadata": {},
     "output_type": "execute_result"
    }
   ],
   "source": [
    "S_c = C_p * np.sqrt( (W_t * k_o * k_m * k_v * C_s * C_xc) / (F * D_p * I) ) #\n",
    "S_c"
   ]
  },
  {
   "cell_type": "markdown",
   "metadata": {},
   "source": [
    "## Find $C_L$"
   ]
  },
  {
   "cell_type": "code",
   "execution_count": 1121,
   "metadata": {},
   "outputs": [
    {
     "data": {
      "text/plain": [
       "1.273756186594274"
      ]
     },
     "execution_count": 1121,
     "metadata": {},
     "output_type": "execute_result"
    }
   ],
   "source": [
    "C_Lp = None#1.0 # from spme random graph\n",
    "\n",
    "if N_cp <= 10**4:\n",
    "    C_Lp = 2.0\n",
    "elif N_cp > 10**4:\n",
    "    C_Lp = 3.4822 * N_cp**(-0.0602)\n",
    "\n",
    "assert(C_Lp is not None)\n",
    "C_Lp"
   ]
  },
  {
   "cell_type": "code",
   "execution_count": 1122,
   "metadata": {},
   "outputs": [
    {
     "data": {
      "text/plain": [
       "1.3608460777591285"
      ]
     },
     "execution_count": 1122,
     "metadata": {},
     "output_type": "execute_result"
    }
   ],
   "source": [
    "C_Lg = None#1.0 # from spme random graph\n",
    "\n",
    "if N_cg <= 10**4:\n",
    "    C_Lg = 2.0\n",
    "elif N_cg > 10**4:\n",
    "    C_Lg = 3.4822 * N_cg**(-0.0602)\n",
    "\n",
    "assert(C_Lg is not None)\n",
    "C_Lg"
   ]
  },
  {
   "cell_type": "markdown",
   "metadata": {},
   "source": [
    "## Find adjusted values of $S_c$"
   ]
  },
  {
   "cell_type": "code",
   "execution_count": 1123,
   "metadata": {},
   "outputs": [
    {
     "data": {
      "text/plain": [
       "252740.38630819746"
      ]
     },
     "execution_count": 1123,
     "metadata": {},
     "output_type": "execute_result"
    }
   ],
   "source": [
    "S_acp = S_c * (safety_factor * C_R) / C_Lp\n",
    "S_acp"
   ]
  },
  {
   "cell_type": "markdown",
   "metadata": {},
   "source": [
    "## Follow remaining steps in spur gear guide"
   ]
  },
  {
   "cell_type": "markdown",
   "metadata": {},
   "source": [
    "### Calculate the brinell hardness "
   ]
  },
  {
   "cell_type": "code",
   "execution_count": 1136,
   "metadata": {},
   "outputs": [
    {
     "name": "stdout",
     "output_type": "stream",
     "text": [
      "Contact_HB: 613.8074 \n",
      "Bending_HB: 982.1739 \n",
      "\n"
     ]
    }
   ],
   "source": [
    "# Prompt the user for input\n",
    "HB_grade = input(\"HB grade 1 or 2? \")\n",
    "\n",
    "Contact_HB = 0\n",
    "Bending_HB = 0\n",
    "\n",
    "if int(HB_grade) == 1:\n",
    "    Contact_HB = ( S_acp /1000 - 23.62 ) / 0.341\n",
    "    Bending_HB = ( s_atp / 1000 - 2.1 ) / 0.044 \n",
    "\n",
    "elif int(HB_grade) == 2:\n",
    "    Contact_HB = ( S_acp / 1000 - 29.56 ) / 0.3636\n",
    "    Bending_HB = ( s_atp / 1000 - 5.980 ) / 0.048\n",
    "\n",
    "else:\n",
    "    assert(False)\n",
    "\n",
    "\n",
    "print(f\"Contact_HB: {Contact_HB:.4f} \\nBending_HB: {Bending_HB:.4f} \\n\")\n"
   ]
  },
  {
   "cell_type": "markdown",
   "metadata": {},
   "source": [
    "Use tables in the bible to find an appropriate material that satisfies the required HB. The material should be the same for the gear and the pinion.\n",
    "\n",
    "Make sure to use table 9-8 form Mott to determine the heat treatment\n",
    "\n",
    "Get $S_{acp}, S_{atp}$ for the material"
   ]
  },
  {
   "cell_type": "code",
   "execution_count": 1125,
   "metadata": {},
   "outputs": [],
   "source": [
    "S_acp2 = None\n",
    "S_atp2 = None\n",
    "\n",
    "S_acg2 = None\n",
    "S_atg2 = None"
   ]
  },
  {
   "cell_type": "markdown",
   "metadata": {},
   "source": [
    "Need to find $Y_{**} $ and $ Z$"
   ]
  },
  {
   "cell_type": "code",
   "execution_count": 1126,
   "metadata": {},
   "outputs": [
    {
     "ename": "TypeError",
     "evalue": "unsupported operand type(s) for *: 'NoneType' and 'float'",
     "output_type": "error",
     "traceback": [
      "\u001b[1;31m---------------------------------------------------------------------------\u001b[0m",
      "\u001b[1;31mTypeError\u001b[0m                                 Traceback (most recent call last)",
      "Cell \u001b[1;32mIn[1126], line 1\u001b[0m\n\u001b[1;32m----> 1\u001b[0m contact_SF_p \u001b[38;5;241m=\u001b[39m \u001b[43mS_acp2\u001b[49m\u001b[43m \u001b[49m\u001b[38;5;241;43m*\u001b[39;49m\u001b[43m \u001b[49m\u001b[43mY_np\u001b[49m \u001b[38;5;241m/\u001b[39m (S_c \u001b[38;5;241m*\u001b[39m k_R)\n\u001b[0;32m      2\u001b[0m bending_SF_p \u001b[38;5;241m=\u001b[39m S_atp2 \u001b[38;5;241m*\u001b[39m Y_np \u001b[38;5;241m/\u001b[39m (s_t \u001b[38;5;241m*\u001b[39m k_R)\n\u001b[0;32m      4\u001b[0m \u001b[38;5;28mprint\u001b[39m(\u001b[38;5;124mf\u001b[39m\u001b[38;5;124m\"\u001b[39m\u001b[38;5;124mContact Safety Factor (Pinion): \u001b[39m\u001b[38;5;132;01m{\u001b[39;00mcontact_SF_p\u001b[38;5;132;01m:\u001b[39;00m\u001b[38;5;124mf\u001b[39m\u001b[38;5;132;01m}\u001b[39;00m\u001b[38;5;124m \u001b[39m\u001b[38;5;130;01m\\n\u001b[39;00m\u001b[38;5;124mBending Safety Factor (Pinion): \u001b[39m\u001b[38;5;132;01m{\u001b[39;00mbending_SF_p\u001b[38;5;132;01m:\u001b[39;00m\u001b[38;5;124mf\u001b[39m\u001b[38;5;132;01m}\u001b[39;00m\u001b[38;5;130;01m\\n\u001b[39;00m\u001b[38;5;124m\"\u001b[39m)\n",
      "\u001b[1;31mTypeError\u001b[0m: unsupported operand type(s) for *: 'NoneType' and 'float'"
     ]
    }
   ],
   "source": [
    "contact_SF_p = S_acp2 * Y_np / (S_c * k_R)\n",
    "bending_SF_p = S_atp2 * Y_np / (s_t * k_R)\n",
    "\n",
    "print(f\"Contact Safety Factor (Pinion): {contact_SF_p:f} \\nBending Safety Factor (Pinion): {bending_SF_p:f}\\n\")\n",
    "\n",
    "\n",
    "print(S_acp, Y_np, S_c, k_R)\n"
   ]
  },
  {
   "cell_type": "code",
   "execution_count": 243,
   "metadata": {},
   "outputs": [
    {
     "name": "stdout",
     "output_type": "stream",
     "text": [
      "P_cap = 6.7464 HP\n"
     ]
    }
   ],
   "source": [
    "# Power transmitting capacity\n",
    "\n",
    "P_cap = n_p * F * I / (126000 * k_o * k_s * k_m * k_v) * ( (S_ac * D_p * Z_np) / (safety_factor * k_R * C_p) ) ** 2\n",
    "\n",
    "print(f\"P_cap = {P_cap:.4f} HP\")"
   ]
  }
 ],
 "metadata": {
  "kernelspec": {
   "display_name": "Python 3",
   "language": "python",
   "name": "python3"
  },
  "language_info": {
   "codemirror_mode": {
    "name": "ipython",
    "version": 3
   },
   "file_extension": ".py",
   "mimetype": "text/x-python",
   "name": "python",
   "nbconvert_exporter": "python",
   "pygments_lexer": "ipython3",
   "version": "3.11.9"
  }
 },
 "nbformat": 4,
 "nbformat_minor": 2
}
