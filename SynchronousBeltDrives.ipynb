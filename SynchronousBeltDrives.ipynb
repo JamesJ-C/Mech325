{
 "cells": [
  {
   "cell_type": "code",
   "execution_count": 15,
   "metadata": {},
   "outputs": [],
   "source": [
    "import numpy as np\n",
    "\n",
    "\n",
    "from IPython.display import display, Math"
   ]
  },
  {
   "cell_type": "markdown",
   "metadata": {},
   "source": [
    "# Synchronous Belt Design Script"
   ]
  },
  {
   "cell_type": "markdown",
   "metadata": {},
   "source": [
    "Given Constants"
   ]
  },
  {
   "cell_type": "code",
   "execution_count": 16,
   "metadata": {},
   "outputs": [],
   "source": [
    "# FILL IN ______________________________\n",
    "\n",
    "H_in = 40   # horsepower\n",
    "\n",
    "# shaft speeds. n_driving is the faster shaft.\n",
    "n_driving = 1500   # RPM\n",
    "n_driven = 550    # RPM"
   ]
  },
  {
   "cell_type": "code",
   "execution_count": 17,
   "metadata": {},
   "outputs": [],
   "source": [
    "def linear_interpolate(x0, y0, x1, y1, x):\n",
    "    \"\"\"\n",
    "    Perform linear interpolation to find the y value corresponding to x.\n",
    "\n",
    "    Parameters:\n",
    "    x0, y0: coordinates of the first point\n",
    "    x1, y1: coordinates of the second point\n",
    "    x: the x value to interpolate\n",
    "\n",
    "    Returns:\n",
    "    y: the interpolated y value\n",
    "    \"\"\"\n",
    "    if x1 == x0:\n",
    "        raise ValueError(\"x1 and x0 cannot be equal as it would cause division by zero.\")\n",
    "    y = y0 + (y1 - y0) * (x - x0) / (x1 - x0)\n",
    "    return y"
   ]
  },
  {
   "cell_type": "markdown",
   "metadata": {},
   "source": [
    "### Select a service factor from this table: "
   ]
  },
  {
   "cell_type": "markdown",
   "metadata": {},
   "source": [
    "![Timing Belt k_s](./images/Table7-10_SynchronousBeltServiceFactor.png)"
   ]
  },
  {
   "cell_type": "code",
   "execution_count": 18,
   "metadata": {},
   "outputs": [
    {
     "data": {
      "text/latex": [
       "$\\displaystyle H_{des}: 56.0 \\; \\text{hp}$"
      ],
      "text/plain": [
       "<IPython.core.display.Math object>"
      ]
     },
     "metadata": {},
     "output_type": "display_data"
    }
   ],
   "source": [
    "# FILL IN ______________________________\n",
    "k_s = 1.4\n",
    "\n",
    "H_des = H_in * k_s\n",
    "\n",
    "display(Math(f'H_{{des}}: {H_des} \\\\; \\\\text{{hp}}'))\n"
   ]
  },
  {
   "cell_type": "markdown",
   "metadata": {},
   "source": [
    "### Select Belt pitch from the graph"
   ]
  },
  {
   "cell_type": "markdown",
   "metadata": {},
   "source": [
    "SHould get 8mm, as this is the only one the textbook has info for\n",
    "\n",
    "![Timing Belt Pitch Selection](./images/PitchGraph_SynchronousBeltPitchSelection.png)"
   ]
  },
  {
   "cell_type": "code",
   "execution_count": 19,
   "metadata": {},
   "outputs": [
    {
     "name": "stdout",
     "output_type": "stream",
     "text": [
      "Velocity Ratio = 2.727272727272727\n"
     ]
    }
   ],
   "source": [
    "VR_guess = n_driving / n_driven \n",
    "\n",
    "print(f'Velocity Ratio = {VR_guess}')"
   ]
  },
  {
   "cell_type": "markdown",
   "metadata": {},
   "source": [
    "### Select multiple combinations of driver and driven sprockets that fit the ciriteria, from the table:"
   ]
  },
  {
   "cell_type": "markdown",
   "metadata": {},
   "source": [
    "![8mm pith sprockets table pt1](./images/Table7-7pt1_SprocketSelection_SynchronousBelts.png.png)\n",
    "\n",
    "![8mm pith sprockets table pt1](./images/Table7-7pt2_SprocketSelection_SynchronousBelts.png.png)"
   ]
  },
  {
   "cell_type": "code",
   "execution_count": null,
   "metadata": {},
   "outputs": [],
   "source": [
    "#list driver and driven sprockets?"
   ]
  },
  {
   "cell_type": "markdown",
   "metadata": {},
   "source": [
    "### Select the driving sheave size to produce a belt speed of 4000 ft/min \n",
    "(this is a standard speed we use since belt speed should not surpass 5000 ft/min, with a hard max at 6500 ft/min)"
   ]
  },
  {
   "cell_type": "code",
   "execution_count": 20,
   "metadata": {},
   "outputs": [
    {
     "name": "stdout",
     "output_type": "stream",
     "text": [
      "Estimated sheave diameter = 10.185916357881302 inches\n"
     ]
    }
   ],
   "source": [
    "# adjust this value following the above guidlines if necessary. 4000 is default\n",
    "v_b_guess = 4000\n",
    "\n",
    "# driving sheave diameter\n",
    "D1_guess = v_b_guess * 2 * 12 / n_driving / (2 * np.pi)\n",
    "\n",
    "print(f'Estimated sheave diameter = {D1_guess} inches')"
   ]
  },
  {
   "cell_type": "markdown",
   "metadata": {},
   "source": [
    "### Select the appropriate small sheave diameter from the following tables. Select the closest value to the estimate above\n",
    "\n",
    "\n",
    "#### 3V belts\n",
    "![V Belt Image](./images/3V_DriveSheave.png)\n",
    "\n",
    "#### 5V belts\n",
    "![V Belt Image](./images/5V_DriveSheave.png)\n",
    "\n",
    "#### 8V belts\n",
    "![V Belt Image](./images/8V_DriveSheave.png)"
   ]
  },
  {
   "cell_type": "code",
   "execution_count": 21,
   "metadata": {},
   "outputs": [],
   "source": [
    "# FILL IN ______________________________\n",
    "D1 = 10.2\n",
    "# FILL IN ______________________________\n",
    "P_rated = 24.6"
   ]
  },
  {
   "cell_type": "code",
   "execution_count": 22,
   "metadata": {},
   "outputs": [
    {
     "name": "stdout",
     "output_type": "stream",
     "text": [
      "Estimated D2 = 27.818181818181813 inches\n",
      "select the appropriate standard D2 from the table above\n"
     ]
    }
   ],
   "source": [
    "D2_guess = D1 * VR_guess\n",
    "\n",
    "print(f'Estimated D2 = {D2_guess} inches')\n",
    "print(f'select the appropriate standard D2 from the table above')"
   ]
  },
  {
   "cell_type": "code",
   "execution_count": 23,
   "metadata": {},
   "outputs": [
    {
     "name": "stdout",
     "output_type": "stream",
     "text": [
      "Actual Speed ratio VR: 2.715686274509804\n",
      "belt speed: 4005.5306333269855 ft/min\n",
      "check that this value is around 4000 and must be less then 6500 ft/min\n"
     ]
    }
   ],
   "source": [
    "# FILL IN ______________________________\n",
    "D2 = 27.7\n",
    "\n",
    "\n",
    "VR = D2 / D1\n",
    "print(f'Actual Speed ratio VR: {VR}')\n",
    "\n",
    "v_b = D1 * n_driving * 2 * np.pi / 2 / 12\n",
    "print(f'belt speed: {v_b} ft/min')\n",
    "print('check that this value is around 4000 and must be less then 6500 ft/min')"
   ]
  },
  {
   "cell_type": "markdown",
   "metadata": {},
   "source": [
    "### If the actual speed ratio is higher than 1, use the following table to find the power added\n",
    "The lines are the speed of the small shaft\n",
    "![V Belt Image](./images/P_added.png)"
   ]
  },
  {
   "cell_type": "code",
   "execution_count": 24,
   "metadata": {},
   "outputs": [
    {
     "ename": "NameError",
     "evalue": "name 'linear_interpolate' is not defined",
     "output_type": "error",
     "traceback": [
      "\u001b[1;31m---------------------------------------------------------------------------\u001b[0m",
      "\u001b[1;31mNameError\u001b[0m                                 Traceback (most recent call last)",
      "Cell \u001b[1;32mIn[24], line 2\u001b[0m\n\u001b[0;32m      1\u001b[0m \u001b[38;5;66;03m# example using linear interpolate to get value from table above\u001b[39;00m\n\u001b[1;32m----> 2\u001b[0m \u001b[38;5;28mprint\u001b[39m(\u001b[43mlinear_interpolate\u001b[49m(\u001b[38;5;241m1750\u001b[39m, \u001b[38;5;241m1.9\u001b[39m, \u001b[38;5;241m1160\u001b[39m, \u001b[38;5;241m1.26\u001b[39m, n_driving))\n",
      "\u001b[1;31mNameError\u001b[0m: name 'linear_interpolate' is not defined"
     ]
    }
   ],
   "source": [
    "# example using linear interpolate to get value from table above\n",
    "print(linear_interpolate(1750, 1.9, 1160, 1.26, n_driving))"
   ]
  },
  {
   "cell_type": "code",
   "execution_count": 65,
   "metadata": {},
   "outputs": [
    {
     "name": "stdout",
     "output_type": "stream",
     "text": [
      "Total rated power: 26.200000000000003\n"
     ]
    }
   ],
   "source": [
    "\n",
    "\n",
    "# FILL IN ______________________________\n",
    "P_added = 1.6\n",
    "\n",
    "\n",
    "\n",
    "P_rated_total = P_added + P_rated\n",
    "\n",
    "print(f'Total rated power: {P_rated_total}')"
   ]
  },
  {
   "cell_type": "markdown",
   "metadata": {},
   "source": [
    "### We now estimate a trial center distance based on this equation\n",
    "The formula below will output a trial center distance in the exact center of this range\n",
    "\n",
    "![V Belt Image](./images/Trial_CD.png)"
   ]
  },
  {
   "cell_type": "code",
   "execution_count": 78,
   "metadata": {},
   "outputs": [
    {
     "name": "stdout",
     "output_type": "stream",
     "text": [
      "Cd must be between: 27.7 and 113.69999999999999\n",
      "Trial center distance: 70.69999999999999\n"
     ]
    }
   ],
   "source": [
    "CD_upperbound = 3 * (D2 + D1)\n",
    "CD_lowerbound = D2\n",
    "\n",
    "print(f'Cd must be between: {CD_lowerbound} and {CD_upperbound}')\n",
    "\n",
    "# adjust CD_trial manually if you want to\n",
    "CD_trial = (CD_upperbound + CD_lowerbound) / 2\n",
    "\n",
    "# you can just hard code the value of CD_trial if needed like below\n",
    "# CD_trial = 43\n",
    "\n",
    "print(f'Trial center distance: {CD_trial}')"
   ]
  },
  {
   "cell_type": "markdown",
   "metadata": {},
   "source": [
    "### Now we calculate LP from this formula\n",
    "\n",
    "![V Belt Image](./images/Lp_Formula.png)"
   ]
  },
  {
   "cell_type": "code",
   "execution_count": 70,
   "metadata": {},
   "outputs": [
    {
     "name": "stdout",
     "output_type": "stream",
     "text": [
      "Length from trial distance: 147.28352325581395\n"
     ]
    }
   ],
   "source": [
    "Lp_guess = 2*CD_trial + 1.57*(D2 + D1) + (D2 - D1)**2 / (4 * CD_trial)\n",
    "\n",
    "print(f'Length from trial distance: {Lp_guess}')"
   ]
  },
  {
   "cell_type": "markdown",
   "metadata": {},
   "source": [
    "### Choose the belt length from this table\n",
    "\n",
    "![V Belt Image](./images/belt_length.png)"
   ]
  },
  {
   "cell_type": "markdown",
   "metadata": {},
   "source": [
    "### Now we calculate the actual center distance from these formulas\n",
    "Fill in the selected belt length below\n",
    "\n",
    "![V Belt Image](./images/center_distance.png)"
   ]
  },
  {
   "cell_type": "code",
   "execution_count": 73,
   "metadata": {},
   "outputs": [
    {
     "name": "stdout",
     "output_type": "stream",
     "text": [
      "center distance: 44.38603848492237 inches\n"
     ]
    }
   ],
   "source": [
    "# FILL IN ______________________________\n",
    "Lp = 150\n",
    "\n",
    "\n",
    "B = 4 * Lp - 6.28*(D1 + D2)\n",
    "\n",
    "\n",
    "CD = (B + np.sqrt(B**2 - 32 * (D2 - D1)**2)) / 16\n",
    "\n",
    "print(f'center distance: {CD} inches')\n",
    "\n"
   ]
  },
  {
   "cell_type": "markdown",
   "metadata": {},
   "source": [
    "### Wrap angle calculations \n",
    "\n",
    "![V Belt Image](./images/small_wrap.png)\n",
    "\n",
    "![V Belt Image](./images/big_wrap.png)"
   ]
  },
  {
   "cell_type": "code",
   "execution_count": 74,
   "metadata": {},
   "outputs": [
    {
     "name": "stdout",
     "output_type": "stream",
     "text": [
      "Small sheave wrap angle: 157.26116697562344 degrees\n",
      "Big sheave wrap angle: 202.73883302437656 degrees\n"
     ]
    }
   ],
   "source": [
    "theta_1 = 180 - 2 * np.degrees(np.arcsin((D2 - D1) / (2 * CD)))\n",
    "\n",
    "theta_2 = 180 + 2 * np.degrees(np.arcsin((D2 - D1) / (2 * CD)))\n",
    "\n",
    "\n",
    "print(f'Small sheave wrap angle: {theta_1} degrees')\n",
    "\n",
    "print(f'Big sheave wrap angle: {theta_2} degrees')"
   ]
  },
  {
   "cell_type": "markdown",
   "metadata": {},
   "source": [
    "### Find these randomass correction factors\n",
    "Use the small sheave for the wrap correction factor\n",
    "\n",
    "![V Belt Image](./images/C_theta.png)\n",
    "\n",
    "![V Belt Image](./images/C_Lp.png)"
   ]
  },
  {
   "cell_type": "code",
   "execution_count": 75,
   "metadata": {},
   "outputs": [],
   "source": [
    "# FILL IN ______________________________\n",
    "C_theta = 0.93\n",
    "C_Lp = 1.035"
   ]
  },
  {
   "cell_type": "code",
   "execution_count": 76,
   "metadata": {},
   "outputs": [
    {
     "name": "stdout",
     "output_type": "stream",
     "text": [
      "corrected power rating: 25.218810000000005 HP\n",
      "we need 2.220564729263593 belts\n",
      "round up! We need 3.0\n"
     ]
    }
   ],
   "source": [
    "corrected_power_rating = C_theta * C_Lp * P_rated_total\n",
    "print(f'corrected power rating: {corrected_power_rating} HP')\n",
    "\n",
    "num_belts = H_des / corrected_power_rating\n",
    "print(f'we need {num_belts} belts')\n",
    "print(f'round up! We need {np.ceil(num_belts)}')"
   ]
  },
  {
   "cell_type": "code",
   "execution_count": 83,
   "metadata": {},
   "outputs": [
    {
     "name": "stdout",
     "output_type": "stream",
     "text": [
      "State you belt type: 3V, 5V, 8V\n",
      "D1: 10.2 inches\n",
      "D2: 27.7 inches\n",
      "VR: 2.715686274509804\n",
      "CD: 44.38603848492237\n",
      "3.0 belts needed\n"
     ]
    }
   ],
   "source": [
    "print(f'State you belt type: 3V, 5V, 8V')\n",
    "print(f'D1: {D1} inches')\n",
    "print(f'D2: {D2} inches')\n",
    "print(f'VR: {VR}')\n",
    "print(f'CD: {CD}')\n",
    "print(f'{np.ceil(num_belts)} belts needed')"
   ]
  }
 ],
 "metadata": {
  "kernelspec": {
   "display_name": "Python 3",
   "language": "python",
   "name": "python3"
  },
  "language_info": {
   "codemirror_mode": {
    "name": "ipython",
    "version": 3
   },
   "file_extension": ".py",
   "mimetype": "text/x-python",
   "name": "python",
   "nbconvert_exporter": "python",
   "pygments_lexer": "ipython3",
   "version": "3.11.9"
  }
 },
 "nbformat": 4,
 "nbformat_minor": 2
}
