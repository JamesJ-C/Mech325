{
 "cells": [
  {
   "cell_type": "code",
   "execution_count": 15,
   "metadata": {},
   "outputs": [],
   "source": [
    "import numpy as np\n",
    "\n",
    "\n",
    "from IPython.display import display, Math"
   ]
  },
  {
   "cell_type": "markdown",
   "metadata": {},
   "source": [
    "# Synchronous Belt Design Script"
   ]
  },
  {
   "cell_type": "markdown",
   "metadata": {},
   "source": [
    "Given Constants"
   ]
  },
  {
   "cell_type": "code",
   "execution_count": 16,
   "metadata": {},
   "outputs": [],
   "source": [
    "# FILL IN ______________________________\n",
    "\n",
    "H_in = 40   # horsepower\n",
    "\n",
    "# shaft speeds. n_driving is the faster shaft.\n",
    "n_driving = 1500   # RPM\n",
    "n_driven = 550    # RPM"
   ]
  },
  {
   "cell_type": "code",
   "execution_count": 17,
   "metadata": {},
   "outputs": [],
   "source": [
    "def linear_interpolate(x0, y0, x1, y1, x):\n",
    "    \"\"\"\n",
    "    Perform linear interpolation to find the y value corresponding to x.\n",
    "\n",
    "    Parameters:\n",
    "    x0, y0: coordinates of the first point\n",
    "    x1, y1: coordinates of the second point\n",
    "    x: the x value to interpolate\n",
    "\n",
    "    Returns:\n",
    "    y: the interpolated y value\n",
    "    \"\"\"\n",
    "    if x1 == x0:\n",
    "        raise ValueError(\"x1 and x0 cannot be equal as it would cause division by zero.\")\n",
    "    y = y0 + (y1 - y0) * (x - x0) / (x1 - x0)\n",
    "    return y"
   ]
  },
  {
   "cell_type": "markdown",
   "metadata": {},
   "source": [
    "### Select a service factor from this table: "
   ]
  },
  {
   "cell_type": "markdown",
   "metadata": {},
   "source": [
    "![Timing Belt k_s](./images/Table7-10_SynchronousBeltServiceFactor.png)"
   ]
  },
  {
   "cell_type": "code",
   "execution_count": 18,
   "metadata": {},
   "outputs": [
    {
     "data": {
      "text/latex": [
       "$\\displaystyle H_{des}: 56.0 \\; \\text{hp}$"
      ],
      "text/plain": [
       "<IPython.core.display.Math object>"
      ]
     },
     "metadata": {},
     "output_type": "display_data"
    }
   ],
   "source": [
    "# FILL IN ______________________________\n",
    "k_s = 1.4\n",
    "\n",
    "H_des = H_in * k_s\n",
    "\n",
    "display(Math(f'H_{{des}}: {H_des} \\\\; \\\\text{{hp}}'))\n"
   ]
  },
  {
   "cell_type": "markdown",
   "metadata": {},
   "source": [
    "### Select Belt pitch from the graph"
   ]
  },
  {
   "cell_type": "markdown",
   "metadata": {},
   "source": [
    "SHould get 8mm, as this is the only one the textbook has info for\n",
    "\n",
    "![Timing Belt Pitch Selection](./images/PitchGraph_SynchronousBeltPitchSelection.png)"
   ]
  },
  {
   "cell_type": "code",
   "execution_count": 19,
   "metadata": {},
   "outputs": [
    {
     "name": "stdout",
     "output_type": "stream",
     "text": [
      "Velocity Ratio = 2.727272727272727\n"
     ]
    }
   ],
   "source": [
    "VR_guess = n_driving / n_driven \n",
    "\n",
    "print(f'Velocity Ratio = {VR_guess}')"
   ]
  },
  {
   "cell_type": "markdown",
   "metadata": {},
   "source": [
    "### Select multiple combinations of driver and driven sprockets that fit the ciriteria, from the table:"
   ]
  },
  {
   "cell_type": "markdown",
   "metadata": {},
   "source": [
    "![8mm pith sprockets table pt1](./images/Table7-7pt1_SprocketSelection_SynchronousBelts.png.png)\n",
    "\n",
    "![8mm pith sprockets table pt1](./images/Table7-7pt2_SprocketSelection_SynchronousBelts.png.png)"
   ]
  },
  {
   "cell_type": "code",
   "execution_count": null,
   "metadata": {},
   "outputs": [],
   "source": [
    "#list driver and driven sprockets?\n",
    "\n",
    "# FILL IN ______________________________\n",
    "\n",
    "\n",
    "#driven, driver diameter\n",
    "potential_sprockets_pairs = [ (),\n",
    "                             (),\n",
    "                             ]\n"
   ]
  },
  {
   "cell_type": "markdown",
   "metadata": {},
   "source": [
    "Eliminate designs:\n",
    "\n",
    " a\\)\n",
    "If the motor shaft size is given, you must ensure the driving sprocket’s max bore size is\n",
    "bigger than the motor shaft (I think the bore is the hole in the middle of the sprocket)\n",
    "First you’re going to want to find the brushing size for the candidate driving sprockets"
   ]
  },
  {
   "cell_type": "markdown",
   "metadata": {},
   "source": [
    "b\\) elimate more"
   ]
  },
  {
   "cell_type": "markdown",
   "metadata": {},
   "source": [
    "c\\) eliminate the final ones"
   ]
  },
  {
   "cell_type": "markdown",
   "metadata": {},
   "source": [
    "Choose any number if you have more than one left"
   ]
  },
  {
   "cell_type": "markdown",
   "metadata": {},
   "source": [
    "### Choose the Pitch diameters for the selected sprockets with the table:"
   ]
  },
  {
   "cell_type": "markdown",
   "metadata": {},
   "source": [
    "![Synchronous Belt  Table 7-4](./images/Table7-4_SynchronousBelts.png)"
   ]
  },
  {
   "cell_type": "code",
   "execution_count": null,
   "metadata": {},
   "outputs": [],
   "source": [
    "# FILL IN ______________________________\n",
    "\n",
    "PD_driving = 0\n",
    "PD_driven = 0"
   ]
  },
  {
   "cell_type": "markdown",
   "metadata": {},
   "source": [
    "### If given a center distance range, use table 7-7 to pick a center distance within the range\n"
   ]
  },
  {
   "cell_type": "markdown",
   "metadata": {},
   "source": [
    "![Synchronous Belt  Table 7-7pt1](./images/Table7-7pt1_sprocketSelection_SynchronousBelts.png)"
   ]
  },
  {
   "cell_type": "markdown",
   "metadata": {},
   "source": [
    "![Synchronous Belt  Table 7-7pt2](./images/Table7-7pt2_sprocketSelection_SynchronousBelts.png)"
   ]
  },
  {
   "cell_type": "code",
   "execution_count": null,
   "metadata": {},
   "outputs": [],
   "source": [
    "#FILL IN ______________________________\n",
    "\n",
    "CD = 0\n"
   ]
  },
  {
   "cell_type": "markdown",
   "metadata": {},
   "source": [
    "### Find belt width and new rated power"
   ]
  },
  {
   "cell_type": "markdown",
   "metadata": {},
   "source": [
    "30mm belts:\n",
    "\n",
    "![Synchronous Belt  Table 7-9](./images/Table7-9_SynchronousBelts.png)"
   ]
  },
  {
   "cell_type": "markdown",
   "metadata": {},
   "source": [
    "50mm belt:\n",
    "\n",
    "![Synchronous Belt  Table 7-10](./images/Table7-10_SynchronousBelts.png)"
   ]
  },
  {
   "cell_type": "code",
   "execution_count": null,
   "metadata": {},
   "outputs": [],
   "source": [
    "#FILL IN ______________________________\n",
    "\n",
    "width = 0\n",
    "\n",
    "H_rated = 0"
   ]
  },
  {
   "cell_type": "markdown",
   "metadata": {},
   "source": [
    "### Find the belt length corretction factor, $C_L$, from the table:"
   ]
  },
  {
   "cell_type": "markdown",
   "metadata": {},
   "source": [
    "![Synchronous Belt  Table 7-11](./images/Table7-11_Synchronous_Belts.png)"
   ]
  },
  {
   "cell_type": "code",
   "execution_count": null,
   "metadata": {},
   "outputs": [],
   "source": [
    "C_L = 0"
   ]
  },
  {
   "cell_type": "markdown",
   "metadata": {},
   "source": [
    "### Calculate the adjusted power\n",
    "\n",
    "$$P_{\\text{adj}} = P_{\\text{rated}}\\cdot{}C_L$$"
   ]
  },
  {
   "cell_type": "code",
   "execution_count": null,
   "metadata": {},
   "outputs": [],
   "source": [
    "### FILL IN ______________________________\n",
    "\n",
    "P_adj = 0"
   ]
  },
  {
   "cell_type": "markdown",
   "metadata": {},
   "source": [
    "### Calculate the belt speed to ensure it does not exceed 6500 ft/min"
   ]
  },
  {
   "cell_type": "code",
   "execution_count": null,
   "metadata": {},
   "outputs": [],
   "source": [
    "v_belt = PD_driving / 2 * n_driving  * 2 * np.pi / 12"
   ]
  },
  {
   "cell_type": "markdown",
   "metadata": {},
   "source": [
    "### Select the driving sheave size to produce a belt speed of 4000 ft/min \n",
    "(this is a standard speed we use since belt speed should not surpass 5000 ft/min, with a hard max at 6500 ft/min)"
   ]
  },
  {
   "cell_type": "code",
   "execution_count": 83,
   "metadata": {},
   "outputs": [
    {
     "name": "stdout",
     "output_type": "stream",
     "text": [
      "State you belt type: 3V, 5V, 8V\n",
      "D1: 10.2 inches\n",
      "D2: 27.7 inches\n",
      "VR: 2.715686274509804\n",
      "CD: 44.38603848492237\n",
      "3.0 belts needed\n"
     ]
    }
   ],
   "source": [
    "print(f'State you belt type: 3V, 5V, 8V')\n",
    "print(f'D1: {D1} inches')\n",
    "print(f'D2: {D2} inches')\n",
    "print(f'VR: {VR}')\n",
    "print(f'CD: {CD}')\n",
    "print(f'{np.ceil(num_belts)} belts needed')"
   ]
  }
 ],
 "metadata": {
  "kernelspec": {
   "display_name": "Python 3",
   "language": "python",
   "name": "python3"
  },
  "language_info": {
   "codemirror_mode": {
    "name": "ipython",
    "version": 3
   },
   "file_extension": ".py",
   "mimetype": "text/x-python",
   "name": "python",
   "nbconvert_exporter": "python",
   "pygments_lexer": "ipython3",
   "version": "3.11.9"
  }
 },
 "nbformat": 4,
 "nbformat_minor": 2
}
