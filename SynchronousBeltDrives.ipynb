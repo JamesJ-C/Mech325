{
 "cells": [
  {
   "cell_type": "code",
   "execution_count": 38,
   "metadata": {},
   "outputs": [],
   "source": [
    "import numpy as np\n",
    "\n",
    "\n",
    "from IPython.display import display, Math"
   ]
  },
  {
   "cell_type": "markdown",
   "metadata": {},
   "source": [
    "# Synchronous Belt Design Script"
   ]
  },
  {
   "cell_type": "markdown",
   "metadata": {},
   "source": [
    "Given Constants"
   ]
  },
  {
   "cell_type": "code",
   "execution_count": 39,
   "metadata": {},
   "outputs": [],
   "source": [
    "# FILL IN ______________________________\n",
    "\n",
    "H_in = 5   # horsepower\n",
    "\n",
    "# shaft speeds. n_driving is the faster shaft.\n",
    "n_driving = 1750   # RPM\n",
    "n_driven = 700    # RPM"
   ]
  },
  {
   "cell_type": "code",
   "execution_count": 40,
   "metadata": {},
   "outputs": [],
   "source": [
    "def linear_interpolate(x0, y0, x1, y1, x):\n",
    "    \"\"\"\n",
    "    Perform linear interpolation to find the y value corresponding to x.\n",
    "\n",
    "    Parameters:\n",
    "    x0, y0: coordinates of the first point\n",
    "    x1, y1: coordinates of the second point\n",
    "    x: the x value to interpolate\n",
    "\n",
    "    Returns:\n",
    "    y: the interpolated y value\n",
    "    \"\"\"\n",
    "    if x1 == x0:\n",
    "        raise ValueError(\"x1 and x0 cannot be equal as it would cause division by zero.\")\n",
    "    y = y0 + (y1 - y0) * (x - x0) / (x1 - x0)\n",
    "    return y"
   ]
  },
  {
   "cell_type": "markdown",
   "metadata": {},
   "source": [
    "### Select a service factor from this table: "
   ]
  },
  {
   "cell_type": "markdown",
   "metadata": {},
   "source": [
    "![Timing Belt k_s](./images/Table7-10_SynchronousBeltServiceFactor.png)"
   ]
  },
  {
   "cell_type": "code",
   "execution_count": 41,
   "metadata": {},
   "outputs": [
    {
     "data": {
      "text/latex": [
       "$\\displaystyle H_{des}: 9.0 \\; \\text{hp}$"
      ],
      "text/plain": [
       "<IPython.core.display.Math object>"
      ]
     },
     "metadata": {},
     "output_type": "display_data"
    }
   ],
   "source": [
    "# FILL IN ______________________________\n",
    "k_s = 1.8\n",
    "\n",
    "H_des = H_in * k_s\n",
    "\n",
    "display(Math(f'H_{{des}}: {H_des} \\\\; \\\\text{{hp}}'))\n"
   ]
  },
  {
   "cell_type": "markdown",
   "metadata": {},
   "source": [
    "### Select Belt pitch from the graph"
   ]
  },
  {
   "cell_type": "markdown",
   "metadata": {},
   "source": [
    "SHould get 8mm, as this is the only one the textbook has info for\n",
    "\n",
    "![Timing Belt Pitch Selection](./images/PitchGraph_SynchronousBeltPitchSelection.png)"
   ]
  },
  {
   "cell_type": "code",
   "execution_count": 42,
   "metadata": {},
   "outputs": [],
   "source": [
    "belt_pitch = 8"
   ]
  },
  {
   "cell_type": "code",
   "execution_count": 43,
   "metadata": {},
   "outputs": [
    {
     "name": "stdout",
     "output_type": "stream",
     "text": [
      "Velocity Ratio = 2.5\n"
     ]
    }
   ],
   "source": [
    "VR = n_driving / n_driven \n",
    "\n",
    "print(f'Velocity Ratio = {VR}')"
   ]
  },
  {
   "cell_type": "markdown",
   "metadata": {},
   "source": [
    "### Select multiple combinations of driver and driven sprockets that fit the ciriteria, from the table:"
   ]
  },
  {
   "cell_type": "markdown",
   "metadata": {},
   "source": [
    "![8mm pith sprockets table pt1](./images/Table7-7pt1_SprocketSelection_SynchronousBelts.png)\n",
    "\n",
    "![8mm pith sprockets table pt1](./images/Table7-7pt2_SprocketSelection_SynchronousBelts.png)"
   ]
  },
  {
   "cell_type": "code",
   "execution_count": 44,
   "metadata": {},
   "outputs": [],
   "source": [
    "#list driver and driven sprockets?\n",
    "\n",
    "# FILL IN ______________________________\n",
    "\n",
    "\n",
    "#driven, driver diameter\n",
    "potential_sprockets_pairs = [ (32, 80),\n",
    "                             (36, 90),\n",
    "                             ]\n"
   ]
  },
  {
   "cell_type": "markdown",
   "metadata": {},
   "source": [
    "#### Eliminate designs:"
   ]
  },
  {
   "cell_type": "markdown",
   "metadata": {},
   "source": [
    "#### a\\) motor shaft size\n"
   ]
  },
  {
   "cell_type": "markdown",
   "metadata": {},
   "source": [
    "If the motor shaft size is given, you must ensure the driving sprocket’s max bore size is\n",
    "bigger than the motor shaft (I think the bore is the hole in the middle of the sprocket)\n",
    "First you’re going to want to find the brushing size for the candidate driving sprockets"
   ]
  },
  {
   "cell_type": "markdown",
   "metadata": {},
   "source": [
    "Find the bushing size from this table:\n",
    "\n",
    "![Sprockets with 8mm pitch belt Table 7-4](./images/Table7-4_SynchronousBelts.png)\n"
   ]
  },
  {
   "cell_type": "markdown",
   "metadata": {},
   "source": [
    "Next, find the associated bore size from this table:\n",
    "\n",
    "![ Taper-Lock Bushing ](./images/Table7-5_SynchronousBelts.png)"
   ]
  },
  {
   "cell_type": "markdown",
   "metadata": {},
   "source": [
    "**Eliminate the sprocket combinations that have a max bore size that is smaller than the otor shaft diameter**"
   ]
  },
  {
   "cell_type": "markdown",
   "metadata": {},
   "source": [
    "#### b\\) elimate more"
   ]
  },
  {
   "cell_type": "markdown",
   "metadata": {},
   "source": [
    "If a limit on the diameter of a sprocket is given, eliminate all candidates that exceed this limit. Use the table to find the flange diameters of the candidate sprockets\n",
    "\n",
    "\n",
    "\n",
    "![Sprockets with 8mm pitch belt Table 7-4](./images/Table7-4_SynchronousBelts.png)"
   ]
  },
  {
   "cell_type": "markdown",
   "metadata": {},
   "source": [
    "#### c\\) eliminate the final ones\n",
    "\n",
    "If there is still multiple left choose any, or, skip to table 7-9 and pick the one that exceeds design power"
   ]
  },
  {
   "cell_type": "code",
   "execution_count": 45,
   "metadata": {},
   "outputs": [],
   "source": [
    "N_driver = 32\n",
    "N_driven = 80"
   ]
  },
  {
   "cell_type": "markdown",
   "metadata": {},
   "source": [
    "### "
   ]
  },
  {
   "cell_type": "markdown",
   "metadata": {},
   "source": [
    "### Find belt width and new rated power\n",
    "\n",
    "teeth, pitch diameter"
   ]
  },
  {
   "cell_type": "markdown",
   "metadata": {},
   "source": [
    "#### 30mm belts:"
   ]
  },
  {
   "cell_type": "markdown",
   "metadata": {},
   "source": [
    "![Synchronous Belt  Table 7-9](./images/Table7-9_SynchronousBelts.png)"
   ]
  },
  {
   "cell_type": "markdown",
   "metadata": {},
   "source": [
    "#### 50mm belt:\n",
    "\n"
   ]
  },
  {
   "cell_type": "markdown",
   "metadata": {},
   "source": [
    "![Synchronous Belt  Table 7-10](./images/Table7-10_SynchronousBelts.png)"
   ]
  },
  {
   "cell_type": "markdown",
   "metadata": {},
   "source": [
    "#### Values for width and H_rated"
   ]
  },
  {
   "cell_type": "code",
   "execution_count": 46,
   "metadata": {},
   "outputs": [],
   "source": [
    "#FILL IN ______________________________\n",
    "\n",
    "width = 30\n",
    "\n",
    "H_rated = 21.2"
   ]
  },
  {
   "cell_type": "markdown",
   "metadata": {},
   "source": [
    "### Find the pitch diameters. Use the table below"
   ]
  },
  {
   "cell_type": "markdown",
   "metadata": {},
   "source": [
    "![Sprockets with 8mm pitch belt Table 7-4](./images/Table7-4_SynchronousBelts.png)"
   ]
  },
  {
   "cell_type": "code",
   "execution_count": 47,
   "metadata": {},
   "outputs": [],
   "source": [
    "# FILL IN ______________________________\n",
    "\n",
    "PD_driving = 3.208\n",
    "PD_driven = 8.020"
   ]
  },
  {
   "cell_type": "markdown",
   "metadata": {},
   "source": [
    "### If given a center distance range, use table 7-7 to pick a center distance within the range\n"
   ]
  },
  {
   "cell_type": "markdown",
   "metadata": {},
   "source": [
    "**OR use V-belt rule for intial center distance estimate**"
   ]
  },
  {
   "cell_type": "code",
   "execution_count": 48,
   "metadata": {},
   "outputs": [
    {
     "name": "stdout",
     "output_type": "stream",
     "text": [
      "CD_guess_max = 18 in\n",
      "CD_guess_min = 0 in\n"
     ]
    }
   ],
   "source": [
    "CD_guess_min = 0 #D2\n",
    "CD_guess_max = 3 * (1 + 5) #3*(D1+D2)\n",
    "\n",
    "print(f'CD_guess_max = {CD_guess_max} in')\n",
    "print(f'CD_guess_min = {CD_guess_min} in')"
   ]
  },
  {
   "cell_type": "markdown",
   "metadata": {},
   "source": [
    "![Synchronous Belt  Table 7-7pt1](./images/Table7-7pt1_sprocketSelection_SynchronousBelts.png)"
   ]
  },
  {
   "cell_type": "markdown",
   "metadata": {},
   "source": [
    "![Synchronous Belt  Table 7-7pt2](./images/Table7-7pt2_sprocketSelection_SynchronousBelts.png)"
   ]
  },
  {
   "cell_type": "code",
   "execution_count": 49,
   "metadata": {},
   "outputs": [],
   "source": [
    "#FILL IN ______________________________\n",
    "\n",
    "CD = 8.97\n",
    "N_belt = 115"
   ]
  },
  {
   "cell_type": "markdown",
   "metadata": {},
   "source": [
    "### Find the belt length corretction factor, $C_L$, from the table:"
   ]
  },
  {
   "cell_type": "markdown",
   "metadata": {},
   "source": [
    "These are for teeth on the belt:"
   ]
  },
  {
   "cell_type": "code",
   "execution_count": 50,
   "metadata": {},
   "outputs": [
    {
     "data": {
      "text/plain": [
       "115"
      ]
     },
     "execution_count": 50,
     "metadata": {},
     "output_type": "execute_result"
    }
   ],
   "source": [
    "N_belt"
   ]
  },
  {
   "cell_type": "markdown",
   "metadata": {},
   "source": [
    "![Synchronous Belt  Table 7-11](./images/Table7-11_Synchronous_Belts.png)"
   ]
  },
  {
   "cell_type": "code",
   "execution_count": 51,
   "metadata": {},
   "outputs": [],
   "source": [
    "C_L = 1.00"
   ]
  },
  {
   "cell_type": "markdown",
   "metadata": {},
   "source": [
    "### Calculate the adjusted power\n",
    "\n",
    "$$H_{\\text{adj}} = H_{\\text{rated}}\\cdot{}C_L$$"
   ]
  },
  {
   "cell_type": "code",
   "execution_count": 52,
   "metadata": {},
   "outputs": [
    {
     "name": "stdout",
     "output_type": "stream",
     "text": [
      "H_adj = 21.2 hp\n"
     ]
    }
   ],
   "source": [
    "### FILL IN ______________________________\n",
    "\n",
    "H_adj = H_rated * C_L\n",
    "print(f'H_adj = {H_adj} hp')"
   ]
  },
  {
   "cell_type": "markdown",
   "metadata": {},
   "source": [
    "### Calculate the belt speed to ensure it does not exceed 6500 ft/min"
   ]
  },
  {
   "cell_type": "code",
   "execution_count": 53,
   "metadata": {},
   "outputs": [
    {
     "name": "stdout",
     "output_type": "stream",
     "text": [
      "v_belt: 1469.7417631044248 ft/min\n"
     ]
    }
   ],
   "source": [
    "v_belt = PD_driving / 2 * n_driving  * 2 * np.pi / 12\n",
    "print(f'v_belt: {v_belt} ft/min')\n",
    "assert(v_belt < 6500)\n"
   ]
  },
  {
   "cell_type": "markdown",
   "metadata": {},
   "source": [
    "## Calculate Safety Factor"
   ]
  },
  {
   "cell_type": "code",
   "execution_count": 54,
   "metadata": {},
   "outputs": [
    {
     "data": {
      "text/plain": [
       "(21.2, 9.0, 2.3555555555555556)"
      ]
     },
     "execution_count": 54,
     "metadata": {},
     "output_type": "execute_result"
    }
   ],
   "source": [
    "Safety_factor = H_adj / H_des\n",
    "\n",
    "Safety_factor"
   ]
  },
  {
   "cell_type": "markdown",
   "metadata": {},
   "source": [
    "## Final Design"
   ]
  },
  {
   "cell_type": "code",
   "execution_count": 55,
   "metadata": {},
   "outputs": [
    {
     "ename": "NameError",
     "evalue": "name 'D1' is not defined",
     "output_type": "error",
     "traceback": [
      "\u001b[1;31m---------------------------------------------------------------------------\u001b[0m",
      "\u001b[1;31mNameError\u001b[0m                                 Traceback (most recent call last)",
      "Cell \u001b[1;32mIn[55], line 1\u001b[0m\n\u001b[1;32m----> 1\u001b[0m \u001b[38;5;28mprint\u001b[39m(\u001b[38;5;124mf\u001b[39m\u001b[38;5;124m'\u001b[39m\u001b[38;5;124mD1: \u001b[39m\u001b[38;5;132;01m{\u001b[39;00m\u001b[43mD1\u001b[49m\u001b[38;5;132;01m}\u001b[39;00m\u001b[38;5;124m inches\u001b[39m\u001b[38;5;124m'\u001b[39m)\n\u001b[0;32m      2\u001b[0m \u001b[38;5;28mprint\u001b[39m(\u001b[38;5;124mf\u001b[39m\u001b[38;5;124m'\u001b[39m\u001b[38;5;124mD2: \u001b[39m\u001b[38;5;132;01m{\u001b[39;00mD2\u001b[38;5;132;01m}\u001b[39;00m\u001b[38;5;124m inches\u001b[39m\u001b[38;5;124m'\u001b[39m)\n\u001b[0;32m      3\u001b[0m \u001b[38;5;28mprint\u001b[39m(\u001b[38;5;124mf\u001b[39m\u001b[38;5;124m'\u001b[39m\u001b[38;5;124mVR: \u001b[39m\u001b[38;5;132;01m{\u001b[39;00mVR\u001b[38;5;132;01m}\u001b[39;00m\u001b[38;5;124m'\u001b[39m)\n",
      "\u001b[1;31mNameError\u001b[0m: name 'D1' is not defined"
     ]
    }
   ],
   "source": [
    "# print(f'D1: {D1} inches')\n",
    "# print(f'D2: {D2} inches')\n",
    "print(f'VR: {VR}')\n",
    "print(f'CD: {CD}')\n",
    "print(f'v_belt: {v_belt} ft/min')\n",
    "print(f'H_adj: {H_adj} hp')\n",
    "print(f'Belt width: {width} inches')"
   ]
  }
 ],
 "metadata": {
  "kernelspec": {
   "display_name": "Python 3",
   "language": "python",
   "name": "python3"
  },
  "language_info": {
   "codemirror_mode": {
    "name": "ipython",
    "version": 3
   },
   "file_extension": ".py",
   "mimetype": "text/x-python",
   "name": "python",
   "nbconvert_exporter": "python",
   "pygments_lexer": "ipython3",
   "version": "3.11.9"
  }
 },
 "nbformat": 4,
 "nbformat_minor": 2
}
