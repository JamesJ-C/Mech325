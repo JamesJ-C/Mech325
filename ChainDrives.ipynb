{
 "cells": [
  {
   "cell_type": "code",
   "execution_count": 60,
   "metadata": {},
   "outputs": [],
   "source": [
    "import numpy as np"
   ]
  },
  {
   "cell_type": "markdown",
   "metadata": {},
   "source": [
    "# Chain Drive Design Script\n",
    "\n",
    "Follow the instructions. Thank Felix.\n",
    "\n",
    "Felix takes no responsability for marks lost due to errors in this notebook, Fuck you."
   ]
  },
  {
   "cell_type": "code",
   "execution_count": 61,
   "metadata": {},
   "outputs": [
    {
     "name": "stdout",
     "output_type": "stream",
     "text": [
      "Velocity Ratio: 3.0\n"
     ]
    }
   ],
   "source": [
    "# Fill in these constants\n",
    "P_in = 10   # horsepower\n",
    "n1 = 1500   # RMP\n",
    "n2 = 500    # RPM\n",
    "\n",
    "# if you know VR but not n1 or n2, adjust accordingly\n",
    "VR = n1 / n2\n",
    "\n",
    "print(f'Velocity Ratio: {VR}')"
   ]
  },
  {
   "cell_type": "code",
   "execution_count": 62,
   "metadata": {},
   "outputs": [],
   "source": [
    "# use this function to linearly interpolate from graphs\n",
    "# known points are (x1, y1) and (x2, y2)\n",
    "# function returns the interpolated value associated with x3\n",
    "def linear_interpolate(x1, y1, x2, y2, x3):\n",
    "    # Ensure x1 and x2 are not the same to avoid division by zero\n",
    "    if x1 == x2:\n",
    "        raise ValueError(\"x1 and x2 cannot be the same value.\")\n",
    "    \n",
    "    y3 = y1 + (y2 - y1) * ((x3 - x1) / (x2 - x1))\n",
    "    return y3"
   ]
  },
  {
   "cell_type": "markdown",
   "metadata": {},
   "source": [
    "### Behold the chains\n",
    "\n",
    "If these chains are used to support a load or apply a tensile force, only 10% of the average tensile\n",
    "strength should be used.\n",
    "\n",
    "![V Belt Image](./images/chain_drive_types.png)\n",
    "\n",
    "\n",
    "### Get a service factor\n",
    "\n",
    "![V Belt Image](./images/chain_service_factor.png)"
   ]
  },
  {
   "cell_type": "code",
   "execution_count": 63,
   "metadata": {},
   "outputs": [
    {
     "name": "stdout",
     "output_type": "stream",
     "text": [
      "Design Power: 13.0 HP\n"
     ]
    }
   ],
   "source": [
    "# FILL IN ______________________________\n",
    "SF = 1.3\n",
    "\n",
    "P_des = P_in * SF\n",
    "\n",
    "print(f'Design Power: {P_des} HP')"
   ]
  },
  {
   "cell_type": "markdown",
   "metadata": {},
   "source": [
    "### Time to Select a Chain\n",
    "\n",
    "We are selecting for the chain pitch (p) and the number of teeth on the small sprocket (N1)."
   ]
  },
  {
   "cell_type": "code",
   "execution_count": 64,
   "metadata": {},
   "outputs": [
    {
     "name": "stdout",
     "output_type": "stream",
     "text": [
      "you are using one strand\n",
      "Required power is: 13.0 HP\n"
     ]
    }
   ],
   "source": [
    "# set true the one you wanna use\n",
    "# SET THE OTHERS FALSE OR SUFFER\n",
    "one_stranded = True\n",
    "two_stranded = False\n",
    "three_stranded = False\n",
    "four_stranded = False\n",
    "\n",
    "strand_factor = 1\n",
    "\n",
    "if one_stranded:\n",
    "    print('you are using one strand')\n",
    "    strand_factor = 1\n",
    "elif two_stranded:\n",
    "    print('you are using two strands')\n",
    "    strand_factor = 1.7\n",
    "elif three_stranded:\n",
    "    print('you are using three strands')\n",
    "    strand_factor = 2.5\n",
    "elif four_stranded:\n",
    "    print('you are using four strands')\n",
    "    strand_factor = 3.3\n",
    "\n",
    "P_required = P_des / strand_factor\n",
    "\n",
    "print(f'Required power is: {P_required} HP')"
   ]
  },
  {
   "cell_type": "markdown",
   "metadata": {},
   "source": [
    "### Keep the following in mind: \n",
    "\n",
    "1. P_rated obtained from the tables must be greater than P_required\n",
    "2. The minimum number of teeth in a sprocket should be 17 (unless the it is operation at < 100rpm)\n",
    "3. The largest sprocket should have no more than 120 teeth, so make sure that (N1)(VR) < 120 when selecting N1.\n",
    "4. You will sadly need to use interpolation to find the rated power if n1 isn’t on the table already.\n",
    "5. The table will also give you the lubrication type"
   ]
  },
  {
   "cell_type": "markdown",
   "metadata": {},
   "source": [
    "![Chain Image](./images/chain_No40.png)\n",
    "![Chain Image](./images/chain_No60.png)\n",
    "![Chain Image](./images/chain_No80.png)"
   ]
  },
  {
   "cell_type": "code",
   "execution_count": 65,
   "metadata": {},
   "outputs": [],
   "source": [
    "# FILL IN ______________________________\n",
    "N1 = 17\n",
    "P_rated = 40\n",
    "pitch = 1\n",
    "lubrication_type = \"Type C: Oil\""
   ]
  },
  {
   "cell_type": "code",
   "execution_count": 66,
   "metadata": {},
   "outputs": [
    {
     "name": "stdout",
     "output_type": "stream",
     "text": [
      "N2 = 51.0 teeth\n",
      "actual output speed n2 = 500.0 RPM\n"
     ]
    }
   ],
   "source": [
    "N2 = np.round(N1 * VR)\n",
    "\n",
    "print(f'N2 = {N2} teeth')\n",
    "\n",
    "n2 = n1 * N1 / N2\n",
    "\n",
    "print(f'actual output speed n2 = {n2} RPM')"
   ]
  },
  {
   "cell_type": "markdown",
   "metadata": {},
   "source": [
    "### Now we compute the pitch diameters of the sprockets\n",
    "![Chain Image](./images/chain_pitch_diameters.png)"
   ]
  },
  {
   "cell_type": "code",
   "execution_count": 67,
   "metadata": {},
   "outputs": [
    {
     "name": "stdout",
     "output_type": "stream",
     "text": [
      "PD1 = 5.442191151751806 inches\n",
      "PD2 = 16.244075384859062 inches\n"
     ]
    }
   ],
   "source": [
    "rad1 = np.radians(180 / N1)\n",
    "rad2 = np.radians(180 / N2)\n",
    "\n",
    "PD1 = pitch / np.sin(rad1)\n",
    "\n",
    "PD2 = pitch / np.sin(rad2)\n",
    "\n",
    "print(f'PD1 = {PD1} inches')\n",
    "print(f'PD2 = {PD2} inches')"
   ]
  },
  {
   "cell_type": "markdown",
   "metadata": {},
   "source": [
    "### Specify the nominal CD. \n",
    "The recommended range is 30 to 50 pitches, so let’s specify 40 pitches."
   ]
  },
  {
   "cell_type": "code",
   "execution_count": 68,
   "metadata": {},
   "outputs": [],
   "source": [
    "# adjust as necessary\n",
    "CD_nom = 40"
   ]
  },
  {
   "cell_type": "markdown",
   "metadata": {},
   "source": [
    "### Now we find the required chain length in pitches\n",
    "![Chain Image](./images/chain_length.png)\n",
    "\n",
    "The chain length must be an integer multiple of the pitch, so round to the nearest integer\n",
    "value"
   ]
  },
  {
   "cell_type": "code",
   "execution_count": 69,
   "metadata": {},
   "outputs": [
    {
     "name": "stdout",
     "output_type": "stream",
     "text": [
      "Lc = 115.0 pitches\n"
     ]
    }
   ],
   "source": [
    "Lc = 2*CD_nom + (N1 + N2) / 2 + (N2 - N1)**2 / (np.pi**2 * 4 * CD_nom)\n",
    "\n",
    "Lc = np.round(Lc)\n",
    "\n",
    "print(f'Lc = {Lc} pitches')"
   ]
  },
  {
   "cell_type": "markdown",
   "metadata": {},
   "source": [
    "### Now we find the actual CD in pitches\n",
    "![Chain Image](./images/chain_CD.png)"
   ]
  },
  {
   "cell_type": "code",
   "execution_count": 73,
   "metadata": {},
   "outputs": [
    {
     "name": "stdout",
     "output_type": "stream",
     "text": [
      "actual CD = 40.13521030725303 pitches\n"
     ]
    }
   ],
   "source": [
    "CD = (1 / 4)*(Lc - (N2 + N1) / 2 + np.sqrt((Lc - (N2 + N1)/2)**2 - 8*(N2 - N1)**2 / (4 * np.pi**2)))\n",
    "\n",
    "print(f'actual CD = {CD} pitches')"
   ]
  },
  {
   "cell_type": "markdown",
   "metadata": {},
   "source": [
    "### Now we calculate the wrap angle\n",
    "\n",
    "![Chain Image](./images/chain_wrap_angle.png)\n",
    "\n",
    "The minimum angle of wrap should be 120◦"
   ]
  },
  {
   "cell_type": "code",
   "execution_count": 71,
   "metadata": {},
   "outputs": [
    {
     "name": "stdout",
     "output_type": "stream",
     "text": [
      "phi_1 = 164.53264146838927 degrees\n",
      "phi_2 = 195.46735853161073 degrees\n"
     ]
    }
   ],
   "source": [
    "phi_1 = 180 - 2*np.degrees(np.arcsin((PD2 - PD1)/(2 * CD)))\n",
    "\n",
    "phi_2 = 180 + 2*np.degrees(np.arcsin((PD2 - PD1)/(2 * CD)))\n",
    "\n",
    "if phi_1 < 120:\n",
    "    print(f'OH SHIT, wrap angle of small sheave is {phi_1} which is less then 120! You fucked up!')\n",
    "\n",
    "print(f'phi_1 = {phi_1} degrees')\n",
    "\n",
    "print(f'phi_2 = {phi_2} degrees')"
   ]
  },
  {
   "cell_type": "markdown",
   "metadata": {},
   "source": [
    "### Finally, factor of safety calculations!"
   ]
  },
  {
   "cell_type": "code",
   "execution_count": 74,
   "metadata": {},
   "outputs": [
    {
     "name": "stdout",
     "output_type": "stream",
     "text": [
      "Factor of safety is 3.076923076923077\n"
     ]
    }
   ],
   "source": [
    "P_allowed = P_rated * strand_factor\n",
    "\n",
    "FS = P_allowed / P_des\n",
    "\n",
    "print(f'Factor of safety is {FS}')"
   ]
  }
 ],
 "metadata": {
  "kernelspec": {
   "display_name": "Python 3",
   "language": "python",
   "name": "python3"
  },
  "language_info": {
   "codemirror_mode": {
    "name": "ipython",
    "version": 3
   },
   "file_extension": ".py",
   "mimetype": "text/x-python",
   "name": "python",
   "nbconvert_exporter": "python",
   "pygments_lexer": "ipython3",
   "version": "3.11.4"
  }
 },
 "nbformat": 4,
 "nbformat_minor": 2
}
