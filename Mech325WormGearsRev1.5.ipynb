{
 "cells": [
  {
   "cell_type": "code",
   "execution_count": 1149,
   "metadata": {},
   "outputs": [],
   "source": [
    "import numpy as np\n",
    "import matplotlib.pyplot as plt"
   ]
  },
  {
   "cell_type": "code",
   "execution_count": 1150,
   "metadata": {},
   "outputs": [],
   "source": [
    "def linear_interpolation(x0, y0, x1, y1, x):\n",
    "    \"\"\"\n",
    "    Perform linear interpolation to find the y value corresponding to x.\n",
    "\n",
    "    Parameters:\n",
    "    x0, y0: coordinates of the first point\n",
    "    x1, y1: coordinates of the second point\n",
    "    x: the x value to interpolate\n",
    "\n",
    "    Returns:\n",
    "    y: the interpolated y value\n",
    "    \"\"\"\n",
    "    y = y0 + (y1 - y0) * (x - x0) / (x1 - x0)\n",
    "    return y\n",
    "\n",
    "# Example usage:\n",
    "# x0, y0 = 0, 0\n",
    "# x1, y1 = 10, 10\n",
    "# x = 5\n",
    "# y = linear_interpolation(x0, y0, x1, y1, x)\n",
    "# print(f\"The interpolated value at x={x} is y={y}\")"
   ]
  },
  {
   "cell_type": "markdown",
   "metadata": {},
   "source": [
    "## Given Constants"
   ]
  },
  {
   "cell_type": "code",
   "execution_count": 1151,
   "metadata": {},
   "outputs": [],
   "source": [
    "n_w = None\n",
    "n_g = 30\n",
    "\n",
    "N_g = 40 \n",
    "N_w = 1\n",
    "\n",
    "D_g = None\n",
    "D_w = 1.25\n",
    "\n",
    "P_d = 10\n",
    "p = None # circular pitch\n",
    "P_x = None #axial pitch\n",
    "\n",
    "power = None # Power in HP\n",
    "life_time = 15000 # in hours?\n",
    "\n",
    "T_o = 924\n",
    "\n"
   ]
  },
  {
   "cell_type": "markdown",
   "metadata": {},
   "source": [
    "idk how to find Face width, so its going right here"
   ]
  },
  {
   "cell_type": "code",
   "execution_count": 1152,
   "metadata": {},
   "outputs": [],
   "source": [
    "F = 0.625"
   ]
  },
  {
   "cell_type": "code",
   "execution_count": 1153,
   "metadata": {},
   "outputs": [],
   "source": [
    "phi_n = 14.5\n",
    "phi_t = None"
   ]
  },
  {
   "cell_type": "markdown",
   "metadata": {},
   "source": [
    "Calc p etc etc"
   ]
  },
  {
   "cell_type": "code",
   "execution_count": 1154,
   "metadata": {},
   "outputs": [
    {
     "data": {
      "text/plain": [
       "(10.0, 0.3141592653589793, 0.3141592653589793, 4.0)"
      ]
     },
     "execution_count": 1154,
     "metadata": {},
     "output_type": "execute_result"
    }
   ],
   "source": [
    "if p is None and P_d is not None:\n",
    "    p = np.pi / P_d\n",
    "    P_x = p\n",
    "    D_g = N_g / P_d\n",
    "\n",
    "if p is None and P_d is None:\n",
    "    p = P_x\n",
    "    P_d = np.pi / P_x\n",
    "    D_g = N_g / P_d\n",
    "\n",
    "if p is not None:\n",
    "    P_x = p\n",
    "    P_d = np.pi / p\n",
    "    D_g = N_g / P_d\n",
    "\n",
    "if D_g is not None:\n",
    "    P_d = N_g / D_g\n",
    "    p = np.pi / P_d\n",
    "    P_x = p\n",
    "\n",
    "\n",
    "assert(P_d is not None); assert(p is not None); assert(P_x is not None); assert(D_g is not None)\n",
    "P_d, p, P_x, D_g"
   ]
  },
  {
   "cell_type": "markdown",
   "metadata": {},
   "source": [
    "calc L, $\\lambda$"
   ]
  },
  {
   "cell_type": "code",
   "execution_count": 1155,
   "metadata": {},
   "outputs": [
    {
     "data": {
      "text/plain": [
       "0.3141592653589793"
      ]
     },
     "execution_count": 1155,
     "metadata": {},
     "output_type": "execute_result"
    }
   ],
   "source": [
    "L = N_w * P_x\n",
    "L"
   ]
  },
  {
   "cell_type": "code",
   "execution_count": 1156,
   "metadata": {},
   "outputs": [
    {
     "data": {
      "text/plain": [
       "4.573921259900861"
      ]
     },
     "execution_count": 1156,
     "metadata": {},
     "output_type": "execute_result"
    }
   ],
   "source": [
    "var_lambda = 180 / np.pi * np.arctan(L / (np.pi * D_w))\n",
    "var_lambda"
   ]
  },
  {
   "cell_type": "markdown",
   "metadata": {},
   "source": [
    "copmute normal circular pitch"
   ]
  },
  {
   "cell_type": "code",
   "execution_count": 1157,
   "metadata": {},
   "outputs": [
    {
     "data": {
      "text/plain": [
       "0.31315875560351536"
      ]
     },
     "execution_count": 1157,
     "metadata": {},
     "output_type": "execute_result"
    }
   ],
   "source": [
    "p_n = p * np.cos(var_lambda  * np.pi / 180)\n",
    "p_n"
   ]
  },
  {
   "cell_type": "markdown",
   "metadata": {},
   "source": [
    "Pitch line speed"
   ]
  },
  {
   "cell_type": "code",
   "execution_count": 1158,
   "metadata": {},
   "outputs": [
    {
     "data": {
      "text/plain": [
       "31.415926535897928"
      ]
     },
     "execution_count": 1158,
     "metadata": {},
     "output_type": "execute_result"
    }
   ],
   "source": [
    "##v_t\n",
    "\n",
    "v_tG = np.pi * D_g * n_g / 12\n",
    "v_tG"
   ]
  },
  {
   "cell_type": "markdown",
   "metadata": {},
   "source": [
    "Compute Velcoity ratio and gear ratio"
   ]
  },
  {
   "cell_type": "code",
   "execution_count": 1159,
   "metadata": {},
   "outputs": [
    {
     "data": {
      "text/plain": [
       "(40.0, 1200.0)"
      ]
     },
     "execution_count": 1159,
     "metadata": {},
     "output_type": "execute_result"
    }
   ],
   "source": [
    "\n",
    "if n_w is not None:\n",
    "    VR = n_w / n_g\n",
    "else: \n",
    "    VR = N_g / N_w\n",
    "    n_w = n_g * VR\n",
    "\n",
    "VR, n_w"
   ]
  },
  {
   "cell_type": "code",
   "execution_count": 1160,
   "metadata": {},
   "outputs": [
    {
     "data": {
      "text/plain": [
       "0.025"
      ]
     },
     "execution_count": 1160,
     "metadata": {},
     "output_type": "execute_result"
    }
   ],
   "source": [
    "m_g = 1 / VR\n",
    "m_g"
   ]
  },
  {
   "cell_type": "code",
   "execution_count": 1161,
   "metadata": {},
   "outputs": [],
   "source": [
    "assert(VR == N_g / N_w); assert(VR == n_w / n_g)"
   ]
  },
  {
   "cell_type": "markdown",
   "metadata": {},
   "source": [
    "sliding speed"
   ]
  },
  {
   "cell_type": "code",
   "execution_count": 1162,
   "metadata": {},
   "outputs": [
    {
     "data": {
      "text/plain": [
       "393.95371454922224"
      ]
     },
     "execution_count": 1162,
     "metadata": {},
     "output_type": "execute_result"
    }
   ],
   "source": [
    "v_s = v_tG / np.sin(var_lambda * np.pi / 180)\n",
    "v_s"
   ]
  },
  {
   "cell_type": "markdown",
   "metadata": {},
   "source": [
    "coefficient of friction"
   ]
  },
  {
   "cell_type": "code",
   "execution_count": 1163,
   "metadata": {},
   "outputs": [
    {
     "data": {
      "text/plain": [
       "0.03239664475113534"
      ]
     },
     "execution_count": 1163,
     "metadata": {},
     "output_type": "execute_result"
    }
   ],
   "source": [
    "mu = None\n",
    "if v_s == 0:\n",
    "    mu = 0.15\n",
    "elif v_s < 10:\n",
    "    mu = 0.124*np.exp(-0.074 * v_s **(0.645) )\n",
    "elif v_s >= 10:\n",
    "    mu = 0.103 * np.exp(-0.11 * v_s **(0.45) ) + 0.012\n",
    "\n",
    "assert(mu is not None)\n",
    "mu"
   ]
  },
  {
   "cell_type": "markdown",
   "metadata": {},
   "source": [
    "Compute forces"
   ]
  },
  {
   "cell_type": "code",
   "execution_count": 1164,
   "metadata": {},
   "outputs": [
    {
     "data": {
      "text/plain": [
       "462.0"
      ]
     },
     "execution_count": 1164,
     "metadata": {},
     "output_type": "execute_result"
    }
   ],
   "source": [
    "assert(T_o is not None)\n",
    "\n",
    "W_tG = 2 * T_o / D_g\n",
    "W_tG"
   ]
  },
  {
   "cell_type": "code",
   "execution_count": 1165,
   "metadata": {},
   "outputs": [
    {
     "data": {
      "text/plain": [
       "52.56038122802861"
      ]
     },
     "execution_count": 1165,
     "metadata": {},
     "output_type": "execute_result"
    }
   ],
   "source": [
    "W_xG = W_tG * ( np.cos(phi_n * np.pi / 180) * np.sin(var_lambda * np.pi / 180) + mu * np.cos(var_lambda * np.pi / 180) ) / ( np.cos(phi_n * np.pi / 180) * np.cos(var_lambda * np.pi / 180) - mu * np.sin(var_lambda * np.pi / 180) ) \n",
    "W_xG"
   ]
  },
  {
   "cell_type": "code",
   "execution_count": 1166,
   "metadata": {},
   "outputs": [
    {
     "data": {
      "text/plain": [
       "120.18478913811488"
      ]
     },
     "execution_count": 1166,
     "metadata": {},
     "output_type": "execute_result"
    }
   ],
   "source": [
    "W_rG = W_tG * np.sin(phi_n * np.pi / 180) / ( np.cos(var_lambda * np.pi / 180) *np.cos(phi_n * np.pi / 180) - mu * np.sin(var_lambda * np.pi / 180) )\n",
    "W_rG"
   ]
  },
  {
   "cell_type": "markdown",
   "metadata": {},
   "source": [
    "compute friction force"
   ]
  },
  {
   "cell_type": "code",
   "execution_count": 1167,
   "metadata": {},
   "outputs": [
    {
     "data": {
      "text/plain": [
       "15.550698359087072"
      ]
     },
     "execution_count": 1167,
     "metadata": {},
     "output_type": "execute_result"
    }
   ],
   "source": [
    "W_f = mu * W_tG / ( np.cos(var_lambda * np.pi / 180) *np.cos(phi_n * np.pi / 180) - mu * np.sin(var_lambda * np.pi / 180) )\n",
    "W_f"
   ]
  },
  {
   "cell_type": "markdown",
   "metadata": {},
   "source": [
    "Power loss due to friction"
   ]
  },
  {
   "cell_type": "code",
   "execution_count": 1168,
   "metadata": {},
   "outputs": [
    {
     "name": "stdout",
     "output_type": "stream",
     "text": [
      "P_L=0.18564410249687416 HP\n"
     ]
    }
   ],
   "source": [
    "P_L = v_s * W_f / 33000\n",
    "print(f\"{P_L=} HP\")"
   ]
  },
  {
   "cell_type": "markdown",
   "metadata": {},
   "source": [
    "compute output power"
   ]
  },
  {
   "cell_type": "code",
   "execution_count": 1169,
   "metadata": {},
   "outputs": [
    {
     "data": {
      "text/plain": [
       "0.44"
      ]
     },
     "execution_count": 1169,
     "metadata": {},
     "output_type": "execute_result"
    }
   ],
   "source": [
    "if power is None:\n",
    "    power = T_o * n_g / 63000\n",
    "power"
   ]
  },
  {
   "cell_type": "markdown",
   "metadata": {},
   "source": [
    "Compute the input power"
   ]
  },
  {
   "cell_type": "code",
   "execution_count": 1170,
   "metadata": {},
   "outputs": [
    {
     "data": {
      "text/plain": [
       "0.6256441024968742"
      ]
     },
     "execution_count": 1170,
     "metadata": {},
     "output_type": "execute_result"
    }
   ],
   "source": [
    "##Two different formulas for P_i\n",
    "P_i = None\n",
    "if(power is not None):\n",
    "    P_i = power + P_L\n",
    "else:\n",
    "    p_i = -1 * 10**4\n",
    "    assert(False)\n",
    "P_i"
   ]
  },
  {
   "cell_type": "markdown",
   "metadata": {},
   "source": [
    "Compute efficiency $\\eta$"
   ]
  },
  {
   "cell_type": "code",
   "execution_count": 1171,
   "metadata": {},
   "outputs": [
    {
     "data": {
      "text/plain": [
       "0.7032752298695221"
      ]
     },
     "execution_count": 1171,
     "metadata": {},
     "output_type": "execute_result"
    }
   ],
   "source": [
    "eta = power / P_i\n",
    "eta"
   ]
  },
  {
   "cell_type": "markdown",
   "metadata": {},
   "source": [
    "this equation was also from the bible, idk why it does what it does - dont think its right"
   ]
  },
  {
   "cell_type": "code",
   "execution_count": 1172,
   "metadata": {},
   "outputs": [
    {
     "data": {
      "text/plain": [
       "1.6763027279235652"
      ]
     },
     "execution_count": 1172,
     "metadata": {},
     "output_type": "execute_result"
    }
   ],
   "source": [
    "eta_2 = (np.cos(phi_n) - mu * np.tan(var_lambda)) / (np.cos(phi_n) + mu / np.tan(var_lambda))\n",
    "eta_2"
   ]
  },
  {
   "cell_type": "markdown",
   "metadata": {},
   "source": [
    "## Find correction Factors"
   ]
  },
  {
   "cell_type": "markdown",
   "metadata": {},
   "source": [
    "Find lewis form factor, $y$"
   ]
  },
  {
   "cell_type": "code",
   "execution_count": 1174,
   "metadata": {},
   "outputs": [
    {
     "data": {
      "text/plain": [
       "0.1"
      ]
     },
     "execution_count": 1174,
     "metadata": {},
     "output_type": "execute_result"
    }
   ],
   "source": [
    "\n",
    "# Create a dictionary from number to number\n",
    "lewis_form_dict = {14.5: 0.1, 20: 0.125, 25: 0.15, 30: 0.175}\n",
    "\n",
    "y = lewis_form_dict.get(phi_n)\n",
    "y\n",
    "\n"
   ]
  },
  {
   "cell_type": "markdown",
   "metadata": {},
   "source": [
    "Compute k_v ???"
   ]
  },
  {
   "cell_type": "code",
   "execution_count": 1175,
   "metadata": {},
   "outputs": [
    {
     "data": {
      "text/plain": [
       "0.9744879647413087"
      ]
     },
     "execution_count": 1175,
     "metadata": {},
     "output_type": "execute_result"
    }
   ],
   "source": [
    "k_v = 1200 / (1200 + v_tG)\n",
    "k_v"
   ]
  },
  {
   "cell_type": "markdown",
   "metadata": {},
   "source": [
    "compute dynamic load $W_d$"
   ]
  },
  {
   "cell_type": "code",
   "execution_count": 1176,
   "metadata": {},
   "outputs": [
    {
     "data": {
      "text/plain": [
       "474.0951317163207"
      ]
     },
     "execution_count": 1176,
     "metadata": {},
     "output_type": "execute_result"
    }
   ],
   "source": [
    "W_d = W_tG / k_v\n",
    "W_d"
   ]
  },
  {
   "cell_type": "markdown",
   "metadata": {},
   "source": [
    "Find stress in gear teeth"
   ]
  },
  {
   "cell_type": "code",
   "execution_count": 1177,
   "metadata": {},
   "outputs": [
    {
     "data": {
      "text/plain": [
       "24222.6090496573"
      ]
     },
     "execution_count": 1177,
     "metadata": {},
     "output_type": "execute_result"
    }
   ],
   "source": [
    "sigma = W_d / (y * F * p_n)\n",
    "sigma"
   ]
  },
  {
   "cell_type": "markdown",
   "metadata": {},
   "source": [
    "Find C_s FROM TABLE???"
   ]
  },
  {
   "cell_type": "code",
   "execution_count": 1178,
   "metadata": {},
   "outputs": [],
   "source": [
    "C_s = 1000# None\n",
    "if C_s is None:\n",
    "    Warning(\"C_s is None\")\n",
    "# assert(C_s is not None)"
   ]
  },
  {
   "cell_type": "markdown",
   "metadata": {},
   "source": [
    "FInd C_m"
   ]
  },
  {
   "cell_type": "code",
   "execution_count": 1179,
   "metadata": {},
   "outputs": [
    {
     "data": {
      "text/plain": [
       "0.8139036429455271"
      ]
     },
     "execution_count": 1179,
     "metadata": {},
     "output_type": "execute_result"
    }
   ],
   "source": [
    "C_m = None\n",
    "m_g = VR\n",
    "\n",
    "if 6 < m_g and m_g < 20:\n",
    "    C_m = 0.02 * np.sqrt(-1 * m_g**2 + 40*m_g - 76) + 0.46\n",
    "elif m_g >= 20 and m_g < 76:\n",
    "    C_m = 0.0107 * np.sqrt(-1 * m_g**2 + 56*m_g + 5146)\n",
    "elif m_g >= 76:\n",
    "    C_m = 1.1483 - 0.00658 * m_g\n",
    "\n",
    "assert(C_m is not None)\n",
    "C_m"
   ]
  },
  {
   "cell_type": "markdown",
   "metadata": {},
   "source": [
    "Find C_v"
   ]
  },
  {
   "cell_type": "code",
   "execution_count": 1180,
   "metadata": {},
   "outputs": [
    {
     "data": {
      "text/plain": [
       "0.42725219030387684"
      ]
     },
     "execution_count": 1180,
     "metadata": {},
     "output_type": "execute_result"
    }
   ],
   "source": [
    "C_v = None\n",
    "if 0 < v_s and v_s < 700:\n",
    "    C_v = 0.659 * np.exp(-0.0011 * v_s)\n",
    "elif v_s > 700  and v_s < 3000:\n",
    "    C_v = 13.31 * v_s ** (-0.571)\n",
    "elif v_s > 3000:\n",
    "    C_s = 65.52 * v_s ** (-0.774)\n",
    "\n",
    "assert(C_v is not None)\n",
    "C_v"
   ]
  },
  {
   "cell_type": "markdown",
   "metadata": {},
   "source": [
    "Find $F_e$\n",
    "\n",
    "this formula is possibly wrong"
   ]
  },
  {
   "cell_type": "code",
   "execution_count": 1181,
   "metadata": {},
   "outputs": [],
   "source": [
    "F_e = None\n",
    "\n",
    "if F < D_w / 3:\n",
    "    F_e = F\n",
    "elif F >= D_w / 3:\n",
    "    F_e = D_w / 3\n",
    "\n",
    "assert(F_e is not None)\n",
    "F_e = F"
   ]
  },
  {
   "cell_type": "markdown",
   "metadata": {},
   "source": [
    "##"
   ]
  },
  {
   "cell_type": "markdown",
   "metadata": {},
   "source": [
    "## Find rated tangential load"
   ]
  },
  {
   "cell_type": "code",
   "execution_count": 1182,
   "metadata": {},
   "outputs": [
    {
     "data": {
      "text/plain": [
       "658.848104103243"
      ]
     },
     "execution_count": 1182,
     "metadata": {},
     "output_type": "execute_result"
    }
   ],
   "source": [
    "W_tR = C_s * (D_g ** 0.8) * F_e * C_m * C_v\n",
    "W_tR"
   ]
  },
  {
   "cell_type": "markdown",
   "metadata": {},
   "source": [
    "Check if the design is satisfactory to resist pitting"
   ]
  },
  {
   "cell_type": "code",
   "execution_count": 1183,
   "metadata": {},
   "outputs": [],
   "source": [
    "assert(W_tR > W_tG)"
   ]
  },
  {
   "cell_type": "markdown",
   "metadata": {},
   "source": [
    "Need to find F and add pitting formulas"
   ]
  }
 ],
 "metadata": {
  "kernelspec": {
   "display_name": "Python 3",
   "language": "python",
   "name": "python3"
  },
  "language_info": {
   "codemirror_mode": {
    "name": "ipython",
    "version": 3
   },
   "file_extension": ".py",
   "mimetype": "text/x-python",
   "name": "python",
   "nbconvert_exporter": "python",
   "pygments_lexer": "ipython3",
   "version": "3.11.9"
  }
 },
 "nbformat": 4,
 "nbformat_minor": 2
}
