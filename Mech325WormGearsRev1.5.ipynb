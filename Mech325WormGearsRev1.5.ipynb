{
 "cells": [
  {
   "cell_type": "code",
   "execution_count": 96,
   "metadata": {},
   "outputs": [],
   "source": [
    "import numpy as np\n",
    "import matplotlib.pyplot as plt\n",
    "\n",
    "import sympy as sp\n",
    "\n",
    "from sympy import latex\n",
    "\n",
    "from IPython.display import display, Math"
   ]
  },
  {
   "cell_type": "code",
   "execution_count": 97,
   "metadata": {},
   "outputs": [],
   "source": [
    "def linear_interpolation(x0, y0, x1, y1, x):\n",
    "    \"\"\"\n",
    "    Perform linear interpolation to find the y value corresponding to x.\n",
    "\n",
    "    Parameters:\n",
    "    x0, y0: coordinates of the first point\n",
    "    x1, y1: coordinates of the second point\n",
    "    x: the x value to interpolate\n",
    "\n",
    "    Returns:\n",
    "    y: the interpolated y value\n",
    "    \"\"\"\n",
    "    y = y0 + (y1 - y0) * (x - x0) / (x1 - x0)\n",
    "    return y\n",
    "\n",
    "# Example usage:\n",
    "# x0, y0 = 0, 0\n",
    "# x1, y1 = 10, 10\n",
    "# x = 5\n",
    "# y = linear_interpolation(x0, y0, x1, y1, x)\n",
    "# print(f\"The interpolated value at x={x} is y={y}\")"
   ]
  },
  {
   "cell_type": "markdown",
   "metadata": {},
   "source": [
    "## Given Constants\n",
    "\n",
    "C_s incomplete & power is incomplete"
   ]
  },
  {
   "cell_type": "code",
   "execution_count": 98,
   "metadata": {},
   "outputs": [],
   "source": [
    "n_w = None\n",
    "n_g = 30\n",
    "\n",
    "N_g = 40 \n",
    "N_w = 1\n",
    "\n",
    "D_g = None\n",
    "D_w = 1.25\n",
    "\n",
    "P_d = 10\n",
    "p = None #circular pitch\n",
    "P_x = None #axial pitch\n",
    "\n",
    "power = None # Power in HP\n",
    "life_time = 15000 # in hours\n",
    "\n",
    "T_o = 100 #input Torque lb-in\n",
    "\n"
   ]
  },
  {
   "cell_type": "markdown",
   "metadata": {},
   "source": [
    "idk how to find Face width, so its going right here"
   ]
  },
  {
   "cell_type": "code",
   "execution_count": 99,
   "metadata": {},
   "outputs": [],
   "source": [
    "F = 0.625"
   ]
  },
  {
   "cell_type": "code",
   "execution_count": 100,
   "metadata": {},
   "outputs": [],
   "source": [
    "phi_n = 14.5\n",
    "phi_t = None"
   ]
  },
  {
   "cell_type": "markdown",
   "metadata": {},
   "source": [
    "## Calculate standard variables"
   ]
  },
  {
   "cell_type": "markdown",
   "metadata": {},
   "source": [
    "### Calculate pitches and gear diameter"
   ]
  },
  {
   "cell_type": "markdown",
   "metadata": {},
   "source": [
    "$$p = \\frac{\\pi}{P_d}=\\frac{\\pi{}D_G}{N_G}$$\n",
    "$$P_x=p$$"
   ]
  },
  {
   "cell_type": "code",
   "execution_count": 101,
   "metadata": {},
   "outputs": [
    {
     "data": {
      "text/latex": [
       "$\\displaystyle P_d = 10.00$"
      ],
      "text/plain": [
       "<IPython.core.display.Math object>"
      ]
     },
     "metadata": {},
     "output_type": "display_data"
    },
    {
     "data": {
      "text/latex": [
       "$\\displaystyle p = 0.31$"
      ],
      "text/plain": [
       "<IPython.core.display.Math object>"
      ]
     },
     "metadata": {},
     "output_type": "display_data"
    },
    {
     "data": {
      "text/latex": [
       "$\\displaystyle P_x = 0.31$"
      ],
      "text/plain": [
       "<IPython.core.display.Math object>"
      ]
     },
     "metadata": {},
     "output_type": "display_data"
    },
    {
     "data": {
      "text/latex": [
       "$\\displaystyle D_g = 4.00$"
      ],
      "text/plain": [
       "<IPython.core.display.Math object>"
      ]
     },
     "metadata": {},
     "output_type": "display_data"
    }
   ],
   "source": [
    "if p is None and P_d is not None:\n",
    "    p = np.pi / P_d\n",
    "    P_x = p\n",
    "    D_g = N_g / P_d\n",
    "\n",
    "if p is None and P_d is None:\n",
    "    p = P_x\n",
    "    P_d = np.pi / P_x\n",
    "    D_g = N_g / P_d\n",
    "\n",
    "if p is not None:\n",
    "    P_x = p\n",
    "    P_d = np.pi / p\n",
    "    D_g = N_g / P_d\n",
    "\n",
    "if D_g is not None:\n",
    "    P_d = N_g / D_g\n",
    "    p = np.pi / P_d\n",
    "    P_x = p\n",
    "\n",
    "\n",
    "assert(P_d is not None); assert(p is not None); assert(P_x is not None); assert(D_g is not None)\n",
    "P_d, p, P_x, D_g\n",
    "\n",
    "display(Math(f\"P_d = {P_d:.2f}\"))\n",
    "display(Math(f\"p = {p:.2f}\"))\n",
    "display(Math(f\"P_x = {P_x:.2f}\"))\n",
    "display(Math(f\"D_g = {D_g:.2f}\"))"
   ]
  },
  {
   "cell_type": "markdown",
   "metadata": {},
   "source": [
    "### calc L, $\\lambda$"
   ]
  },
  {
   "cell_type": "markdown",
   "metadata": {},
   "source": [
    "$$L = N_WP_x$$"
   ]
  },
  {
   "cell_type": "code",
   "execution_count": 102,
   "metadata": {},
   "outputs": [
    {
     "data": {
      "text/plain": [
       "0.3141592653589793"
      ]
     },
     "execution_count": 102,
     "metadata": {},
     "output_type": "execute_result"
    }
   ],
   "source": [
    "L = N_w * P_x\n",
    "L"
   ]
  },
  {
   "cell_type": "markdown",
   "metadata": {},
   "source": [
    "### Compute the lead angle\n",
    "$$\\lambda = \\frac{180^\\circ{}}{\\pi}\\cdot{}\\arctan{\\Big(\\frac{L}{\\pi{}D_W}\\Big)}$$"
   ]
  },
  {
   "cell_type": "code",
   "execution_count": 103,
   "metadata": {},
   "outputs": [
    {
     "data": {
      "text/latex": [
       "$\\displaystyle \\lambda = 4.57^\\circ$"
      ],
      "text/plain": [
       "<IPython.core.display.Math object>"
      ]
     },
     "metadata": {},
     "output_type": "display_data"
    }
   ],
   "source": [
    "var_lambda = 180 / np.pi * np.arctan(L / (np.pi * D_w))\n",
    "var_lambda\n",
    "display(Math(r\"\\lambda = {:.2f}^\\circ\".format(var_lambda)))"
   ]
  },
  {
   "cell_type": "markdown",
   "metadata": {},
   "source": [
    "### copmute normal circular pitch\n",
    "$$p\\cdot{}\\cos{\\Big(\\lambda\\cdot{}\\frac{\\pi}{180}\\Big)}$$"
   ]
  },
  {
   "cell_type": "code",
   "execution_count": 104,
   "metadata": {},
   "outputs": [
    {
     "data": {
      "text/latex": [
       "$\\displaystyle p_n = 0.31 \\, \\text{rads}$"
      ],
      "text/plain": [
       "<IPython.core.display.Math object>"
      ]
     },
     "metadata": {},
     "output_type": "display_data"
    }
   ],
   "source": [
    "p_n = p * np.cos(var_lambda  * np.pi / 180)\n",
    "p_n\n",
    "display(Math(r\"p_n = {:.2f} \\, \\text{{rads}}\".format(p_n)))"
   ]
  },
  {
   "cell_type": "markdown",
   "metadata": {},
   "source": [
    "### Pitch line speed - UNITS!!!\n",
    "\n",
    "\n",
    "$$v_{tG} = \\frac{\\pi{}D_Gn_G}{12}$$"
   ]
  },
  {
   "cell_type": "code",
   "execution_count": 105,
   "metadata": {},
   "outputs": [
    {
     "data": {
      "text/latex": [
       "$\\displaystyle v_{tG} = 31.4159265358979 \\text{ ft/min}$"
      ],
      "text/plain": [
       "<IPython.core.display.Math object>"
      ]
     },
     "metadata": {},
     "output_type": "display_data"
    }
   ],
   "source": [
    "##v_t\n",
    "\n",
    "v_tG = np.pi * D_g * n_g / 12\n",
    "v_tG\n",
    "display(Math(latex(sp.Eq(sp.Symbol('v_tG'), v_tG)) + r\" \\text{ ft/min}\"))"
   ]
  },
  {
   "cell_type": "markdown",
   "metadata": {},
   "source": [
    "### Compute Velcoity ratio and gear ratio"
   ]
  },
  {
   "cell_type": "markdown",
   "metadata": {},
   "source": [
    "$$\\text{VR}=\\frac{n_W}{n_g}=\\frac{N_g}{N_W}$$"
   ]
  },
  {
   "cell_type": "code",
   "execution_count": 106,
   "metadata": {},
   "outputs": [
    {
     "data": {
      "text/plain": [
       "(40.0, 1200.0)"
      ]
     },
     "execution_count": 106,
     "metadata": {},
     "output_type": "execute_result"
    }
   ],
   "source": [
    "\n",
    "if n_w is not None:\n",
    "    VR = n_w / n_g\n",
    "else: \n",
    "    VR = N_g / N_w\n",
    "    n_w = n_g * VR\n",
    "\n",
    "VR, n_w"
   ]
  },
  {
   "cell_type": "code",
   "execution_count": 130,
   "metadata": {},
   "outputs": [],
   "source": [
    "m_g = VR"
   ]
  },
  {
   "cell_type": "code",
   "execution_count": 108,
   "metadata": {},
   "outputs": [],
   "source": [
    "assert(VR == N_g / N_w); assert(VR == n_w / n_g)"
   ]
  },
  {
   "cell_type": "markdown",
   "metadata": {},
   "source": [
    "### sliding speed\n",
    "$$v_s = \\frac{v_{tG}}{\\sin{\\lambda}}$$"
   ]
  },
  {
   "cell_type": "code",
   "execution_count": 131,
   "metadata": {},
   "outputs": [
    {
     "data": {
      "text/latex": [
       "$\\displaystyle v_{s} = 393.953714549222 \\text{ ft/min}$"
      ],
      "text/plain": [
       "<IPython.core.display.Math object>"
      ]
     },
     "metadata": {},
     "output_type": "display_data"
    }
   ],
   "source": [
    "v_s = v_tG / np.sin(var_lambda * np.pi / 180)\n",
    "display(Math(latex(sp.Eq(sp.Symbol('v_s'), v_s)) + r\" \\text{ ft/min}\"))"
   ]
  },
  {
   "cell_type": "markdown",
   "metadata": {},
   "source": [
    "### coefficient of friction"
   ]
  },
  {
   "cell_type": "code",
   "execution_count": 136,
   "metadata": {},
   "outputs": [
    {
     "data": {
      "text/latex": [
       "$\\displaystyle \\mu = 0.0323966447511353 \\text{}$"
      ],
      "text/plain": [
       "<IPython.core.display.Math object>"
      ]
     },
     "metadata": {},
     "output_type": "display_data"
    }
   ],
   "source": [
    "mu = None\n",
    "if v_s == 0:\n",
    "    mu = 0.15\n",
    "elif v_s < 10:\n",
    "    mu = 0.124*np.exp(-0.074 * v_s **(0.645) )\n",
    "elif v_s >= 10:\n",
    "    mu = 0.103 * np.exp(-0.11 * v_s **(0.45) ) + 0.012\n",
    "\n",
    "assert(mu is not None)\n",
    "display(Math(latex(sp.Eq(sp.Symbol('mu'), mu)) + r\" \\text{}\"))"
   ]
  },
  {
   "cell_type": "markdown",
   "metadata": {},
   "source": [
    "## Compute forces\n",
    "\n",
    "$$W_{tG} = \\frac{T_o}{D_g}$$"
   ]
  },
  {
   "cell_type": "code",
   "execution_count": 138,
   "metadata": {},
   "outputs": [
    {
     "data": {
      "text/latex": [
       "$\\displaystyle W_{tG} = 50.0 \\text{ lbf}$"
      ],
      "text/plain": [
       "<IPython.core.display.Math object>"
      ]
     },
     "metadata": {},
     "output_type": "display_data"
    }
   ],
   "source": [
    "assert(T_o is not None)\n",
    "\n",
    "W_tG = 2 * T_o / D_g\n",
    "display(Math(latex(sp.Eq(sp.Symbol('W_tG'),W_tG)) + r\" \\text{ lbf}\"))"
   ]
  },
  {
   "cell_type": "markdown",
   "metadata": {},
   "source": [
    "$$W_{xG}=\\text{just look in the bible}$$"
   ]
  },
  {
   "cell_type": "code",
   "execution_count": 139,
   "metadata": {},
   "outputs": [
    {
     "data": {
      "text/latex": [
       "$\\displaystyle W_{xG} = 5.68835294675634 \\text{ lbf}$"
      ],
      "text/plain": [
       "<IPython.core.display.Math object>"
      ]
     },
     "metadata": {},
     "output_type": "display_data"
    }
   ],
   "source": [
    "W_xG = W_tG * ( np.cos(phi_n * np.pi / 180) * np.sin(var_lambda * np.pi / 180) + mu * np.cos(var_lambda * np.pi / 180) ) / ( np.cos(phi_n * np.pi / 180) * np.cos(var_lambda * np.pi / 180) - mu * np.sin(var_lambda * np.pi / 180) ) \n",
    "display(Math(latex(sp.Eq(sp.Symbol('W_xG'),W_xG)) + r\" \\text{ lbf}\"))"
   ]
  },
  {
   "cell_type": "markdown",
   "metadata": {},
   "source": [
    "$$W_{xG}=\\text{just look in the bible}$$"
   ]
  },
  {
   "cell_type": "code",
   "execution_count": 140,
   "metadata": {},
   "outputs": [
    {
     "data": {
      "text/latex": [
       "$\\displaystyle W_{rG} = 13.0070118114843 \\text{ lbf}$"
      ],
      "text/plain": [
       "<IPython.core.display.Math object>"
      ]
     },
     "metadata": {},
     "output_type": "display_data"
    }
   ],
   "source": [
    "W_rG = W_tG * np.sin(phi_n * np.pi / 180) / ( np.cos(var_lambda * np.pi / 180) *np.cos(phi_n * np.pi / 180) - mu * np.sin(var_lambda * np.pi / 180) )\n",
    "display(Math(latex(sp.Eq(sp.Symbol('W_rG'),W_rG)) + r\" \\text{ lbf}\"))"
   ]
  },
  {
   "cell_type": "markdown",
   "metadata": {},
   "source": [
    "compute friction force"
   ]
  },
  {
   "cell_type": "code",
   "execution_count": 141,
   "metadata": {},
   "outputs": [
    {
     "data": {
      "text/latex": [
       "$\\displaystyle W_{f} = 1.68297601288821 \\text{ lbf}$"
      ],
      "text/plain": [
       "<IPython.core.display.Math object>"
      ]
     },
     "metadata": {},
     "output_type": "display_data"
    }
   ],
   "source": [
    "W_f = mu * W_tG / ( np.cos(var_lambda * np.pi / 180) *np.cos(phi_n * np.pi / 180) - mu * np.sin(var_lambda * np.pi / 180) )\n",
    "display(Math(latex(sp.Eq(sp.Symbol('W_f'),W_f)) + r\" \\text{ lbf}\"))"
   ]
  },
  {
   "cell_type": "markdown",
   "metadata": {},
   "source": [
    "## Compute Power this is kinda sketchy"
   ]
  },
  {
   "cell_type": "markdown",
   "metadata": {},
   "source": [
    "Power loss due to friction\n",
    "\n",
    "$$P_L=\\frac{v_sW_f}{33000}$$"
   ]
  },
  {
   "cell_type": "code",
   "execution_count": 115,
   "metadata": {},
   "outputs": [
    {
     "name": "stdout",
     "output_type": "stream",
     "text": [
      "P_L=0.020091353084077286 HP\n"
     ]
    }
   ],
   "source": [
    "P_L = v_s * W_f / 33000\n",
    "print(f\"{P_L=} HP\")"
   ]
  },
  {
   "cell_type": "markdown",
   "metadata": {},
   "source": [
    "compute output power\n",
    "\n"
   ]
  },
  {
   "cell_type": "code",
   "execution_count": 116,
   "metadata": {},
   "outputs": [
    {
     "data": {
      "text/plain": [
       "0.047619047619047616"
      ]
     },
     "execution_count": 116,
     "metadata": {},
     "output_type": "execute_result"
    }
   ],
   "source": [
    "if power is None:\n",
    "    power = T_o * n_g / 63000\n",
    "power"
   ]
  },
  {
   "cell_type": "markdown",
   "metadata": {},
   "source": [
    "Compute the input power"
   ]
  },
  {
   "cell_type": "code",
   "execution_count": 117,
   "metadata": {},
   "outputs": [
    {
     "data": {
      "text/plain": [
       "0.0677104007031249"
      ]
     },
     "execution_count": 117,
     "metadata": {},
     "output_type": "execute_result"
    }
   ],
   "source": [
    "##Two different formulas for P_i\n",
    "P_i = None\n",
    "if(power is not None):\n",
    "    P_i = power + P_L\n",
    "else:\n",
    "    p_i = -1 * 10**4\n",
    "    assert(False)\n",
    "P_i"
   ]
  },
  {
   "cell_type": "markdown",
   "metadata": {},
   "source": [
    "Compute efficiency $\\eta$"
   ]
  },
  {
   "cell_type": "code",
   "execution_count": 142,
   "metadata": {},
   "outputs": [
    {
     "data": {
      "text/latex": [
       "$\\displaystyle \\eta = 0.703275229869522$"
      ],
      "text/plain": [
       "<IPython.core.display.Math object>"
      ]
     },
     "metadata": {},
     "output_type": "display_data"
    }
   ],
   "source": [
    "eta = power / P_i\n",
    "display(Math(latex(sp.Eq(sp.Symbol('eta'),eta))))"
   ]
  },
  {
   "cell_type": "markdown",
   "metadata": {},
   "source": [
    "## Find correction Factors"
   ]
  },
  {
   "cell_type": "markdown",
   "metadata": {},
   "source": [
    "Find lewis form factor, $y$"
   ]
  },
  {
   "cell_type": "markdown",
   "metadata": {},
   "source": [
    "![Rack and Pinion Image](rack_pinion_images/Table10-5.png)\n"
   ]
  },
  {
   "cell_type": "code",
   "execution_count": 145,
   "metadata": {},
   "outputs": [
    {
     "name": "stdout",
     "output_type": "stream",
     "text": [
      "y=0.1\n"
     ]
    }
   ],
   "source": [
    "\n",
    "# Create a dictionary from number to number\n",
    "lewis_form_dict = {14.5: 0.1, 20: 0.125, 25: 0.15, 30: 0.175}\n",
    "\n",
    "y = lewis_form_dict.get(phi_n)\n",
    "print(f\"{y=}\")\n",
    "\n"
   ]
  },
  {
   "cell_type": "markdown",
   "metadata": {},
   "source": [
    "Compute k_v\n",
    "\n",
    "$$K_v = \\frac{1200}{1200+v_{tG}}$$"
   ]
  },
  {
   "cell_type": "code",
   "execution_count": 146,
   "metadata": {},
   "outputs": [
    {
     "data": {
      "text/latex": [
       "$\\displaystyle k_{v} = 0.974487964741309$"
      ],
      "text/plain": [
       "<IPython.core.display.Math object>"
      ]
     },
     "metadata": {},
     "output_type": "display_data"
    }
   ],
   "source": [
    "k_v = 1200 / (1200 + v_tG)\n",
    "display(Math(latex(sp.Eq(sp.Symbol('k_v'),k_v))))"
   ]
  },
  {
   "cell_type": "markdown",
   "metadata": {},
   "source": [
    "compute dynamic load $W_d$"
   ]
  },
  {
   "cell_type": "code",
   "execution_count": 147,
   "metadata": {},
   "outputs": [
    {
     "data": {
      "text/latex": [
       "$\\displaystyle W_{d} = 51.3089969389957 \\text{ lbf}$"
      ],
      "text/plain": [
       "<IPython.core.display.Math object>"
      ]
     },
     "metadata": {},
     "output_type": "display_data"
    }
   ],
   "source": [
    "W_d = W_tG / k_v\n",
    "display(Math(latex(sp.Eq(sp.Symbol('W_d'),W_d)) + r\" \\text{ lbf}\"))"
   ]
  },
  {
   "cell_type": "markdown",
   "metadata": {},
   "source": [
    "Find stress in gear teeth"
   ]
  },
  {
   "cell_type": "code",
   "execution_count": 148,
   "metadata": {},
   "outputs": [
    {
     "data": {
      "text/latex": [
       "$\\displaystyle \\sigma = 2621.49448589365 \\text{ psi}$"
      ],
      "text/plain": [
       "<IPython.core.display.Math object>"
      ]
     },
     "metadata": {},
     "output_type": "display_data"
    }
   ],
   "source": [
    "sigma = W_d / (y * F * p_n)\n",
    "display(Math(latex(sp.Eq(sp.Symbol('sigma'),sigma)) + r\" \\text{ psi}\"))"
   ]
  },
  {
   "cell_type": "markdown",
   "metadata": {},
   "source": [
    "### All the following have annoyinh equations / graphs in the bible"
   ]
  },
  {
   "cell_type": "markdown",
   "metadata": {},
   "source": [
    "Find C_s FROM TABLE"
   ]
  },
  {
   "cell_type": "code",
   "execution_count": 124,
   "metadata": {},
   "outputs": [],
   "source": [
    "C_s = 1000# None\n",
    "if C_s is None:\n",
    "    Warning(\"C_s is None\")\n",
    "# assert(C_s is not None)"
   ]
  },
  {
   "cell_type": "markdown",
   "metadata": {},
   "source": [
    "FInd C_m"
   ]
  },
  {
   "cell_type": "code",
   "execution_count": 125,
   "metadata": {},
   "outputs": [
    {
     "data": {
      "text/plain": [
       "0.8139036429455271"
      ]
     },
     "execution_count": 125,
     "metadata": {},
     "output_type": "execute_result"
    }
   ],
   "source": [
    "C_m = None\n",
    "m_g = VR\n",
    "\n",
    "if 6 < m_g and m_g < 20:\n",
    "    C_m = 0.02 * np.sqrt(-1 * m_g**2 + 40*m_g - 76) + 0.46\n",
    "elif m_g >= 20 and m_g < 76:\n",
    "    C_m = 0.0107 * np.sqrt(-1 * m_g**2 + 56*m_g + 5146)\n",
    "elif m_g >= 76:\n",
    "    C_m = 1.1483 - 0.00658 * m_g\n",
    "\n",
    "assert(C_m is not None)\n",
    "C_m"
   ]
  },
  {
   "cell_type": "markdown",
   "metadata": {},
   "source": [
    "Find C_v"
   ]
  },
  {
   "cell_type": "code",
   "execution_count": 126,
   "metadata": {},
   "outputs": [
    {
     "data": {
      "text/plain": [
       "0.42725219030387684"
      ]
     },
     "execution_count": 126,
     "metadata": {},
     "output_type": "execute_result"
    }
   ],
   "source": [
    "C_v = None\n",
    "if 0 < v_s and v_s < 700:\n",
    "    C_v = 0.659 * np.exp(-0.0011 * v_s)\n",
    "elif v_s > 700  and v_s < 3000:\n",
    "    C_v = 13.31 * v_s ** (-0.571)\n",
    "elif v_s > 3000:\n",
    "    C_s = 65.52 * v_s ** (-0.774)\n",
    "\n",
    "assert(C_v is not None)\n",
    "C_v"
   ]
  },
  {
   "cell_type": "markdown",
   "metadata": {},
   "source": [
    "Find $F_e$\n",
    "\n",
    "this formula is possibly wrong"
   ]
  },
  {
   "cell_type": "code",
   "execution_count": 127,
   "metadata": {},
   "outputs": [],
   "source": [
    "F_e = None\n",
    "\n",
    "assert(False) # this formula is wrong\n",
    "\n",
    "if F < D_w / 3:\n",
    "    F_e = F\n",
    "elif F >= D_w / 3:\n",
    "    F_e = D_w / 3\n",
    "\n",
    "assert(F_e is not None)\n",
    "F_e = F"
   ]
  },
  {
   "cell_type": "markdown",
   "metadata": {},
   "source": [
    "##"
   ]
  },
  {
   "cell_type": "markdown",
   "metadata": {},
   "source": [
    "## Find rated tangential load\n",
    "\n",
    "$$W_{tR}=C_sD_G^{0.8}F_eC_mC_v$$"
   ]
  },
  {
   "cell_type": "code",
   "execution_count": 128,
   "metadata": {},
   "outputs": [
    {
     "data": {
      "text/plain": [
       "658.848104103243"
      ]
     },
     "execution_count": 128,
     "metadata": {},
     "output_type": "execute_result"
    }
   ],
   "source": [
    "W_tR = C_s * (D_g ** 0.8) * F_e * C_m * C_v\n",
    "W_tR"
   ]
  },
  {
   "cell_type": "markdown",
   "metadata": {},
   "source": [
    "Check if the design is satisfactory to resist pitting:\n",
    "\n",
    "$$W_{tR}>W_{tG}$$"
   ]
  },
  {
   "cell_type": "code",
   "execution_count": 129,
   "metadata": {},
   "outputs": [],
   "source": [
    "assert(W_tR > W_tG)"
   ]
  },
  {
   "cell_type": "markdown",
   "metadata": {},
   "source": [
    "Need to find F and add pitting formulas"
   ]
  }
 ],
 "metadata": {
  "kernelspec": {
   "display_name": "Python 3",
   "language": "python",
   "name": "python3"
  },
  "language_info": {
   "codemirror_mode": {
    "name": "ipython",
    "version": 3
   },
   "file_extension": ".py",
   "mimetype": "text/x-python",
   "name": "python",
   "nbconvert_exporter": "python",
   "pygments_lexer": "ipython3",
   "version": "3.11.9"
  }
 },
 "nbformat": 4,
 "nbformat_minor": 2
}
