{
 "cells": [
  {
   "cell_type": "code",
   "execution_count": 1,
   "metadata": {},
   "outputs": [],
   "source": [
    "import numpy as np\n",
    "import matplotlib.pyplot as plt\n",
    "\n",
    "import math\n",
    "\n",
    "import sympy as sp"
   ]
  },
  {
   "cell_type": "markdown",
   "metadata": {},
   "source": [
    "## Things which are given / can be calculated "
   ]
  },
  {
   "cell_type": "code",
   "execution_count": 2,
   "metadata": {},
   "outputs": [
    {
     "data": {
      "text/plain": [
       "({P_d: 12,\n",
       "  D_p: nan,\n",
       "  D_g: nan,\n",
       "  N_p: 19,\n",
       "  N_g: nan,\n",
       "  N_g_guess: nan,\n",
       "  n_p: 1200,\n",
       "  n_g: nan,\n",
       "  n_g_guess: 387,\n",
       "  VR: nan,\n",
       "  VR_guess: nan,\n",
       "  v_t: nan},\n",
       " 12)"
      ]
     },
     "execution_count": 2,
     "metadata": {},
     "output_type": "execute_result"
    }
   ],
   "source": [
    "P_d_sp = sp.symbols('P_d')\n",
    "D_p_sp, D_g_sp = sp.symbols('D_p D_g')\n",
    "N_p_sp, N_g_sp, N_g_guess_sp = sp.symbols('N_p N_g, N_g_guess') \n",
    "C_sp, F_sp = sp.symbols('C F')\n",
    "n_p_sp, n_g_sp, n_g_guess_sp = sp.symbols('n_p n_g n_g_guess')\n",
    "VR_sp, VR_guess_sp, v_t_sp = sp.symbols('VR VR_guess v_t')\n",
    "power_sp, lifetime_sp = sp.symbols('power lifetime')\n",
    "W_t_sp = sp.symbols('W_t')\n",
    "\n",
    "\n",
    "#enter given values\n",
    "\n",
    "uk = sp.nan\n",
    "all_values = {\n",
    "    P_d_sp: 12,\n",
    "    D_p_sp: sp.nan,\n",
    "    D_g_sp: uk,\n",
    "    \n",
    "    N_p_sp: 19,\n",
    "    N_g_sp: uk,\n",
    "    N_g_guess_sp: uk,\n",
    "    n_p_sp: 1200,\n",
    "    n_g_sp: uk,\n",
    "    n_g_guess_sp: 387,\n",
    "    VR_sp: sp.nan,\n",
    "    VR_guess_sp: sp.nan,\n",
    "    v_t_sp: sp.nan, \n",
    "}\n",
    "\n",
    "power = 5,\n",
    "lifetime = 15000,\n",
    "\n",
    "\n",
    "all_values, len(all_values)\n"
   ]
  },
  {
   "cell_type": "markdown",
   "metadata": {},
   "source": [
    "## Things to find from a table\n",
    "\n",
    "some, like Y,Z can only be found later, tbd how to handle this"
   ]
  },
  {
   "cell_type": "code",
   "execution_count": 3,
   "metadata": {},
   "outputs": [],
   "source": [
    "J_p = 0.34\n",
    "J_G = 0.41\n",
    "\n",
    "I = 0.1\n",
    "\n",
    "C_p = 2300 #for steel\n",
    "\n",
    "k_o = 1.5\n",
    "k_s = 1.0\n",
    "\n",
    "k_B = 1.0\n",
    "k_v = 1.25\n",
    "k_R = 1.0\n",
    "\n",
    "\n",
    "#Need cycles to find, but these are not calculated until later\n",
    "#im not sure the best way to handle this\n",
    "Y_np = 0.95\n",
    "Y_ng = 1.0\n",
    "\n",
    "Z_np = 0.898\n",
    "Z_ng = 0.922\n",
    "\n",
    "\n",
    "#for C_ma\n",
    "cond = \"commercial Enclosed\".upper()\n",
    "# cond = \"precision\".upper()\n",
    "# cond = \"extra\".upper()\n",
    "\n",
    "safety_factor = 1\n"
   ]
  },
  {
   "cell_type": "markdown",
   "metadata": {},
   "source": [
    "## Create the equations"
   ]
  },
  {
   "cell_type": "code",
   "execution_count": 4,
   "metadata": {},
   "outputs": [],
   "source": [
    "\n",
    "eq1 = sp.Eq(VR_guess_sp, n_p_sp / n_g_guess_sp)\n",
    "eq2 = sp.Eq(N_g_guess_sp, N_p_sp * VR_guess_sp)\n",
    "\n",
    "eq3 = sp.Eq(VR_sp, N_g_sp / N_p_sp)\n",
    "\n",
    "eq4 = sp.Eq(n_g_sp, n_p_sp / VR_sp)\n",
    "eq5 = sp.Eq(D_p_sp, N_p_sp / P_d_sp)\n",
    "eq6 = sp.Eq(D_g_sp, N_g_sp / P_d_sp)\n",
    "\n",
    "eq7 = sp.Eq(v_t_sp, np.pi * D_p_sp * n_p_sp / 12)\n",
    "eq8 = sp.Eq(VR_sp, n_p_sp / n_g_sp)\n"
   ]
  },
  {
   "cell_type": "markdown",
   "metadata": {},
   "source": [
    "## Solve the equations "
   ]
  },
  {
   "cell_type": "code",
   "execution_count": 5,
   "metadata": {},
   "outputs": [],
   "source": [
    "#creates a thing of all the non-nan values\n",
    "known_values = {}\n",
    "\n",
    "for var, value in all_values.items():\n",
    "    if value is not sp.nan:\n",
    "        known_values[var] = value\n"
   ]
  },
  {
   "cell_type": "markdown",
   "metadata": {},
   "source": [
    "Solve the equations for VR_guess, n_g_guess, N_p, n_g"
   ]
  },
  {
   "cell_type": "code",
   "execution_count": 6,
   "metadata": {},
   "outputs": [
    {
     "data": {
      "text/plain": [
       "{P_d: 12,\n",
       " N_p: 19,\n",
       " n_p: 1200,\n",
       " n_g_guess: 387,\n",
       " N_g_guess: 7600/129,\n",
       " VR_guess: 400/129}"
      ]
     },
     "execution_count": 6,
     "metadata": {},
     "output_type": "execute_result"
    }
   ],
   "source": [
    "# Solve equations eq1 and eq2\n",
    "solutions_eq1_eq2 = sp.solve([eq1, eq2], dict=True)\n",
    "\n",
    "# Display the solutions\n",
    "# for solution in solutions_eq1_eq2:\n",
    "#     for var, expr in solution.items():\n",
    "#         print(f\"{var} = {expr}\")\n",
    "\n",
    "\n",
    "for solution in solutions_eq1_eq2:\n",
    "        for var, expr in solution.items():\n",
    "            if var not in known_values or known_values[var] is sp.nan:\n",
    "                known_values[var] = expr.subs(known_values)\n",
    "\n",
    "known_values"
   ]
  },
  {
   "cell_type": "code",
   "execution_count": 7,
   "metadata": {},
   "outputs": [
    {
     "data": {
      "text/plain": [
       "{P_d: 12,\n",
       " N_p: 19,\n",
       " n_p: 1200,\n",
       " n_g_guess: 387,\n",
       " N_g_guess: 7600/129,\n",
       " VR_guess: 400/129,\n",
       " N_g: 59.0000000000000,\n",
       " VR: 3.10526315789474}"
      ]
     },
     "execution_count": 7,
     "metadata": {},
     "output_type": "execute_result"
    }
   ],
   "source": [
    "\n",
    "if known_values[N_g_guess_sp] == sp.nan:  \n",
    "    a = sp.nan\n",
    "else:\n",
    "    known_values[N_g_sp] = round(known_values[N_g_guess_sp], 0)\n",
    "# known_values[N_g_sp]\n",
    "\n",
    "# Solve equation eq3 with the updated known values\n",
    "\n",
    "if all_values[n_g_guess_sp] == sp.nan:\n",
    "    pass\n",
    "\n",
    "else:\n",
    "\n",
    "    solution_eq3 = sp.solve(eq3.subs(known_values), dict=True)\n",
    "\n",
    "    # Update known values with the solution of eq3\n",
    "    for sol in solution_eq3:\n",
    "        for var, expr in sol.items():\n",
    "            if var not in known_values or known_values[var] is sp.nan:\n",
    "                known_values[var] = expr.subs(known_values)\n",
    "\n",
    "known_values\n",
    "\n",
    "\n"
   ]
  },
  {
   "cell_type": "markdown",
   "metadata": {},
   "source": [
    "#### Solve the equations multiple times bc some of them depend on others"
   ]
  },
  {
   "cell_type": "code",
   "execution_count": 11,
   "metadata": {},
   "outputs": [
    {
     "name": "stdout",
     "output_type": "stream",
     "text": [
      "1\n",
      "Run interation: 1\n",
      "0\n",
      "P_d = 12\n",
      "N_p = 19\n",
      "n_p = 1200\n",
      "n_g_guess = 387\n",
      "N_g_guess = 7600/129\n",
      "VR_guess = 400/129\n",
      "N_g = 59.0000000000000\n",
      "VR = 3.10526315789474\n",
      "D_g = 4.91666666666667\n",
      "D_p = 1.58333333333333\n",
      "n_g = 386.440677966102\n",
      "v_t = 497.418836818383\n"
     ]
    }
   ],
   "source": [
    "# Iteratively solve equations until all variables are found\n",
    "\n",
    "run_count = 0\n",
    "while True:\n",
    "\n",
    "    previous_known_values = known_values.copy()\n",
    "    \n",
    "    # Solve equations with current known values\n",
    "    solutions = sp.solve([eq4, eq5.subs(known_values), eq6.subs(known_values), eq7.subs(known_values), eq8.subs(known_values)], dict=True)\n",
    "\n",
    "    # Update known values with solutions\n",
    "    print(len(solutions))\n",
    "    for solution in solutions:\n",
    "\n",
    "        for var, expr in solution.items():\n",
    "\n",
    "            if var not in known_values or known_values[var] is sp.nan:\n",
    "                known_values[var] = expr.subs(known_values)    \n",
    "\n",
    "    # Break if no new values are found\n",
    "    if known_values == previous_known_values:\n",
    "        break\n",
    "    else:\n",
    "        run_count += 1\n",
    "        print(f\"Run interation: {run_count}\")\n",
    "\n",
    "    if run_count > 5:\n",
    "        break\n",
    "\n",
    "# Display updated solutions\n",
    "for var, value in known_values.items():\n",
    "    print(f\"{var} = {value}\")\n"
   ]
  },
  {
   "cell_type": "markdown",
   "metadata": {},
   "source": [
    "### Lists each variable and its equation "
   ]
  },
  {
   "cell_type": "markdown",
   "metadata": {},
   "source": [
    "#### Assign each variable a value, eventually these should all be numbers"
   ]
  },
  {
   "cell_type": "code",
   "execution_count": 9,
   "metadata": {},
   "outputs": [
    {
     "data": {
      "text/plain": [
       "{P_d: 12,\n",
       " D_p: nan,\n",
       " D_g: nan,\n",
       " N_p: 19,\n",
       " N_g: 59.0000000000000,\n",
       " N_g_guess: 7600/129,\n",
       " n_p: 1200,\n",
       " n_g: nan,\n",
       " n_g_guess: 387,\n",
       " VR: 3.10526315789474,\n",
       " VR_guess: 400/129,\n",
       " v_t: nan}"
      ]
     },
     "execution_count": 9,
     "metadata": {},
     "output_type": "execute_result"
    }
   ],
   "source": [
    "# assert(len(known_values) == len(all_values))\n",
    "len(known_values), len(all_values)\n",
    "# known_values\n",
    "\n",
    "for var, value in known_values.items():\n",
    "    all_values[var] = value\n",
    "\n",
    "\n",
    "P_d = all_values[P_d_sp]\n",
    "D_p = all_values[D_p_sp]\n",
    "D_g = all_values[D_g_sp]\n",
    "N_p = all_values[N_p_sp]\n",
    "N_g = all_values[N_g_sp]\n",
    "n_p = all_values[n_p_sp]\n",
    "n_g = all_values[n_g_sp]\n",
    "n_g_guess = all_values[n_g_guess_sp]\n",
    "VR = all_values[VR_sp]\n",
    "VR_guess = all_values[VR_guess_sp]\n",
    "v_t = all_values[v_t_sp]\n",
    "\n",
    "all_values\n",
    "\n"
   ]
  },
  {
   "cell_type": "markdown",
   "metadata": {},
   "source": [
    "### Final assorted Calculations"
   ]
  },
  {
   "cell_type": "code",
   "execution_count": 10,
   "metadata": {},
   "outputs": [
    {
     "ename": "NameError",
     "evalue": "name 'F' is not defined",
     "output_type": "error",
     "traceback": [
      "\u001b[1;31m---------------------------------------------------------------------------\u001b[0m",
      "\u001b[1;31mNameError\u001b[0m                                 Traceback (most recent call last)",
      "Cell \u001b[1;32mIn[10], line 1\u001b[0m\n\u001b[1;32m----> 1\u001b[0m \u001b[38;5;28;01mif\u001b[39;00m \u001b[43mF\u001b[49m \u001b[38;5;129;01mis\u001b[39;00m sp\u001b[38;5;241m.\u001b[39mnan:\n\u001b[0;32m      2\u001b[0m     \u001b[38;5;66;03m# print(F_sp)\u001b[39;00m\n\u001b[0;32m      3\u001b[0m     F \u001b[38;5;241m=\u001b[39m \u001b[38;5;241m12\u001b[39m \u001b[38;5;241m/\u001b[39m P_d\n\u001b[0;32m      5\u001b[0m \u001b[38;5;28;01massert\u001b[39;00m(F \u001b[38;5;241m<\u001b[39m \u001b[38;5;241m2\u001b[39m \u001b[38;5;241m*\u001b[39m D_p)\n",
      "\u001b[1;31mNameError\u001b[0m: name 'F' is not defined"
     ]
    }
   ],
   "source": [
    "if F is sp.nan:\n",
    "    # print(F_sp)\n",
    "    F = 12 / P_d\n",
    "\n",
    "assert(F < 2 * D_p)\n",
    "assert(F > 0.5 * D_p)\n",
    "F"
   ]
  },
  {
   "cell_type": "markdown",
   "metadata": {},
   "source": [
    "## Calulating correction Factors"
   ]
  },
  {
   "cell_type": "markdown",
   "metadata": {},
   "source": [
    "### Calculate $C_{pf}$"
   ]
  },
  {
   "cell_type": "code",
   "execution_count": null,
   "metadata": {},
   "outputs": [],
   "source": [
    "#C_pf\n",
    "C_pf = None\n",
    "\n",
    "if F / D_p < 0.5:\n",
    "    assert(False)\n",
    "    #use graph\n",
    "elif F <= 1.0:\n",
    "    C_pf = F / (10 * D_p) - 0.025\n",
    "elif F <= 15:\n",
    "    C_pf = F / (10 * D_p) - 0.0375 + 0.0125 * F\n",
    "\n",
    "assert(C_pf is not None)\n",
    "\n",
    "C_pf"
   ]
  },
  {
   "cell_type": "markdown",
   "metadata": {},
   "source": [
    "### Calculate $C_{ma}$"
   ]
  },
  {
   "cell_type": "code",
   "execution_count": null,
   "metadata": {},
   "outputs": [],
   "source": [
    "#C_ma\n",
    "\n",
    "assert(cond is not None)\n",
    "\n",
    "C_ma = None\n",
    "\n",
    "if cond == \"commercial enclosed\".upper():\n",
    "    C_ma = 0.127 + 0.0158 * F - 1.093 * 10**-4 * F**2\n",
    "elif cond == \"precision\".upper():\n",
    "    C_ma = 0.0675 + 0.0128 * F - 0.926 * 10**-4 * F**2\n",
    "elif cond == \"extra\".upper():\n",
    "    C_ma = 0.0380 + 0.0102 * F - 0.822 * 10**-4 * F**2\n",
    "\n",
    "assert(C_ma is not None)\n",
    "C_ma"
   ]
  },
  {
   "cell_type": "code",
   "execution_count": 153,
   "metadata": {},
   "outputs": [],
   "source": [
    "k_m = 1 + C_ma + C_pf"
   ]
  },
  {
   "cell_type": "markdown",
   "metadata": {},
   "source": [
    "## Loading Cycles $N_{cp}, N_{cg}$"
   ]
  },
  {
   "cell_type": "code",
   "execution_count": null,
   "metadata": {},
   "outputs": [],
   "source": [
    "# Number of cycles\n",
    "\n",
    "N_cp = 60 * lifetime * n_p\n",
    "N_cg = 60 * lifetime * n_g\n",
    "\n",
    "print(f\"N_cp: {N_cp:.2e}, N_cg: {N_cg:.2e}\")"
   ]
  },
  {
   "cell_type": "markdown",
   "metadata": {},
   "source": [
    "### *** Implement $Y_{xx}$  and $Z_{xx}$"
   ]
  },
  {
   "cell_type": "markdown",
   "metadata": {},
   "source": [
    "Put all the graphs here"
   ]
  },
  {
   "cell_type": "markdown",
   "metadata": {},
   "source": [
    "## Stresses and allowable Stresses"
   ]
  },
  {
   "cell_type": "markdown",
   "metadata": {},
   "source": [
    "### $S_{tp}$, $S_{tG}$"
   ]
  },
  {
   "cell_type": "code",
   "execution_count": null,
   "metadata": {},
   "outputs": [],
   "source": [
    "s_tp = (W_t * P_d) / (F * J_p) * k_o * k_s * k_m * k_B * k_v\n",
    "s_tp"
   ]
  },
  {
   "cell_type": "code",
   "execution_count": null,
   "metadata": {},
   "outputs": [],
   "source": [
    "s_tG = s_tp * J_p / J_G\n",
    "s_tG"
   ]
  },
  {
   "cell_type": "markdown",
   "metadata": {},
   "source": [
    "### $S_{atp}$, $S_{atG}$"
   ]
  },
  {
   "cell_type": "code",
   "execution_count": null,
   "metadata": {},
   "outputs": [],
   "source": [
    "s_atP_Greater_than = s_tp * k_R * safety_factor / Y_np\n",
    "s_atP_Greater_than"
   ]
  },
  {
   "cell_type": "code",
   "execution_count": null,
   "metadata": {},
   "outputs": [],
   "source": [
    "s_atG_Greater_than = s_tG * k_R * safety_factor / Y_ng\n",
    "s_atG_Greater_than"
   ]
  },
  {
   "cell_type": "markdown",
   "metadata": {},
   "source": [
    "### Calc $S_c$"
   ]
  },
  {
   "cell_type": "code",
   "execution_count": null,
   "metadata": {},
   "outputs": [],
   "source": [
    "\n",
    "aa = (W_t * k_o * k_s * k_m  * k_v)\n",
    "\n",
    "bb = (F * D_p * I)\n",
    "\n",
    "S_c = C_p * np.sqrt( float( aa / bb)  ) #\n",
    "S_c"
   ]
  },
  {
   "cell_type": "markdown",
   "metadata": {},
   "source": [
    "### FInd adjusted values of $S_c$"
   ]
  },
  {
   "cell_type": "code",
   "execution_count": null,
   "metadata": {},
   "outputs": [],
   "source": [
    "S_acP_Greater_than = S_c * (k_R * safety_factor) / Z_np\n",
    "S_acP_Greater_than"
   ]
  },
  {
   "cell_type": "code",
   "execution_count": null,
   "metadata": {},
   "outputs": [],
   "source": [
    "S_acg_Greater_than = S_c * (k_R * safety_factor) / Z_ng\n",
    "S_acg_Greater_than"
   ]
  },
  {
   "cell_type": "markdown",
   "metadata": {},
   "source": [
    "## Brinell Hardness Calculations"
   ]
  },
  {
   "cell_type": "code",
   "execution_count": null,
   "metadata": {},
   "outputs": [],
   "source": [
    "# Prompt the user for input\n",
    "HB_grade = input(\"HB grade 1 or 2? \")\n",
    "\n",
    "Contact_HB_p = 0\n",
    "Bending_HB_p = 0\n",
    "\n",
    "if int(HB_grade) == 1:\n",
    "    Contact_HB_p = ( S_acP_Greater_than / 1000 - 29.1 ) / 0.322\n",
    "    Bending_HB_p = ( s_atP_Greater_than / 1000 - 12.8 ) / 0.0773\n",
    "\n",
    "    Contact_HB_g = ( S_acg_Greater_than / 1000 - 29.1 ) / 0.322\n",
    "    Bending_HB_g = ( s_atG_Greater_than / 1000 - 12.8 ) / 0.0773\n",
    "\n",
    "elif int(HB_grade) == 2:\n",
    "    Contact_HB_p = ( S_acP_Greater_than / 1000 - 34.3 ) / 0.349\n",
    "    Bending_HB_p = ( s_atP_Greater_than / 1000 - 16.4 ) / 0.102\n",
    "\n",
    "    Contact_HB_g = ( S_acg_Greater_than / 1000 - 34.3 ) / 0.349\n",
    "    Bending_HB_g = ( s_atG_Greater_than / 1000 - 16.4 ) / 0.102\n",
    "\n",
    "else:\n",
    "    assert(False)\n",
    "\n",
    "\n",
    "print(f\"Contact_HB_p: {Contact_HB_p:.2f} psi \\nBending_HB_p: {Bending_HB_p:.2f} psi\\n\")\n",
    "\n",
    "print(f\"Contact_HB_g: {Contact_HB_g:.2f} psi \\nBending_HB_g: {Bending_HB_g:.2f} psi\")"
   ]
  },
  {
   "cell_type": "markdown",
   "metadata": {},
   "source": [
    "### use tables to find the appropriate Material, and enter its brinell hardness"
   ]
  },
  {
   "cell_type": "code",
   "execution_count": 168,
   "metadata": {},
   "outputs": [],
   "source": [
    "HB = None"
   ]
  },
  {
   "cell_type": "markdown",
   "metadata": {},
   "source": [
    "### Calculate actaul allowed bending and contact stresses"
   ]
  },
  {
   "cell_type": "code",
   "execution_count": 165,
   "metadata": {},
   "outputs": [],
   "source": [
    "#too lazy to implement rn\n",
    "\n",
    "S_acp = None\n",
    "S_atp = None\n",
    "\n",
    "S_acg = None\n",
    "S_atg = None\n",
    "\n",
    "\n",
    "if int(HB_grade) == 1:\n",
    "    S_acp = (HB * 0.322 + 29.1 ) * 1000 \n",
    "    S_atp = (HB * 0.0773 + 12.8 ) * 1000\n",
    "\n",
    "    S_acg = (HB * 0.322 + 29.1 ) * 1000\n",
    "    S_atg = (HB * 0.0773 + 12.8 ) * 1000\n",
    "\n",
    "elif int(HB_grade) == 2:\n",
    "\n",
    "    S_acp = (HB * 0.349 + 34.3 ) * 1000\n",
    "    S_atp = (HB * 0.102 + 16.4 ) * 1000\n",
    "\n",
    "    S_acg = (HB * 0.349 + 34.3 ) * 1000\n",
    "    S_atg = (HB * 0.102 + 16.4 ) * 1000\n",
    "    \n",
    "else:\n",
    "    assert(False)\n"
   ]
  },
  {
   "cell_type": "markdown",
   "metadata": {},
   "source": [
    "### Calculate Safety factor"
   ]
  },
  {
   "cell_type": "code",
   "execution_count": null,
   "metadata": {},
   "outputs": [],
   "source": [
    "contact_SF_p = S_acp * Y_np / (S_c * k_R)\n",
    "bending_SF_p = S_atp * Y_np / (s_tp * k_R)\n",
    "\n",
    "print(f\"Contact Safety Factor (Pinion): {contact_SF_p:f} \\nBending Safety Factor (Pinion): {bending_SF_p:f}\\n\")\n",
    "\n",
    "contact_SF_g = S_acg * Y_np / (S_c * k_R)\n",
    "bending_SF_g = S_atg * Y_np / (s_tG * k_R)\n",
    "\n",
    "print(f\"Contact Safety Factor (Gear): {contact_SF_g:.2f} \\nBending Safety Factor (Gear): {bending_SF_g:.2f}\")\n",
    "\n"
   ]
  },
  {
   "cell_type": "markdown",
   "metadata": {},
   "source": [
    "## Power transmitting Capacity"
   ]
  },
  {
   "cell_type": "code",
   "execution_count": null,
   "metadata": {},
   "outputs": [],
   "source": [
    "# Power transmitting capacity\n",
    "\n",
    "P_cap = n_p * F * I / (126000 * k_o * k_s * k_m * k_v) * ( (S_acP_Greater_than * D_p * Z_np) / (safety_factor * k_R * C_p) ) ** 2\n",
    "\n",
    "print(f\"P_cap = {P_cap:.4f} HP\")"
   ]
  }
 ],
 "metadata": {
  "kernelspec": {
   "display_name": "Python 3",
   "language": "python",
   "name": "python3"
  },
  "language_info": {
   "codemirror_mode": {
    "name": "ipython",
    "version": 3
   },
   "file_extension": ".py",
   "mimetype": "text/x-python",
   "name": "python",
   "nbconvert_exporter": "python",
   "pygments_lexer": "ipython3",
   "version": "3.11.9"
  }
 },
 "nbformat": 4,
 "nbformat_minor": 2
}
