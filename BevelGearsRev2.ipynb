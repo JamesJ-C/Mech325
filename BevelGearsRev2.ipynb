{
 "cells": [
  {
   "cell_type": "code",
   "execution_count": 87,
   "metadata": {},
   "outputs": [],
   "source": [
    "import numpy as np\n",
    "import matplotlib.pyplot as plt\n",
    "\n",
    "import math\n",
    "\n",
    "import sympy as sp\n",
    "\n",
    "from sympy import latex\n",
    "from IPython.display import display, Math"
   ]
  },
  {
   "cell_type": "markdown",
   "metadata": {},
   "source": [
    "## Things which are given / can be calculated "
   ]
  },
  {
   "cell_type": "code",
   "execution_count": 88,
   "metadata": {},
   "outputs": [
    {
     "data": {
      "text/plain": [
       "({P_d: 12,\n",
       "  D_p: nan,\n",
       "  D_g: nan,\n",
       "  N_p: 19,\n",
       "  N_g: nan,\n",
       "  N_g_guess: nan,\n",
       "  n_p: 1200,\n",
       "  n_g: nan,\n",
       "  n_g_guess: 387,\n",
       "  VR: nan,\n",
       "  VR_guess: nan,\n",
       "  v_t: nan,\n",
       "  torque: nan,\n",
       "  power: 5},\n",
       " 14)"
      ]
     },
     "execution_count": 88,
     "metadata": {},
     "output_type": "execute_result"
    }
   ],
   "source": [
    "P_d_sp = sp.symbols('P_d')\n",
    "D_p_sp, D_g_sp = sp.symbols('D_p D_g')\n",
    "N_p_sp, N_g_sp, N_g_guess_sp = sp.symbols('N_p N_g, N_g_guess') \n",
    "C_sp, F_sp = sp.symbols('C F')\n",
    "n_p_sp, n_g_sp, n_g_guess_sp = sp.symbols('n_p n_g n_g_guess')\n",
    "VR_sp, VR_guess_sp, v_t_sp = sp.symbols('VR VR_guess v_t')\n",
    "power_sp, lifetime_sp, Torque_sp = sp.symbols('power lifetime torque')\n",
    "W_t_sp = sp.symbols('W_t')\n",
    "\n",
    "\n",
    "#enter given values\n",
    "\n",
    "uk = sp.nan\n",
    "all_values = {\n",
    "    P_d_sp: 12,\n",
    "    D_p_sp: sp.nan,\n",
    "    D_g_sp: uk,\n",
    "    \n",
    "    N_p_sp: 19,\n",
    "    N_g_sp: uk,\n",
    "    N_g_guess_sp: uk,\n",
    "    n_p_sp: 1200,\n",
    "    n_g_sp: uk,\n",
    "    n_g_guess_sp: 387,\n",
    "    VR_sp: sp.nan,\n",
    "    VR_guess_sp: sp.nan,\n",
    "    v_t_sp: sp.nan, \n",
    "    Torque_sp: uk,\n",
    "    power_sp: 5\n",
    "}\n",
    "\n",
    "phi = 20 # pressure angle\n",
    "\n",
    "lifetime = 15000\n",
    "F_p = 1 # update if given\n",
    "F_g = 1 # update if given\n",
    "\n",
    "all_values, len(all_values)\n"
   ]
  },
  {
   "cell_type": "markdown",
   "metadata": {},
   "source": [
    "## Things to find from a table\n",
    "\n",
    "some, like Y,Z can only be found later, tbd how to handle this"
   ]
  },
  {
   "cell_type": "code",
   "execution_count": 89,
   "metadata": {},
   "outputs": [],
   "source": [
    "J_p = 0.34\n",
    "J_G = 0.41\n",
    "\n",
    "I = 0.1\n",
    "\n",
    "C_p = 2300 #for steel\n",
    "\n",
    "k_o = 1.5\n",
    "k_s = 1.0\n",
    "\n",
    "k_B = 1.0\n",
    "k_v = 1.25\n",
    "k_R = 1.0\n",
    "C_R = 1.0\n",
    "\n",
    "\n",
    "#Need cycles to find, but these are not calculated until later\n",
    "#im not sure the best way to handle this\n",
    "Y_np = 0.95\n",
    "Y_ng = 1.0\n",
    "\n",
    "Z_np = 0.898\n",
    "Z_ng = 0.922\n",
    "\n",
    "\n",
    "#for k_mb\n",
    "C_ma_cond = \"commercial enclosed\"\n",
    "# C_ma_cond = \"precicision\"\n",
    "# C_ma_cond = \"extra\"\n",
    "\n",
    "k_ma_cond = \"2 straddle\"\n",
    "# k_ma_cond = \"1 straddle\"\n",
    "# k_ma_cond = \"0 straddle\"\n",
    "\n",
    "\n",
    "\n",
    "#for C_xc\n",
    "teeth = \"crowned\"\n",
    "\n",
    "\n",
    "\n",
    "safety_factor = 1\n"
   ]
  },
  {
   "cell_type": "markdown",
   "metadata": {},
   "source": [
    "## Create the equations"
   ]
  },
  {
   "cell_type": "code",
   "execution_count": 90,
   "metadata": {},
   "outputs": [],
   "source": [
    "\n",
    "eq1 = sp.Eq(VR_guess_sp, n_p_sp / n_g_guess_sp)\n",
    "eq2 = sp.Eq(N_g_guess_sp, N_p_sp * VR_guess_sp)\n",
    "\n",
    "eq3 = sp.Eq(VR_sp, N_g_sp / N_p_sp)\n",
    "\n",
    "eq4 = sp.Eq(n_g_sp, n_p_sp / VR_sp)\n",
    "eq5 = sp.Eq(D_p_sp, N_p_sp / P_d_sp)\n",
    "eq6 = sp.Eq(D_g_sp, N_g_sp / P_d_sp)\n",
    "\n",
    "eq7 = sp.Eq(v_t_sp, np.pi * D_p_sp * n_p_sp / 12)\n",
    "eq8 = sp.Eq(VR_sp, n_p_sp / n_g_sp)\n",
    "\n",
    "eq9 = sp.Eq(power_sp, Torque_sp * n_p_sp / 63000)\n"
   ]
  },
  {
   "cell_type": "markdown",
   "metadata": {},
   "source": [
    "## Solve the equations for basic quantities"
   ]
  },
  {
   "cell_type": "code",
   "execution_count": 91,
   "metadata": {},
   "outputs": [],
   "source": [
    "#creates a thing of all the non-nan values\n",
    "known_values = {}\n",
    "\n",
    "for var, value in all_values.items():\n",
    "    if value is not sp.nan:\n",
    "        known_values[var] = value\n"
   ]
  },
  {
   "cell_type": "markdown",
   "metadata": {},
   "source": [
    "Solve the equations for VR_guess, n_g_guess, N_p, n_g"
   ]
  },
  {
   "cell_type": "code",
   "execution_count": 92,
   "metadata": {},
   "outputs": [
    {
     "data": {
      "text/plain": [
       "{P_d: 12,\n",
       " N_p: 19,\n",
       " n_p: 1200,\n",
       " n_g_guess: 387,\n",
       " power: 5,\n",
       " N_g_guess: 7600/129,\n",
       " VR_guess: 400/129}"
      ]
     },
     "execution_count": 92,
     "metadata": {},
     "output_type": "execute_result"
    }
   ],
   "source": [
    "# Solve equations eq1 and eq2\n",
    "solutions_eq1_eq2 = sp.solve([eq1, eq2], dict=True)\n",
    "\n",
    "# Display the solutions\n",
    "# for solution in solutions_eq1_eq2:\n",
    "#     for var, expr in solution.items():\n",
    "#         print(f\"{var} = {expr}\")\n",
    "\n",
    "\n",
    "for solution in solutions_eq1_eq2:\n",
    "        for var, expr in solution.items():\n",
    "            if var not in known_values or known_values[var] is sp.nan:\n",
    "                known_values[var] = expr.subs(known_values)\n",
    "\n",
    "known_values"
   ]
  },
  {
   "cell_type": "code",
   "execution_count": 93,
   "metadata": {},
   "outputs": [
    {
     "data": {
      "text/plain": [
       "{P_d: 12,\n",
       " N_p: 19,\n",
       " n_p: 1200,\n",
       " n_g_guess: 387,\n",
       " power: 5,\n",
       " N_g_guess: 7600/129,\n",
       " VR_guess: 400/129,\n",
       " N_g: 59.0000000000000,\n",
       " VR: 3.10526315789474}"
      ]
     },
     "execution_count": 93,
     "metadata": {},
     "output_type": "execute_result"
    }
   ],
   "source": [
    "\n",
    "if known_values[N_g_guess_sp] == sp.nan:  \n",
    "    a = sp.nan\n",
    "else:\n",
    "    known_values[N_g_sp] = round(known_values[N_g_guess_sp], 0)\n",
    "# known_values[N_g_sp]\n",
    "\n",
    "# Solve equation eq3 with the updated known values\n",
    "\n",
    "if all_values[n_g_guess_sp] == sp.nan:\n",
    "    pass\n",
    "\n",
    "else:\n",
    "\n",
    "    solution_eq3 = sp.solve(eq3.subs(known_values), dict=True)\n",
    "\n",
    "    # Update known values with the solution of eq3\n",
    "    for sol in solution_eq3:\n",
    "        for var, expr in sol.items():\n",
    "            if var not in known_values or known_values[var] is sp.nan:\n",
    "                known_values[var] = expr.subs(known_values)\n",
    "\n",
    "known_values\n",
    "\n",
    "\n"
   ]
  },
  {
   "cell_type": "markdown",
   "metadata": {},
   "source": [
    "#### Solve the equations multiple times bc some of them depend on others"
   ]
  },
  {
   "cell_type": "code",
   "execution_count": 94,
   "metadata": {},
   "outputs": [
    {
     "name": "stdout",
     "output_type": "stream",
     "text": [
      "1\n",
      "Run interation: 1\n",
      "0\n",
      "P_d = 12\n",
      "N_p = 19\n",
      "n_p = 1200\n",
      "n_g_guess = 387\n",
      "power = 5\n",
      "N_g_guess = 7600/129\n",
      "VR_guess = 400/129\n",
      "N_g = 59.0000000000000\n",
      "VR = 3.10526315789474\n",
      "D_g = 4.91666666666667\n",
      "D_p = 1.58333333333333\n",
      "n_g = 386.440677966102\n",
      "torque = 262.500000000000\n",
      "v_t = 497.418836818383\n"
     ]
    }
   ],
   "source": [
    "# Iteratively solve equations until all variables are found\n",
    "\n",
    "run_count = 0\n",
    "while True:\n",
    "\n",
    "    previous_known_values = known_values.copy()\n",
    "    \n",
    "    # Solve equations with current known values\n",
    "    solutions = sp.solve([eq4, eq5.subs(known_values), eq6.subs(known_values), eq7.subs(known_values), eq8.subs(known_values), eq9.subs(known_values)], dict=True)\n",
    "\n",
    "    # Update known values with solutions\n",
    "    print(len(solutions))\n",
    "    for solution in solutions:\n",
    "\n",
    "        for var, expr in solution.items():\n",
    "\n",
    "            if var not in known_values or known_values[var] is sp.nan:\n",
    "                known_values[var] = expr.subs(known_values)    \n",
    "\n",
    "    # Break if no new values are found\n",
    "    if known_values == previous_known_values:\n",
    "        break\n",
    "    else:\n",
    "        run_count += 1\n",
    "        print(f\"Run interation: {run_count}\")\n",
    "\n",
    "    if run_count > 5:\n",
    "        break\n",
    "\n",
    "# Display updated solutions\n",
    "for var, value in known_values.items():\n",
    "    print(f\"{var} = {value}\")\n"
   ]
  },
  {
   "cell_type": "markdown",
   "metadata": {},
   "source": [
    "### Lists each variable and its equation "
   ]
  },
  {
   "cell_type": "markdown",
   "metadata": {},
   "source": [
    "## List all the values"
   ]
  },
  {
   "cell_type": "code",
   "execution_count": 95,
   "metadata": {},
   "outputs": [
    {
     "data": {
      "text/plain": [
       "{P_d: 12,\n",
       " D_p: 1.58333333333333,\n",
       " D_g: 4.91666666666667,\n",
       " N_p: 19,\n",
       " N_g: 59.0000000000000,\n",
       " N_g_guess: 7600/129,\n",
       " n_p: 1200,\n",
       " n_g: 386.440677966102,\n",
       " n_g_guess: 387,\n",
       " VR: 3.10526315789474,\n",
       " VR_guess: 400/129,\n",
       " v_t: 497.418836818383,\n",
       " torque: 262.500000000000,\n",
       " power: 5}"
      ]
     },
     "execution_count": 95,
     "metadata": {},
     "output_type": "execute_result"
    }
   ],
   "source": [
    "# assert(len(known_values) == len(all_values))\n",
    "len(known_values), len(all_values)\n",
    "# known_values\n",
    "\n",
    "for var, value in known_values.items():\n",
    "    all_values[var] = value\n",
    "\n",
    "\n",
    "P_d = all_values[P_d_sp]\n",
    "D_p = all_values[D_p_sp]\n",
    "D_g = all_values[D_g_sp]\n",
    "N_p = all_values[N_p_sp]\n",
    "N_g = all_values[N_g_sp]\n",
    "n_p = all_values[n_p_sp]\n",
    "n_g = all_values[n_g_sp]\n",
    "n_g_guess = all_values[n_g_guess_sp]\n",
    "VR = all_values[VR_sp]\n",
    "VR_guess = all_values[VR_guess_sp]\n",
    "v_t = all_values[v_t_sp]\n",
    "power = all_values[power_sp]\n",
    "Torque = all_values[Torque_sp]\n",
    "\n",
    "P_d = float(P_d)\n",
    "D_p = float(D_p)\n",
    "D_g = float(D_g)\n",
    "N_p = float(N_p)\n",
    "N_g = float(N_g)\n",
    "n_p = float(n_p)\n",
    "n_g = float(n_g)\n",
    "n_g_guess = float(n_g_guess)\n",
    "VR = float(VR)\n",
    "VR_guess = float(VR_guess)\n",
    "vt = float(v_t)\n",
    "power = float(power)\n",
    "Torque = float(Torque)\n",
    "\n",
    "all_values\n",
    "\n"
   ]
  },
  {
   "cell_type": "markdown",
   "metadata": {},
   "source": [
    "##  Calculations for remaining values"
   ]
  },
  {
   "cell_type": "markdown",
   "metadata": {},
   "source": [
    "### Find Cone angles"
   ]
  },
  {
   "cell_type": "code",
   "execution_count": 96,
   "metadata": {},
   "outputs": [
    {
     "data": {
      "text/latex": [
       "$\\displaystyle \\gamma = 17.8503183022168$"
      ],
      "text/plain": [
       "<IPython.core.display.Math object>"
      ]
     },
     "metadata": {},
     "output_type": "display_data"
    },
    {
     "data": {
      "text/latex": [
       "$\\displaystyle \\Gamma = 72.1496816977832$"
      ],
      "text/plain": [
       "<IPython.core.display.Math object>"
      ]
     },
     "metadata": {},
     "output_type": "display_data"
    }
   ],
   "source": [
    "gamma = 180 / np.pi * np.arctan(N_p/N_g)\n",
    "\n",
    "#gear cone angle\n",
    "\n",
    "Gamma = 180 / np.pi * np.arctan(N_g/N_p)\n",
    "\n",
    "assert(gamma + Gamma - 90 < 10**-8)\n",
    "\n",
    "\n",
    "# Display the equations in LaTeX format\n",
    "display(Math(latex(sp.Eq(sp.Symbol('gamma'), gamma))))\n",
    "display(Math(latex(sp.Eq(sp.Symbol('Gamma'), Gamma))))\n"
   ]
  },
  {
   "cell_type": "markdown",
   "metadata": {},
   "source": [
    "### Find Cone Distances"
   ]
  },
  {
   "cell_type": "code",
   "execution_count": 97,
   "metadata": {},
   "outputs": [
    {
     "data": {
      "text/latex": [
       "$\\displaystyle A_{oG} = 2.58266120288529$"
      ],
      "text/plain": [
       "<IPython.core.display.Math object>"
      ]
     },
     "metadata": {},
     "output_type": "display_data"
    },
    {
     "data": {
      "text/latex": [
       "$\\displaystyle A_{oP} = 2.58266120288529$"
      ],
      "text/plain": [
       "<IPython.core.display.Math object>"
      ]
     },
     "metadata": {},
     "output_type": "display_data"
    }
   ],
   "source": [
    "#outer cone distance\n",
    "\n",
    "A_oG = D_g / (2 * np.sin(Gamma * np.pi / 180))\n",
    "\n",
    "A_oP = D_p / (2 * np.sin(gamma * np.pi / 180))\n",
    "\n",
    "A_oG, A_oP\n",
    "display(Math(latex(sp.Eq(sp.Symbol('A_oG'), A_oG))))\n",
    "display(Math(latex(sp.Eq(sp.Symbol('A_oP'), A_oP))))"
   ]
  },
  {
   "cell_type": "markdown",
   "metadata": {},
   "source": [
    "### Find r_m and R_m "
   ]
  },
  {
   "cell_type": "code",
   "execution_count": 98,
   "metadata": {},
   "outputs": [
    {
     "data": {
      "text/latex": [
       "$\\displaystyle r_{m} = 0.638400983621938$"
      ],
      "text/plain": [
       "<IPython.core.display.Math object>"
      ]
     },
     "metadata": {},
     "output_type": "display_data"
    },
    {
     "data": {
      "text/latex": [
       "$\\displaystyle R_{m} = 1.98240305440497$"
      ],
      "text/plain": [
       "<IPython.core.display.Math object>"
      ]
     },
     "metadata": {},
     "output_type": "display_data"
    }
   ],
   "source": [
    "r_m = D_p / 2 - F_p / 2 * np.sin(gamma * np.pi / 180)\n",
    "\n",
    "R_m = D_g / 2 - F_g / 2 * np.sin(Gamma * np.pi / 180)\n",
    "\n",
    "r_m, R_m\n",
    "\n",
    "# Display the equations in LaTeX format\n",
    "display(Math(latex(sp.Eq(sp.Symbol('r_m'), r_m))))\n",
    "display(Math(latex(sp.Eq(sp.Symbol('R_m'), R_m))))"
   ]
  },
  {
   "cell_type": "markdown",
   "metadata": {},
   "source": [
    "### Find Forces"
   ]
  },
  {
   "cell_type": "code",
   "execution_count": 99,
   "metadata": {},
   "outputs": [
    {
     "data": {
      "text/latex": [
       "$\\displaystyle W_{t} = 411.183576990622 \\text{ lbs}$"
      ],
      "text/plain": [
       "<IPython.core.display.Math object>"
      ]
     },
     "metadata": {},
     "output_type": "display_data"
    }
   ],
   "source": [
    "W_t = Torque / r_m\n",
    "\n",
    "wt2 = 33000 * power / v_t\n",
    "\n",
    "# Display the equation in LaTeX format with units of lbs\n",
    "display(Math(latex(sp.Eq(W_t_sp, W_t)) + r\" \\text{ lbs}\"))"
   ]
  },
  {
   "cell_type": "markdown",
   "metadata": {},
   "source": [
    "Radial Force"
   ]
  },
  {
   "cell_type": "code",
   "execution_count": 100,
   "metadata": {},
   "outputs": [
    {
     "data": {
      "text/latex": [
       "$\\displaystyle W_{rp} = 142.454102153644 \\text{ lbs}$"
      ],
      "text/plain": [
       "<IPython.core.display.Math object>"
      ]
     },
     "metadata": {},
     "output_type": "display_data"
    }
   ],
   "source": [
    "W_rp = W_t * np.tan(phi * np.pi / 180) * np.cos(gamma * np.pi / 180)\n",
    "# Display the equation in LaTeX format with units of lbs\n",
    "\n",
    "\n",
    "display(Math(latex(sp.Eq(sp.Symbol('W_rp'), W_rp)) + r\" \\text{ lbs}\"))"
   ]
  },
  {
   "cell_type": "markdown",
   "metadata": {},
   "source": [
    "Axial Force"
   ]
  },
  {
   "cell_type": "code",
   "execution_count": 101,
   "metadata": {},
   "outputs": [
    {
     "data": {
      "text/latex": [
       "$\\displaystyle W_{xp} = 45.8750498460889 \\text{ lbs}$"
      ],
      "text/plain": [
       "<IPython.core.display.Math object>"
      ]
     },
     "metadata": {},
     "output_type": "display_data"
    }
   ],
   "source": [
    "W_xp = W_t * np.tan(phi * np.pi / 180) * np.sin(gamma * np.pi / 180)\n",
    "display(Math(latex(sp.Eq(sp.Symbol('W_xp'), W_xp)) + r\" \\text{ lbs}\"))"
   ]
  },
  {
   "cell_type": "markdown",
   "metadata": {},
   "source": [
    "### Find Face Width"
   ]
  },
  {
   "cell_type": "code",
   "execution_count": 102,
   "metadata": {},
   "outputs": [
    {
     "data": {
      "text/latex": [
       "$\\displaystyle F_{p} = 1$"
      ],
      "text/plain": [
       "<IPython.core.display.Math object>"
      ]
     },
     "metadata": {},
     "output_type": "display_data"
    },
    {
     "data": {
      "text/latex": [
       "$\\displaystyle F_{g} = 1$"
      ],
      "text/plain": [
       "<IPython.core.display.Math object>"
      ]
     },
     "metadata": {},
     "output_type": "display_data"
    }
   ],
   "source": [
    "if F_p is not None:\n",
    "    pass\n",
    "\n",
    "else:\n",
    "\n",
    "    F_p = 0.3 * A_oP #nominal face width\n",
    "    F_g = 0.3 * A_oG #nominal face width\n",
    "\n",
    "    if F_p > 10 / P_d:\n",
    "        F_p = 10 / P_d\n",
    "        user_in = input(\"face width at max\")\n",
    "\n",
    "    if F_g > 10 / P_d:\n",
    "        F_g = 10 / P_d\n",
    "        user_in = input(\"face width at max\")\n",
    "\n",
    "\n",
    "F_p, F_g\n",
    "display(Math(latex(sp.Eq(sp.Symbol('F_p'), F_p))))\n",
    "display(Math(latex(sp.Eq(sp.Symbol('F_g'), F_g))))"
   ]
  },
  {
   "cell_type": "markdown",
   "metadata": {},
   "source": [
    "Find"
   ]
  },
  {
   "cell_type": "markdown",
   "metadata": {},
   "source": [
    "### Calculate Center Distance"
   ]
  },
  {
   "cell_type": "code",
   "execution_count": 103,
   "metadata": {},
   "outputs": [
    {
     "data": {
      "text/latex": [
       "$\\displaystyle C = 3.25$"
      ],
      "text/plain": [
       "<IPython.core.display.Math object>"
      ]
     },
     "metadata": {},
     "output_type": "display_data"
    }
   ],
   "source": [
    "C = (N_p + N_g) / (2 * P_d)\n",
    "C\n",
    "display(Math(latex(sp.Eq(C_sp, C))))"
   ]
  },
  {
   "cell_type": "markdown",
   "metadata": {},
   "source": [
    "## Calulating correction Factors"
   ]
  },
  {
   "cell_type": "markdown",
   "metadata": {},
   "source": [
    "### Calculate $C_{pf}$\n",
    "\n",
    "only does _p not _g"
   ]
  },
  {
   "cell_type": "code",
   "execution_count": 104,
   "metadata": {},
   "outputs": [
    {
     "data": {
      "text/latex": [
       "$\\displaystyle 0.0381578947368421$"
      ],
      "text/plain": [
       "<IPython.core.display.Math object>"
      ]
     },
     "metadata": {},
     "output_type": "display_data"
    }
   ],
   "source": [
    "#C_pf\n",
    "C_pf = None\n",
    "\n",
    "if F_p / D_p < 0.5:\n",
    "    \n",
    "    #___________Use the graph too find C_pf_____________________\n",
    "    C_pf = 0\n",
    "\n",
    "elif F_p <= 1.0:\n",
    "    C_pf = F_p / (10 * D_p) - 0.025\n",
    "elif F_p <= 15:\n",
    "    C_pf = F_p / (10 * D_p) - 0.0375 + 0.0125 * F_p\n",
    "\n",
    "assert(C_pf is not None)\n",
    "\n",
    "C_pf\n",
    "display(Math(latex(C_pf)))"
   ]
  },
  {
   "cell_type": "markdown",
   "metadata": {},
   "source": [
    "### Calculate $C_{ma}$"
   ]
  },
  {
   "cell_type": "code",
   "execution_count": 105,
   "metadata": {},
   "outputs": [
    {
     "name": "stdout",
     "output_type": "stream",
     "text": [
      "here\n"
     ]
    },
    {
     "data": {
      "text/latex": [
       "$\\displaystyle C_{ma} = 0.1426907$"
      ],
      "text/plain": [
       "<IPython.core.display.Math object>"
      ]
     },
     "metadata": {},
     "output_type": "display_data"
    }
   ],
   "source": [
    "#C_ma\n",
    "\n",
    "assert(C_ma_cond is not None)\n",
    "\n",
    "C_ma = -1#None\n",
    "\n",
    "\n",
    "\n",
    "if C_ma_cond.upper() == \"commercial enclosed\".upper():\n",
    "    print(\"here\")\n",
    "    C_ma = 0.127 + 0.0158 * F_p - 1.093 * 10**-4 * F_p**2\n",
    "elif C_ma_cond.upper() == \"precision\".upper():\n",
    "    C_ma = 0.0675 + 0.0128 * F_p - 0.926 * 10**-4 * F_p**2\n",
    "elif C_ma_cond.upper() == \"extra\".upper():\n",
    "    C_ma = 0.0380 + 0.0102 * F_p - 0.822 * 10**-4 * F_p**2\n",
    "\n",
    "assert(C_ma is not None)\n",
    "\n",
    "# Display the equation in LaTeX format\n",
    "display(Math(latex(sp.Eq(sp.Symbol('C_ma'), C_ma))))"
   ]
  },
  {
   "cell_type": "code",
   "execution_count": 106,
   "metadata": {},
   "outputs": [
    {
     "data": {
      "text/latex": [
       "$\\displaystyle k_{m} = 1.18084859473684$"
      ],
      "text/plain": [
       "<IPython.core.display.Math object>"
      ]
     },
     "metadata": {},
     "output_type": "display_data"
    }
   ],
   "source": [
    "k_m = 1 + C_ma + C_pf\n",
    "\n",
    "display(Math(latex(sp.Eq(sp.Symbol('k_m'), k_m))))"
   ]
  },
  {
   "cell_type": "markdown",
   "metadata": {},
   "source": [
    "k_mb"
   ]
  },
  {
   "cell_type": "code",
   "execution_count": 107,
   "metadata": {},
   "outputs": [
    {
     "data": {
      "text/latex": [
       "$\\displaystyle k_{mb} = 1$"
      ],
      "text/plain": [
       "<IPython.core.display.Math object>"
      ]
     },
     "metadata": {},
     "output_type": "display_data"
    }
   ],
   "source": [
    "#k_mb\n",
    "assert(k_ma_cond is not None)\n",
    "\n",
    "k_ma = None\n",
    "\n",
    "if k_ma_cond.upper() == \"2 straddle\".upper():\n",
    "    k_mb = 1\n",
    "elif k_ma_cond.upper() == \"1 straddle\".upper():\n",
    "    k_mb = 1.1\n",
    "elif k_ma_cond.upper() == \"0 straddle\".upper():\n",
    "    k_mb = 1.25\n",
    "\n",
    "assert(k_mb is not None)\n",
    "\n",
    "# Display the equation in LaTeX format\n",
    "display(Math(latex(sp.Eq(sp.Symbol('k_mb'), k_mb))))"
   ]
  },
  {
   "cell_type": "markdown",
   "metadata": {},
   "source": [
    "### Loading Cycles $N_{cp}, N_{cg}$"
   ]
  },
  {
   "cell_type": "code",
   "execution_count": 108,
   "metadata": {},
   "outputs": [
    {
     "data": {
      "text/latex": [
       "$\\displaystyle N_{cp} = 1080000000.0 \\approx 1.08e+09$"
      ],
      "text/plain": [
       "<IPython.core.display.Math object>"
      ]
     },
     "metadata": {},
     "output_type": "display_data"
    },
    {
     "data": {
      "text/latex": [
       "$\\displaystyle N_{cg} = 347796610.169492 \\approx 3.48e+08$"
      ],
      "text/plain": [
       "<IPython.core.display.Math object>"
      ]
     },
     "metadata": {},
     "output_type": "display_data"
    }
   ],
   "source": [
    "# Number of cycles\n",
    "\n",
    "N_cp = 60 * lifetime * n_p\n",
    "N_cg = 60 * lifetime * n_g\n",
    "\n",
    "# Print in LaTeX with scientific notation\n",
    "display(Math(r\"N_{cp} = \" + latex(N_cp) + r\" \\approx \" + f\"{N_cp:.2e}\"))\n",
    "display(Math(r\"N_{cg} = \" + latex(N_cg) + r\" \\approx \" + f\"{N_cg:.2e}\"))"
   ]
  },
  {
   "cell_type": "markdown",
   "metadata": {},
   "source": [
    "### K_lp - need a more accurate measure for this"
   ]
  },
  {
   "cell_type": "code",
   "execution_count": 109,
   "metadata": {},
   "outputs": [
    {
     "data": {
      "text/latex": [
       "$\\displaystyle k_{Lp} = 0.936269091957083$"
      ],
      "text/plain": [
       "<IPython.core.display.Math object>"
      ]
     },
     "metadata": {},
     "output_type": "display_data"
    }
   ],
   "source": [
    "k_Lp = None\n",
    "\n",
    "if N_cp <= 5 * 10**6:\n",
    "    k_Lp = 6.514 * N_cp**(-0.1192)\n",
    "elif N_cp > 5 * 10**6:\n",
    "    k_Lp = 1.3558 * N_cp**(-0.0178)\n",
    "\n",
    "\n",
    "assert(k_Lp is not None)\n",
    "display(Math(latex(sp.Eq(sp.Symbol('k_Lp'), k_Lp))))"
   ]
  },
  {
   "cell_type": "markdown",
   "metadata": {},
   "source": [
    "C_s"
   ]
  },
  {
   "cell_type": "code",
   "execution_count": 110,
   "metadata": {},
   "outputs": [
    {
     "data": {
      "text/latex": [
       "$\\displaystyle C_{s} = 0.5625$"
      ],
      "text/plain": [
       "<IPython.core.display.Math object>"
      ]
     },
     "metadata": {},
     "output_type": "display_data"
    }
   ],
   "source": [
    "#idk what this is\n",
    "C_s = 0.125 * F_p + 0.4375\n",
    "display(Math(latex(sp.Eq(sp.Symbol('C_s'), C_s))))"
   ]
  },
  {
   "cell_type": "markdown",
   "metadata": {},
   "source": [
    "C_xc"
   ]
  },
  {
   "cell_type": "code",
   "execution_count": 111,
   "metadata": {},
   "outputs": [
    {
     "data": {
      "text/latex": [
       "$\\displaystyle C_{xc} = 1.5$"
      ],
      "text/plain": [
       "<IPython.core.display.Math object>"
      ]
     },
     "metadata": {},
     "output_type": "display_data"
    }
   ],
   "source": [
    "C_xc = None\n",
    "\n",
    "if teeth == \"crowned\":\n",
    "    C_xc = 1.5\n",
    "elif teeth == \"uncrowned\":\n",
    "    C_xc = 2\n",
    "else:\n",
    "    assert(False)\n",
    "\n",
    "assert(C_xc is not None)\n",
    "\n",
    "C_xc\n",
    "display(Math(latex(sp.Eq(sp.Symbol('C_xc'), C_xc))))"
   ]
  },
  {
   "cell_type": "markdown",
   "metadata": {},
   "source": [
    "C_lp"
   ]
  },
  {
   "cell_type": "code",
   "execution_count": 112,
   "metadata": {},
   "outputs": [
    {
     "data": {
      "text/plain": [
       "0.9955007718788231"
      ]
     },
     "execution_count": 112,
     "metadata": {},
     "output_type": "execute_result"
    }
   ],
   "source": [
    "C_Lp = None#1.0 # from spme random graph\n",
    "\n",
    "if N_cp <= 10**4:\n",
    "    C_Lp = 2.0\n",
    "elif N_cp > 10**4:\n",
    "    C_Lp = 3.4822 * N_cp**(-0.0602)\n",
    "\n",
    "assert(C_Lp is not None)\n",
    "C_Lp"
   ]
  },
  {
   "cell_type": "markdown",
   "metadata": {},
   "source": [
    "C_lg"
   ]
  },
  {
   "cell_type": "code",
   "execution_count": 113,
   "metadata": {},
   "outputs": [
    {
     "data": {
      "text/plain": [
       "1.0657759735007677"
      ]
     },
     "execution_count": 113,
     "metadata": {},
     "output_type": "execute_result"
    }
   ],
   "source": [
    "C_Lg = None#1.0 # from spme random graph\n",
    "\n",
    "if N_cg <= 10**4:\n",
    "    C_Lg = 2.0\n",
    "elif N_cg > 10**4:\n",
    "    C_Lg = 3.4822 * N_cg**(-0.0602)\n",
    "\n",
    "assert(C_Lg is not None)\n",
    "C_Lg"
   ]
  },
  {
   "cell_type": "markdown",
   "metadata": {},
   "source": [
    "### *** Implement $Y_{xx}$  and $Z_{xx}$"
   ]
  },
  {
   "cell_type": "markdown",
   "metadata": {},
   "source": [
    "Put all the graphs here"
   ]
  },
  {
   "cell_type": "markdown",
   "metadata": {},
   "source": [
    "## Stresses and allowable Stresses"
   ]
  },
  {
   "cell_type": "markdown",
   "metadata": {},
   "source": [
    "### $S_{tp}$"
   ]
  },
  {
   "cell_type": "code",
   "execution_count": 114,
   "metadata": {},
   "outputs": [
    {
     "data": {
      "text/latex": [
       "$\\displaystyle s_{tp} = 32131.6907471632 \\text{ lbs}$"
      ],
      "text/plain": [
       "<IPython.core.display.Math object>"
      ]
     },
     "metadata": {},
     "output_type": "display_data"
    }
   ],
   "source": [
    "s_t = (W_t * P_d) / (F_p * J_p) * k_o * k_s * k_m * k_v\n",
    "s_t\n",
    "\n",
    "# Display the equation in LaTeX format with units of lbs\n",
    "display(Math(latex(sp.Eq(sp.Symbol('s_tp'), s_t)) + r\" \\text{ lbs}\"))"
   ]
  },
  {
   "cell_type": "markdown",
   "metadata": {},
   "source": [
    "### $S_{atp}$, $S_{atG}$"
   ]
  },
  {
   "cell_type": "code",
   "execution_count": 115,
   "metadata": {},
   "outputs": [
    {
     "data": {
      "text/latex": [
       "$\\displaystyle s_{atP >} = 34318.8630524995 \\text{ lbs}$"
      ],
      "text/plain": [
       "<IPython.core.display.Math object>"
      ]
     },
     "metadata": {},
     "output_type": "display_data"
    }
   ],
   "source": [
    "s_atp = s_t * safety_factor * k_R / k_Lp\n",
    "\n",
    "display(Math(latex(sp.Eq(sp.Symbol('s_atP >'), s_atp)) + r\" \\text{ lbs}\"))"
   ]
  },
  {
   "cell_type": "markdown",
   "metadata": {},
   "source": [
    "### Calc $S_c$"
   ]
  },
  {
   "cell_type": "code",
   "execution_count": 116,
   "metadata": {},
   "outputs": [
    {
     "data": {
      "text/latex": [
       "$\\displaystyle S_{c} = 160200.613972408 \\text{ lbs}$"
      ],
      "text/plain": [
       "<IPython.core.display.Math object>"
      ]
     },
     "metadata": {},
     "output_type": "display_data"
    }
   ],
   "source": [
    "S_c = C_p * np.sqrt( (W_t * k_o * k_m * k_v * C_s * C_xc) / (F_p * D_p * I) ) #\n",
    "\n",
    "# Display the equation in LaTeX format with units of lbs\n",
    "display(Math(latex(sp.Eq(sp.Symbol('S_c'), S_c)) + r\" \\text{ lbs}\"))"
   ]
  },
  {
   "cell_type": "markdown",
   "metadata": {},
   "source": [
    "### FInd adjusted values of $S_c$"
   ]
  },
  {
   "cell_type": "code",
   "execution_count": 117,
   "metadata": {},
   "outputs": [
    {
     "data": {
      "text/latex": [
       "$\\displaystyle S_{acP >} = 160924.650686165 \\text{ lbs}$"
      ],
      "text/plain": [
       "<IPython.core.display.Math object>"
      ]
     },
     "metadata": {},
     "output_type": "display_data"
    }
   ],
   "source": [
    "S_acp = S_c * (safety_factor * C_R) / C_Lp\n",
    "\n",
    "# Display the equation in LaTeX format with units of lbs\n",
    "display(Math(latex(sp.Eq(sp.Symbol('S_acP >'), S_acp)) + r\" \\text{ lbs}\"))"
   ]
  },
  {
   "cell_type": "code",
   "execution_count": 118,
   "metadata": {},
   "outputs": [
    {
     "data": {
      "text/latex": [
       "$\\displaystyle S_{acg >} = 173753.37741042 \\text{ lbs}$"
      ],
      "text/plain": [
       "<IPython.core.display.Math object>"
      ]
     },
     "metadata": {},
     "output_type": "display_data"
    }
   ],
   "source": [
    "S_acg_Greater_than = S_c * (k_R * safety_factor) / Z_ng\n",
    "# Display the equation in LaTeX format with units of lbs\n",
    "display(Math(latex(sp.Eq(sp.Symbol('S_acg >'), S_acg_Greater_than)) + r\" \\text{ lbs}\"))"
   ]
  },
  {
   "cell_type": "markdown",
   "metadata": {},
   "source": [
    "## Brinell Hardness Calculations"
   ]
  },
  {
   "cell_type": "code",
   "execution_count": 119,
   "metadata": {},
   "outputs": [
    {
     "name": "stdout",
     "output_type": "stream",
     "text": [
      "Contact_HB: 402.6529 \n",
      "Bending_HB: 732.2469 \n",
      "\n"
     ]
    }
   ],
   "source": [
    "# Prompt the user for input\n",
    "HB_grade = input(\"HB grade 1 or 2? \")\n",
    "\n",
    "Contact_HB = 0\n",
    "Bending_HB = 0\n",
    "\n",
    "if int(HB_grade) == 1:\n",
    "    Contact_HB = ( S_acp /1000 - 23.62 ) / 0.341\n",
    "    Bending_HB = ( s_atp / 1000 - 2.1 ) / 0.044 \n",
    "\n",
    "elif int(HB_grade) == 2:\n",
    "    Contact_HB = ( S_acp / 1000 - 29.56 ) / 0.3636\n",
    "    Bending_HB = ( s_atp / 1000 - 5.980 ) / 0.048\n",
    "\n",
    "else:\n",
    "    assert(False)\n",
    "\n",
    "\n",
    "print(f\"Contact_HB: {Contact_HB:.4f} \\nBending_HB: {Bending_HB:.4f} \\n\")\n"
   ]
  },
  {
   "cell_type": "markdown",
   "metadata": {},
   "source": [
    "### use tables to find the appropriate Material, and enter its brinell hardness"
   ]
  },
  {
   "cell_type": "code",
   "execution_count": 125,
   "metadata": {},
   "outputs": [
    {
     "ename": "Exception",
     "evalue": "Need to enter HB value",
     "output_type": "error",
     "traceback": [
      "\u001b[1;31m---------------------------------------------------------------------------\u001b[0m",
      "\u001b[1;31mException\u001b[0m                                 Traceback (most recent call last)",
      "Cell \u001b[1;32mIn[125], line 3\u001b[0m\n\u001b[0;32m      1\u001b[0m HB \u001b[38;5;241m=\u001b[39m \u001b[38;5;28;01mNone\u001b[39;00m\n\u001b[0;32m      2\u001b[0m \u001b[38;5;28;01mif\u001b[39;00m HB \u001b[38;5;129;01mis\u001b[39;00m \u001b[38;5;28;01mNone\u001b[39;00m:\n\u001b[1;32m----> 3\u001b[0m     \u001b[38;5;28;01mraise\u001b[39;00m \u001b[38;5;167;01mException\u001b[39;00m(\u001b[38;5;124m\"\u001b[39m\u001b[38;5;124mNeed to enter HB value\u001b[39m\u001b[38;5;124m\"\u001b[39m)\n",
      "\u001b[1;31mException\u001b[0m: Need to enter HB value"
     ]
    }
   ],
   "source": [
    "HB = None\n",
    "if HB is None:\n",
    "    raise Exception(\"Need to enter HB value\")\n"
   ]
  },
  {
   "cell_type": "markdown",
   "metadata": {},
   "source": [
    "### Calculate actaul allowed bending and contact stresses"
   ]
  },
  {
   "cell_type": "code",
   "execution_count": 121,
   "metadata": {},
   "outputs": [
    {
     "ename": "TypeError",
     "evalue": "unsupported operand type(s) for *: 'NoneType' and 'float'",
     "output_type": "error",
     "traceback": [
      "\u001b[1;31m---------------------------------------------------------------------------\u001b[0m",
      "\u001b[1;31mTypeError\u001b[0m                                 Traceback (most recent call last)",
      "Cell \u001b[1;32mIn[121], line 11\u001b[0m\n\u001b[0;32m      7\u001b[0m S_atg \u001b[38;5;241m=\u001b[39m \u001b[38;5;28;01mNone\u001b[39;00m\n\u001b[0;32m     10\u001b[0m \u001b[38;5;28;01mif\u001b[39;00m \u001b[38;5;28mint\u001b[39m(HB_grade) \u001b[38;5;241m==\u001b[39m \u001b[38;5;241m1\u001b[39m:\n\u001b[1;32m---> 11\u001b[0m     S_acp2 \u001b[38;5;241m=\u001b[39m (\u001b[43mHB\u001b[49m\u001b[43m \u001b[49m\u001b[38;5;241;43m*\u001b[39;49m\u001b[43m \u001b[49m\u001b[38;5;241;43m0.341\u001b[39;49m \u001b[38;5;241m+\u001b[39m \u001b[38;5;241m23.62\u001b[39m ) \u001b[38;5;241m*\u001b[39m \u001b[38;5;241m1000\u001b[39m \n\u001b[0;32m     12\u001b[0m     S_atp2 \u001b[38;5;241m=\u001b[39m (HB \u001b[38;5;241m*\u001b[39m \u001b[38;5;241m0.044\u001b[39m \u001b[38;5;241m+\u001b[39m \u001b[38;5;241m2.1\u001b[39m ) \u001b[38;5;241m*\u001b[39m \u001b[38;5;241m1000\u001b[39m\n\u001b[0;32m     14\u001b[0m \u001b[38;5;28;01melif\u001b[39;00m \u001b[38;5;28mint\u001b[39m(HB_grade) \u001b[38;5;241m==\u001b[39m \u001b[38;5;241m2\u001b[39m:\n",
      "\u001b[1;31mTypeError\u001b[0m: unsupported operand type(s) for *: 'NoneType' and 'float'"
     ]
    }
   ],
   "source": [
    "#too lazy to implement rn\n",
    "\n",
    "S_acp = None\n",
    "S_atp = None\n",
    "\n",
    "S_acg = None\n",
    "S_atg = None\n",
    "\n",
    "\n",
    "if int(HB_grade) == 1:\n",
    "    S_acp2 = (HB * 0.341 + 23.62 ) * 1000 \n",
    "    S_atp2 = (HB * 0.044 + 2.1 ) * 1000\n",
    "\n",
    "elif int(HB_grade) == 2:\n",
    "\n",
    "    S_acp2 = (HB * 0.3636 + 29.56 ) * 1000\n",
    "    S_atp2 = (HB * 0.048 + 5.980 ) * 1000\n",
    "    \n",
    "else:\n",
    "    assert(False)\n"
   ]
  },
  {
   "cell_type": "markdown",
   "metadata": {},
   "source": [
    "### Calculate Safety factor"
   ]
  },
  {
   "cell_type": "code",
   "execution_count": null,
   "metadata": {},
   "outputs": [],
   "source": [
    "contact_SF_p = S_acp2 * Y_np / (S_c * k_R)\n",
    "bending_SF_p = S_atp2 * Y_np / (s_t * k_R)\n",
    "\n",
    "print(f\"Contact Safety Factor (Pinion): {contact_SF_p:f} \\nBending Safety Factor (Pinion): {bending_SF_p:f}\\n\")\n",
    "\n",
    "\n",
    "print(S_acp, Y_np, S_c, k_R)\n"
   ]
  },
  {
   "cell_type": "markdown",
   "metadata": {},
   "source": [
    "## Power transmitting Capacity"
   ]
  },
  {
   "cell_type": "code",
   "execution_count": null,
   "metadata": {},
   "outputs": [],
   "source": [
    "# Power transmitting capacity\n",
    "\n",
    "P_cap = n_p * F * I / (126000 * k_o * k_s * k_m * k_v) * ( (S_ac * D_p * Z_np) / (safety_factor * k_R * C_p) ) ** 2\n",
    "\n",
    "print(f\"P_cap = {P_cap:.4f} HP\")"
   ]
  }
 ],
 "metadata": {
  "kernelspec": {
   "display_name": "Python 3",
   "language": "python",
   "name": "python3"
  },
  "language_info": {
   "codemirror_mode": {
    "name": "ipython",
    "version": 3
   },
   "file_extension": ".py",
   "mimetype": "text/x-python",
   "name": "python",
   "nbconvert_exporter": "python",
   "pygments_lexer": "ipython3",
   "version": "3.11.9"
  }
 },
 "nbformat": 4,
 "nbformat_minor": 2
}
